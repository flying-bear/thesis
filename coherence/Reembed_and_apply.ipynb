{
  "nbformat": 4,
  "nbformat_minor": 0,
  "metadata": {
    "colab": {
      "name": "Reembed and apply.ipynb",
      "provenance": [],
      "collapsed_sections": [
        "k41nNb1p1Ved"
      ],
      "include_colab_link": true
    },
    "kernelspec": {
      "name": "python3",
      "display_name": "Python 3"
    },
    "widgets": {
      "application/vnd.jupyter.widget-state+json": {
        "7763894f3321475c8afabead5614a5c8": {
          "model_module": "@jupyter-widgets/controls",
          "model_name": "HBoxModel",
          "state": {
            "_view_name": "HBoxView",
            "_dom_classes": [],
            "_model_name": "HBoxModel",
            "_view_module": "@jupyter-widgets/controls",
            "_model_module_version": "1.5.0",
            "_view_count": null,
            "_view_module_version": "1.5.0",
            "box_style": "",
            "layout": "IPY_MODEL_25a2dd994bc342d290912d73921d3fbc",
            "_model_module": "@jupyter-widgets/controls",
            "children": [
              "IPY_MODEL_97fb37a7df9042518aed6281890d4da7",
              "IPY_MODEL_629e905884884b4ca0bc3a434c46f272"
            ]
          }
        },
        "25a2dd994bc342d290912d73921d3fbc": {
          "model_module": "@jupyter-widgets/base",
          "model_name": "LayoutModel",
          "state": {
            "_view_name": "LayoutView",
            "grid_template_rows": null,
            "right": null,
            "justify_content": null,
            "_view_module": "@jupyter-widgets/base",
            "overflow": null,
            "_model_module_version": "1.2.0",
            "_view_count": null,
            "flex_flow": null,
            "width": null,
            "min_width": null,
            "border": null,
            "align_items": null,
            "bottom": null,
            "_model_module": "@jupyter-widgets/base",
            "top": null,
            "grid_column": null,
            "overflow_y": null,
            "overflow_x": null,
            "grid_auto_flow": null,
            "grid_area": null,
            "grid_template_columns": null,
            "flex": null,
            "_model_name": "LayoutModel",
            "justify_items": null,
            "grid_row": null,
            "max_height": null,
            "align_content": null,
            "visibility": null,
            "align_self": null,
            "height": null,
            "min_height": null,
            "padding": null,
            "grid_auto_rows": null,
            "grid_gap": null,
            "max_width": null,
            "order": null,
            "_view_module_version": "1.2.0",
            "grid_template_areas": null,
            "object_position": null,
            "object_fit": null,
            "grid_auto_columns": null,
            "margin": null,
            "display": null,
            "left": null
          }
        },
        "97fb37a7df9042518aed6281890d4da7": {
          "model_module": "@jupyter-widgets/controls",
          "model_name": "FloatProgressModel",
          "state": {
            "_view_name": "ProgressView",
            "style": "IPY_MODEL_387bbf495a44420b86a76b9f05323e16",
            "_dom_classes": [],
            "description": "100%",
            "_model_name": "FloatProgressModel",
            "bar_style": "success",
            "max": 41,
            "_view_module": "@jupyter-widgets/controls",
            "_model_module_version": "1.5.0",
            "value": 41,
            "_view_count": null,
            "_view_module_version": "1.5.0",
            "orientation": "horizontal",
            "min": 0,
            "description_tooltip": null,
            "_model_module": "@jupyter-widgets/controls",
            "layout": "IPY_MODEL_d574752021784bd793616548af097301"
          }
        },
        "629e905884884b4ca0bc3a434c46f272": {
          "model_module": "@jupyter-widgets/controls",
          "model_name": "HTMLModel",
          "state": {
            "_view_name": "HTMLView",
            "style": "IPY_MODEL_14382a99823d4af999c0eab394a5e9d0",
            "_dom_classes": [],
            "description": "",
            "_model_name": "HTMLModel",
            "placeholder": "​",
            "_view_module": "@jupyter-widgets/controls",
            "_model_module_version": "1.5.0",
            "value": " 41/41 [07:36&lt;00:00, 11.14s/it]",
            "_view_count": null,
            "_view_module_version": "1.5.0",
            "description_tooltip": null,
            "_model_module": "@jupyter-widgets/controls",
            "layout": "IPY_MODEL_6bc1067c57134e88862e237713833f0c"
          }
        },
        "387bbf495a44420b86a76b9f05323e16": {
          "model_module": "@jupyter-widgets/controls",
          "model_name": "ProgressStyleModel",
          "state": {
            "_view_name": "StyleView",
            "_model_name": "ProgressStyleModel",
            "description_width": "initial",
            "_view_module": "@jupyter-widgets/base",
            "_model_module_version": "1.5.0",
            "_view_count": null,
            "_view_module_version": "1.2.0",
            "bar_color": null,
            "_model_module": "@jupyter-widgets/controls"
          }
        },
        "d574752021784bd793616548af097301": {
          "model_module": "@jupyter-widgets/base",
          "model_name": "LayoutModel",
          "state": {
            "_view_name": "LayoutView",
            "grid_template_rows": null,
            "right": null,
            "justify_content": null,
            "_view_module": "@jupyter-widgets/base",
            "overflow": null,
            "_model_module_version": "1.2.0",
            "_view_count": null,
            "flex_flow": null,
            "width": null,
            "min_width": null,
            "border": null,
            "align_items": null,
            "bottom": null,
            "_model_module": "@jupyter-widgets/base",
            "top": null,
            "grid_column": null,
            "overflow_y": null,
            "overflow_x": null,
            "grid_auto_flow": null,
            "grid_area": null,
            "grid_template_columns": null,
            "flex": null,
            "_model_name": "LayoutModel",
            "justify_items": null,
            "grid_row": null,
            "max_height": null,
            "align_content": null,
            "visibility": null,
            "align_self": null,
            "height": null,
            "min_height": null,
            "padding": null,
            "grid_auto_rows": null,
            "grid_gap": null,
            "max_width": null,
            "order": null,
            "_view_module_version": "1.2.0",
            "grid_template_areas": null,
            "object_position": null,
            "object_fit": null,
            "grid_auto_columns": null,
            "margin": null,
            "display": null,
            "left": null
          }
        },
        "14382a99823d4af999c0eab394a5e9d0": {
          "model_module": "@jupyter-widgets/controls",
          "model_name": "DescriptionStyleModel",
          "state": {
            "_view_name": "StyleView",
            "_model_name": "DescriptionStyleModel",
            "description_width": "",
            "_view_module": "@jupyter-widgets/base",
            "_model_module_version": "1.5.0",
            "_view_count": null,
            "_view_module_version": "1.2.0",
            "_model_module": "@jupyter-widgets/controls"
          }
        },
        "6bc1067c57134e88862e237713833f0c": {
          "model_module": "@jupyter-widgets/base",
          "model_name": "LayoutModel",
          "state": {
            "_view_name": "LayoutView",
            "grid_template_rows": null,
            "right": null,
            "justify_content": null,
            "_view_module": "@jupyter-widgets/base",
            "overflow": null,
            "_model_module_version": "1.2.0",
            "_view_count": null,
            "flex_flow": null,
            "width": null,
            "min_width": null,
            "border": null,
            "align_items": null,
            "bottom": null,
            "_model_module": "@jupyter-widgets/base",
            "top": null,
            "grid_column": null,
            "overflow_y": null,
            "overflow_x": null,
            "grid_auto_flow": null,
            "grid_area": null,
            "grid_template_columns": null,
            "flex": null,
            "_model_name": "LayoutModel",
            "justify_items": null,
            "grid_row": null,
            "max_height": null,
            "align_content": null,
            "visibility": null,
            "align_self": null,
            "height": null,
            "min_height": null,
            "padding": null,
            "grid_auto_rows": null,
            "grid_gap": null,
            "max_width": null,
            "order": null,
            "_view_module_version": "1.2.0",
            "grid_template_areas": null,
            "object_position": null,
            "object_fit": null,
            "grid_auto_columns": null,
            "margin": null,
            "display": null,
            "left": null
          }
        },
        "340400805f1f43059126d97d056bb6db": {
          "model_module": "@jupyter-widgets/controls",
          "model_name": "HBoxModel",
          "state": {
            "_view_name": "HBoxView",
            "_dom_classes": [],
            "_model_name": "HBoxModel",
            "_view_module": "@jupyter-widgets/controls",
            "_model_module_version": "1.5.0",
            "_view_count": null,
            "_view_module_version": "1.5.0",
            "box_style": "",
            "layout": "IPY_MODEL_5ae661108df4449080e03738ce109ab9",
            "_model_module": "@jupyter-widgets/controls",
            "children": [
              "IPY_MODEL_02300a3f72304b43b39d0cceed9a3dc8",
              "IPY_MODEL_206e4c65ccaf460ea3de2a33059a6e20"
            ]
          }
        },
        "5ae661108df4449080e03738ce109ab9": {
          "model_module": "@jupyter-widgets/base",
          "model_name": "LayoutModel",
          "state": {
            "_view_name": "LayoutView",
            "grid_template_rows": null,
            "right": null,
            "justify_content": null,
            "_view_module": "@jupyter-widgets/base",
            "overflow": null,
            "_model_module_version": "1.2.0",
            "_view_count": null,
            "flex_flow": null,
            "width": null,
            "min_width": null,
            "border": null,
            "align_items": null,
            "bottom": null,
            "_model_module": "@jupyter-widgets/base",
            "top": null,
            "grid_column": null,
            "overflow_y": null,
            "overflow_x": null,
            "grid_auto_flow": null,
            "grid_area": null,
            "grid_template_columns": null,
            "flex": null,
            "_model_name": "LayoutModel",
            "justify_items": null,
            "grid_row": null,
            "max_height": null,
            "align_content": null,
            "visibility": null,
            "align_self": null,
            "height": null,
            "min_height": null,
            "padding": null,
            "grid_auto_rows": null,
            "grid_gap": null,
            "max_width": null,
            "order": null,
            "_view_module_version": "1.2.0",
            "grid_template_areas": null,
            "object_position": null,
            "object_fit": null,
            "grid_auto_columns": null,
            "margin": null,
            "display": null,
            "left": null
          }
        },
        "02300a3f72304b43b39d0cceed9a3dc8": {
          "model_module": "@jupyter-widgets/controls",
          "model_name": "FloatProgressModel",
          "state": {
            "_view_name": "ProgressView",
            "style": "IPY_MODEL_71407d36e3ac4d97a220c7e807bc7249",
            "_dom_classes": [],
            "description": "100%",
            "_model_name": "FloatProgressModel",
            "bar_style": "success",
            "max": 41,
            "_view_module": "@jupyter-widgets/controls",
            "_model_module_version": "1.5.0",
            "value": 41,
            "_view_count": null,
            "_view_module_version": "1.5.0",
            "orientation": "horizontal",
            "min": 0,
            "description_tooltip": null,
            "_model_module": "@jupyter-widgets/controls",
            "layout": "IPY_MODEL_5eefbfebd1ab429aab186217e801fee0"
          }
        },
        "206e4c65ccaf460ea3de2a33059a6e20": {
          "model_module": "@jupyter-widgets/controls",
          "model_name": "HTMLModel",
          "state": {
            "_view_name": "HTMLView",
            "style": "IPY_MODEL_318081c86ec6498592b9a881e7b57ae1",
            "_dom_classes": [],
            "description": "",
            "_model_name": "HTMLModel",
            "placeholder": "​",
            "_view_module": "@jupyter-widgets/controls",
            "_model_module_version": "1.5.0",
            "value": " 41/41 [00:45&lt;00:00,  1.10s/it]",
            "_view_count": null,
            "_view_module_version": "1.5.0",
            "description_tooltip": null,
            "_model_module": "@jupyter-widgets/controls",
            "layout": "IPY_MODEL_53d148d9bec1464eb9438f9f4765a1f7"
          }
        },
        "71407d36e3ac4d97a220c7e807bc7249": {
          "model_module": "@jupyter-widgets/controls",
          "model_name": "ProgressStyleModel",
          "state": {
            "_view_name": "StyleView",
            "_model_name": "ProgressStyleModel",
            "description_width": "initial",
            "_view_module": "@jupyter-widgets/base",
            "_model_module_version": "1.5.0",
            "_view_count": null,
            "_view_module_version": "1.2.0",
            "bar_color": null,
            "_model_module": "@jupyter-widgets/controls"
          }
        },
        "5eefbfebd1ab429aab186217e801fee0": {
          "model_module": "@jupyter-widgets/base",
          "model_name": "LayoutModel",
          "state": {
            "_view_name": "LayoutView",
            "grid_template_rows": null,
            "right": null,
            "justify_content": null,
            "_view_module": "@jupyter-widgets/base",
            "overflow": null,
            "_model_module_version": "1.2.0",
            "_view_count": null,
            "flex_flow": null,
            "width": null,
            "min_width": null,
            "border": null,
            "align_items": null,
            "bottom": null,
            "_model_module": "@jupyter-widgets/base",
            "top": null,
            "grid_column": null,
            "overflow_y": null,
            "overflow_x": null,
            "grid_auto_flow": null,
            "grid_area": null,
            "grid_template_columns": null,
            "flex": null,
            "_model_name": "LayoutModel",
            "justify_items": null,
            "grid_row": null,
            "max_height": null,
            "align_content": null,
            "visibility": null,
            "align_self": null,
            "height": null,
            "min_height": null,
            "padding": null,
            "grid_auto_rows": null,
            "grid_gap": null,
            "max_width": null,
            "order": null,
            "_view_module_version": "1.2.0",
            "grid_template_areas": null,
            "object_position": null,
            "object_fit": null,
            "grid_auto_columns": null,
            "margin": null,
            "display": null,
            "left": null
          }
        },
        "318081c86ec6498592b9a881e7b57ae1": {
          "model_module": "@jupyter-widgets/controls",
          "model_name": "DescriptionStyleModel",
          "state": {
            "_view_name": "StyleView",
            "_model_name": "DescriptionStyleModel",
            "description_width": "",
            "_view_module": "@jupyter-widgets/base",
            "_model_module_version": "1.5.0",
            "_view_count": null,
            "_view_module_version": "1.2.0",
            "_model_module": "@jupyter-widgets/controls"
          }
        },
        "53d148d9bec1464eb9438f9f4765a1f7": {
          "model_module": "@jupyter-widgets/base",
          "model_name": "LayoutModel",
          "state": {
            "_view_name": "LayoutView",
            "grid_template_rows": null,
            "right": null,
            "justify_content": null,
            "_view_module": "@jupyter-widgets/base",
            "overflow": null,
            "_model_module_version": "1.2.0",
            "_view_count": null,
            "flex_flow": null,
            "width": null,
            "min_width": null,
            "border": null,
            "align_items": null,
            "bottom": null,
            "_model_module": "@jupyter-widgets/base",
            "top": null,
            "grid_column": null,
            "overflow_y": null,
            "overflow_x": null,
            "grid_auto_flow": null,
            "grid_area": null,
            "grid_template_columns": null,
            "flex": null,
            "_model_name": "LayoutModel",
            "justify_items": null,
            "grid_row": null,
            "max_height": null,
            "align_content": null,
            "visibility": null,
            "align_self": null,
            "height": null,
            "min_height": null,
            "padding": null,
            "grid_auto_rows": null,
            "grid_gap": null,
            "max_width": null,
            "order": null,
            "_view_module_version": "1.2.0",
            "grid_template_areas": null,
            "object_position": null,
            "object_fit": null,
            "grid_auto_columns": null,
            "margin": null,
            "display": null,
            "left": null
          }
        },
        "976562d8cfd34ce5b1153181e0aeb2fb": {
          "model_module": "@jupyter-widgets/controls",
          "model_name": "HBoxModel",
          "state": {
            "_view_name": "HBoxView",
            "_dom_classes": [],
            "_model_name": "HBoxModel",
            "_view_module": "@jupyter-widgets/controls",
            "_model_module_version": "1.5.0",
            "_view_count": null,
            "_view_module_version": "1.5.0",
            "box_style": "",
            "layout": "IPY_MODEL_ce0838c120c24e10a80e7abf7467b0c0",
            "_model_module": "@jupyter-widgets/controls",
            "children": [
              "IPY_MODEL_eaf945053d2540b9b9c8476f1e931af8",
              "IPY_MODEL_ffac209e9ccb46fe914724247b81f359"
            ]
          }
        },
        "ce0838c120c24e10a80e7abf7467b0c0": {
          "model_module": "@jupyter-widgets/base",
          "model_name": "LayoutModel",
          "state": {
            "_view_name": "LayoutView",
            "grid_template_rows": null,
            "right": null,
            "justify_content": null,
            "_view_module": "@jupyter-widgets/base",
            "overflow": null,
            "_model_module_version": "1.2.0",
            "_view_count": null,
            "flex_flow": null,
            "width": null,
            "min_width": null,
            "border": null,
            "align_items": null,
            "bottom": null,
            "_model_module": "@jupyter-widgets/base",
            "top": null,
            "grid_column": null,
            "overflow_y": null,
            "overflow_x": null,
            "grid_auto_flow": null,
            "grid_area": null,
            "grid_template_columns": null,
            "flex": null,
            "_model_name": "LayoutModel",
            "justify_items": null,
            "grid_row": null,
            "max_height": null,
            "align_content": null,
            "visibility": null,
            "align_self": null,
            "height": null,
            "min_height": null,
            "padding": null,
            "grid_auto_rows": null,
            "grid_gap": null,
            "max_width": null,
            "order": null,
            "_view_module_version": "1.2.0",
            "grid_template_areas": null,
            "object_position": null,
            "object_fit": null,
            "grid_auto_columns": null,
            "margin": null,
            "display": null,
            "left": null
          }
        },
        "eaf945053d2540b9b9c8476f1e931af8": {
          "model_module": "@jupyter-widgets/controls",
          "model_name": "FloatProgressModel",
          "state": {
            "_view_name": "ProgressView",
            "style": "IPY_MODEL_ec81ec36ef80447eae9779a8707e5c43",
            "_dom_classes": [],
            "description": "100%",
            "_model_name": "FloatProgressModel",
            "bar_style": "success",
            "max": 41,
            "_view_module": "@jupyter-widgets/controls",
            "_model_module_version": "1.5.0",
            "value": 41,
            "_view_count": null,
            "_view_module_version": "1.5.0",
            "orientation": "horizontal",
            "min": 0,
            "description_tooltip": null,
            "_model_module": "@jupyter-widgets/controls",
            "layout": "IPY_MODEL_86264b1751a04fdf88412c80b524c99b"
          }
        },
        "ffac209e9ccb46fe914724247b81f359": {
          "model_module": "@jupyter-widgets/controls",
          "model_name": "HTMLModel",
          "state": {
            "_view_name": "HTMLView",
            "style": "IPY_MODEL_fb1f61e60e5440958606eb3420945ea8",
            "_dom_classes": [],
            "description": "",
            "_model_name": "HTMLModel",
            "placeholder": "​",
            "_view_module": "@jupyter-widgets/controls",
            "_model_module_version": "1.5.0",
            "value": " 41/41 [00:45&lt;00:00,  1.10s/it]",
            "_view_count": null,
            "_view_module_version": "1.5.0",
            "description_tooltip": null,
            "_model_module": "@jupyter-widgets/controls",
            "layout": "IPY_MODEL_72f0ce3a6e284ea39d937c133b49de07"
          }
        },
        "ec81ec36ef80447eae9779a8707e5c43": {
          "model_module": "@jupyter-widgets/controls",
          "model_name": "ProgressStyleModel",
          "state": {
            "_view_name": "StyleView",
            "_model_name": "ProgressStyleModel",
            "description_width": "initial",
            "_view_module": "@jupyter-widgets/base",
            "_model_module_version": "1.5.0",
            "_view_count": null,
            "_view_module_version": "1.2.0",
            "bar_color": null,
            "_model_module": "@jupyter-widgets/controls"
          }
        },
        "86264b1751a04fdf88412c80b524c99b": {
          "model_module": "@jupyter-widgets/base",
          "model_name": "LayoutModel",
          "state": {
            "_view_name": "LayoutView",
            "grid_template_rows": null,
            "right": null,
            "justify_content": null,
            "_view_module": "@jupyter-widgets/base",
            "overflow": null,
            "_model_module_version": "1.2.0",
            "_view_count": null,
            "flex_flow": null,
            "width": null,
            "min_width": null,
            "border": null,
            "align_items": null,
            "bottom": null,
            "_model_module": "@jupyter-widgets/base",
            "top": null,
            "grid_column": null,
            "overflow_y": null,
            "overflow_x": null,
            "grid_auto_flow": null,
            "grid_area": null,
            "grid_template_columns": null,
            "flex": null,
            "_model_name": "LayoutModel",
            "justify_items": null,
            "grid_row": null,
            "max_height": null,
            "align_content": null,
            "visibility": null,
            "align_self": null,
            "height": null,
            "min_height": null,
            "padding": null,
            "grid_auto_rows": null,
            "grid_gap": null,
            "max_width": null,
            "order": null,
            "_view_module_version": "1.2.0",
            "grid_template_areas": null,
            "object_position": null,
            "object_fit": null,
            "grid_auto_columns": null,
            "margin": null,
            "display": null,
            "left": null
          }
        },
        "fb1f61e60e5440958606eb3420945ea8": {
          "model_module": "@jupyter-widgets/controls",
          "model_name": "DescriptionStyleModel",
          "state": {
            "_view_name": "StyleView",
            "_model_name": "DescriptionStyleModel",
            "description_width": "",
            "_view_module": "@jupyter-widgets/base",
            "_model_module_version": "1.5.0",
            "_view_count": null,
            "_view_module_version": "1.2.0",
            "_model_module": "@jupyter-widgets/controls"
          }
        },
        "72f0ce3a6e284ea39d937c133b49de07": {
          "model_module": "@jupyter-widgets/base",
          "model_name": "LayoutModel",
          "state": {
            "_view_name": "LayoutView",
            "grid_template_rows": null,
            "right": null,
            "justify_content": null,
            "_view_module": "@jupyter-widgets/base",
            "overflow": null,
            "_model_module_version": "1.2.0",
            "_view_count": null,
            "flex_flow": null,
            "width": null,
            "min_width": null,
            "border": null,
            "align_items": null,
            "bottom": null,
            "_model_module": "@jupyter-widgets/base",
            "top": null,
            "grid_column": null,
            "overflow_y": null,
            "overflow_x": null,
            "grid_auto_flow": null,
            "grid_area": null,
            "grid_template_columns": null,
            "flex": null,
            "_model_name": "LayoutModel",
            "justify_items": null,
            "grid_row": null,
            "max_height": null,
            "align_content": null,
            "visibility": null,
            "align_self": null,
            "height": null,
            "min_height": null,
            "padding": null,
            "grid_auto_rows": null,
            "grid_gap": null,
            "max_width": null,
            "order": null,
            "_view_module_version": "1.2.0",
            "grid_template_areas": null,
            "object_position": null,
            "object_fit": null,
            "grid_auto_columns": null,
            "margin": null,
            "display": null,
            "left": null
          }
        },
        "af464df2238a4ca2845eef8c20826e3c": {
          "model_module": "@jupyter-widgets/controls",
          "model_name": "HBoxModel",
          "state": {
            "_view_name": "HBoxView",
            "_dom_classes": [],
            "_model_name": "HBoxModel",
            "_view_module": "@jupyter-widgets/controls",
            "_model_module_version": "1.5.0",
            "_view_count": null,
            "_view_module_version": "1.5.0",
            "box_style": "",
            "layout": "IPY_MODEL_0abb226e09334660b2b8a78acccf720f",
            "_model_module": "@jupyter-widgets/controls",
            "children": [
              "IPY_MODEL_f3dbb046fd1a4e3e9bebb5909dfce871",
              "IPY_MODEL_471af56eab1d4a51a39c91ad9fee30fb"
            ]
          }
        },
        "0abb226e09334660b2b8a78acccf720f": {
          "model_module": "@jupyter-widgets/base",
          "model_name": "LayoutModel",
          "state": {
            "_view_name": "LayoutView",
            "grid_template_rows": null,
            "right": null,
            "justify_content": null,
            "_view_module": "@jupyter-widgets/base",
            "overflow": null,
            "_model_module_version": "1.2.0",
            "_view_count": null,
            "flex_flow": null,
            "width": null,
            "min_width": null,
            "border": null,
            "align_items": null,
            "bottom": null,
            "_model_module": "@jupyter-widgets/base",
            "top": null,
            "grid_column": null,
            "overflow_y": null,
            "overflow_x": null,
            "grid_auto_flow": null,
            "grid_area": null,
            "grid_template_columns": null,
            "flex": null,
            "_model_name": "LayoutModel",
            "justify_items": null,
            "grid_row": null,
            "max_height": null,
            "align_content": null,
            "visibility": null,
            "align_self": null,
            "height": null,
            "min_height": null,
            "padding": null,
            "grid_auto_rows": null,
            "grid_gap": null,
            "max_width": null,
            "order": null,
            "_view_module_version": "1.2.0",
            "grid_template_areas": null,
            "object_position": null,
            "object_fit": null,
            "grid_auto_columns": null,
            "margin": null,
            "display": null,
            "left": null
          }
        },
        "f3dbb046fd1a4e3e9bebb5909dfce871": {
          "model_module": "@jupyter-widgets/controls",
          "model_name": "FloatProgressModel",
          "state": {
            "_view_name": "ProgressView",
            "style": "IPY_MODEL_57b8def35dea420aa0ba3455ec2926f4",
            "_dom_classes": [],
            "description": "100%",
            "_model_name": "FloatProgressModel",
            "bar_style": "success",
            "max": 41,
            "_view_module": "@jupyter-widgets/controls",
            "_model_module_version": "1.5.0",
            "value": 41,
            "_view_count": null,
            "_view_module_version": "1.5.0",
            "orientation": "horizontal",
            "min": 0,
            "description_tooltip": null,
            "_model_module": "@jupyter-widgets/controls",
            "layout": "IPY_MODEL_f660a6a7b7f34eb98d5d66b3d5cb9ce6"
          }
        },
        "471af56eab1d4a51a39c91ad9fee30fb": {
          "model_module": "@jupyter-widgets/controls",
          "model_name": "HTMLModel",
          "state": {
            "_view_name": "HTMLView",
            "style": "IPY_MODEL_10fa1c76fff14f1e8861e5a9c4dcfa6d",
            "_dom_classes": [],
            "description": "",
            "_model_name": "HTMLModel",
            "placeholder": "​",
            "_view_module": "@jupyter-widgets/controls",
            "_model_module_version": "1.5.0",
            "value": " 41/41 [00:44&lt;00:00,  1.10s/it]",
            "_view_count": null,
            "_view_module_version": "1.5.0",
            "description_tooltip": null,
            "_model_module": "@jupyter-widgets/controls",
            "layout": "IPY_MODEL_9708213a4ed3496395e5c43f83bdbf2f"
          }
        },
        "57b8def35dea420aa0ba3455ec2926f4": {
          "model_module": "@jupyter-widgets/controls",
          "model_name": "ProgressStyleModel",
          "state": {
            "_view_name": "StyleView",
            "_model_name": "ProgressStyleModel",
            "description_width": "initial",
            "_view_module": "@jupyter-widgets/base",
            "_model_module_version": "1.5.0",
            "_view_count": null,
            "_view_module_version": "1.2.0",
            "bar_color": null,
            "_model_module": "@jupyter-widgets/controls"
          }
        },
        "f660a6a7b7f34eb98d5d66b3d5cb9ce6": {
          "model_module": "@jupyter-widgets/base",
          "model_name": "LayoutModel",
          "state": {
            "_view_name": "LayoutView",
            "grid_template_rows": null,
            "right": null,
            "justify_content": null,
            "_view_module": "@jupyter-widgets/base",
            "overflow": null,
            "_model_module_version": "1.2.0",
            "_view_count": null,
            "flex_flow": null,
            "width": null,
            "min_width": null,
            "border": null,
            "align_items": null,
            "bottom": null,
            "_model_module": "@jupyter-widgets/base",
            "top": null,
            "grid_column": null,
            "overflow_y": null,
            "overflow_x": null,
            "grid_auto_flow": null,
            "grid_area": null,
            "grid_template_columns": null,
            "flex": null,
            "_model_name": "LayoutModel",
            "justify_items": null,
            "grid_row": null,
            "max_height": null,
            "align_content": null,
            "visibility": null,
            "align_self": null,
            "height": null,
            "min_height": null,
            "padding": null,
            "grid_auto_rows": null,
            "grid_gap": null,
            "max_width": null,
            "order": null,
            "_view_module_version": "1.2.0",
            "grid_template_areas": null,
            "object_position": null,
            "object_fit": null,
            "grid_auto_columns": null,
            "margin": null,
            "display": null,
            "left": null
          }
        },
        "10fa1c76fff14f1e8861e5a9c4dcfa6d": {
          "model_module": "@jupyter-widgets/controls",
          "model_name": "DescriptionStyleModel",
          "state": {
            "_view_name": "StyleView",
            "_model_name": "DescriptionStyleModel",
            "description_width": "",
            "_view_module": "@jupyter-widgets/base",
            "_model_module_version": "1.5.0",
            "_view_count": null,
            "_view_module_version": "1.2.0",
            "_model_module": "@jupyter-widgets/controls"
          }
        },
        "9708213a4ed3496395e5c43f83bdbf2f": {
          "model_module": "@jupyter-widgets/base",
          "model_name": "LayoutModel",
          "state": {
            "_view_name": "LayoutView",
            "grid_template_rows": null,
            "right": null,
            "justify_content": null,
            "_view_module": "@jupyter-widgets/base",
            "overflow": null,
            "_model_module_version": "1.2.0",
            "_view_count": null,
            "flex_flow": null,
            "width": null,
            "min_width": null,
            "border": null,
            "align_items": null,
            "bottom": null,
            "_model_module": "@jupyter-widgets/base",
            "top": null,
            "grid_column": null,
            "overflow_y": null,
            "overflow_x": null,
            "grid_auto_flow": null,
            "grid_area": null,
            "grid_template_columns": null,
            "flex": null,
            "_model_name": "LayoutModel",
            "justify_items": null,
            "grid_row": null,
            "max_height": null,
            "align_content": null,
            "visibility": null,
            "align_self": null,
            "height": null,
            "min_height": null,
            "padding": null,
            "grid_auto_rows": null,
            "grid_gap": null,
            "max_width": null,
            "order": null,
            "_view_module_version": "1.2.0",
            "grid_template_areas": null,
            "object_position": null,
            "object_fit": null,
            "grid_auto_columns": null,
            "margin": null,
            "display": null,
            "left": null
          }
        },
        "422ccc3997e847529e9ad011bc468256": {
          "model_module": "@jupyter-widgets/controls",
          "model_name": "HBoxModel",
          "state": {
            "_view_name": "HBoxView",
            "_dom_classes": [],
            "_model_name": "HBoxModel",
            "_view_module": "@jupyter-widgets/controls",
            "_model_module_version": "1.5.0",
            "_view_count": null,
            "_view_module_version": "1.5.0",
            "box_style": "",
            "layout": "IPY_MODEL_6493c6d8c796453c9b4fe286f1627a78",
            "_model_module": "@jupyter-widgets/controls",
            "children": [
              "IPY_MODEL_25300899730d40418fd85c58d1b1615d",
              "IPY_MODEL_72687c23154a4e3fa952fd85d33cecaf"
            ]
          }
        },
        "6493c6d8c796453c9b4fe286f1627a78": {
          "model_module": "@jupyter-widgets/base",
          "model_name": "LayoutModel",
          "state": {
            "_view_name": "LayoutView",
            "grid_template_rows": null,
            "right": null,
            "justify_content": null,
            "_view_module": "@jupyter-widgets/base",
            "overflow": null,
            "_model_module_version": "1.2.0",
            "_view_count": null,
            "flex_flow": null,
            "width": null,
            "min_width": null,
            "border": null,
            "align_items": null,
            "bottom": null,
            "_model_module": "@jupyter-widgets/base",
            "top": null,
            "grid_column": null,
            "overflow_y": null,
            "overflow_x": null,
            "grid_auto_flow": null,
            "grid_area": null,
            "grid_template_columns": null,
            "flex": null,
            "_model_name": "LayoutModel",
            "justify_items": null,
            "grid_row": null,
            "max_height": null,
            "align_content": null,
            "visibility": null,
            "align_self": null,
            "height": null,
            "min_height": null,
            "padding": null,
            "grid_auto_rows": null,
            "grid_gap": null,
            "max_width": null,
            "order": null,
            "_view_module_version": "1.2.0",
            "grid_template_areas": null,
            "object_position": null,
            "object_fit": null,
            "grid_auto_columns": null,
            "margin": null,
            "display": null,
            "left": null
          }
        },
        "25300899730d40418fd85c58d1b1615d": {
          "model_module": "@jupyter-widgets/controls",
          "model_name": "FloatProgressModel",
          "state": {
            "_view_name": "ProgressView",
            "style": "IPY_MODEL_3b7bf746137642baa46b28cc40b4e3c8",
            "_dom_classes": [],
            "description": "100%",
            "_model_name": "FloatProgressModel",
            "bar_style": "success",
            "max": 41,
            "_view_module": "@jupyter-widgets/controls",
            "_model_module_version": "1.5.0",
            "value": 41,
            "_view_count": null,
            "_view_module_version": "1.5.0",
            "orientation": "horizontal",
            "min": 0,
            "description_tooltip": null,
            "_model_module": "@jupyter-widgets/controls",
            "layout": "IPY_MODEL_bef20fcfea1c436ab6df869411ff90a7"
          }
        },
        "72687c23154a4e3fa952fd85d33cecaf": {
          "model_module": "@jupyter-widgets/controls",
          "model_name": "HTMLModel",
          "state": {
            "_view_name": "HTMLView",
            "style": "IPY_MODEL_cd78720c98d640659e5eeb39ac711450",
            "_dom_classes": [],
            "description": "",
            "_model_name": "HTMLModel",
            "placeholder": "​",
            "_view_module": "@jupyter-widgets/controls",
            "_model_module_version": "1.5.0",
            "value": " 41/41 [00:22&lt;00:00,  1.81it/s]",
            "_view_count": null,
            "_view_module_version": "1.5.0",
            "description_tooltip": null,
            "_model_module": "@jupyter-widgets/controls",
            "layout": "IPY_MODEL_d1434fdf21d8485d90a0679d41642eff"
          }
        },
        "3b7bf746137642baa46b28cc40b4e3c8": {
          "model_module": "@jupyter-widgets/controls",
          "model_name": "ProgressStyleModel",
          "state": {
            "_view_name": "StyleView",
            "_model_name": "ProgressStyleModel",
            "description_width": "initial",
            "_view_module": "@jupyter-widgets/base",
            "_model_module_version": "1.5.0",
            "_view_count": null,
            "_view_module_version": "1.2.0",
            "bar_color": null,
            "_model_module": "@jupyter-widgets/controls"
          }
        },
        "bef20fcfea1c436ab6df869411ff90a7": {
          "model_module": "@jupyter-widgets/base",
          "model_name": "LayoutModel",
          "state": {
            "_view_name": "LayoutView",
            "grid_template_rows": null,
            "right": null,
            "justify_content": null,
            "_view_module": "@jupyter-widgets/base",
            "overflow": null,
            "_model_module_version": "1.2.0",
            "_view_count": null,
            "flex_flow": null,
            "width": null,
            "min_width": null,
            "border": null,
            "align_items": null,
            "bottom": null,
            "_model_module": "@jupyter-widgets/base",
            "top": null,
            "grid_column": null,
            "overflow_y": null,
            "overflow_x": null,
            "grid_auto_flow": null,
            "grid_area": null,
            "grid_template_columns": null,
            "flex": null,
            "_model_name": "LayoutModel",
            "justify_items": null,
            "grid_row": null,
            "max_height": null,
            "align_content": null,
            "visibility": null,
            "align_self": null,
            "height": null,
            "min_height": null,
            "padding": null,
            "grid_auto_rows": null,
            "grid_gap": null,
            "max_width": null,
            "order": null,
            "_view_module_version": "1.2.0",
            "grid_template_areas": null,
            "object_position": null,
            "object_fit": null,
            "grid_auto_columns": null,
            "margin": null,
            "display": null,
            "left": null
          }
        },
        "cd78720c98d640659e5eeb39ac711450": {
          "model_module": "@jupyter-widgets/controls",
          "model_name": "DescriptionStyleModel",
          "state": {
            "_view_name": "StyleView",
            "_model_name": "DescriptionStyleModel",
            "description_width": "",
            "_view_module": "@jupyter-widgets/base",
            "_model_module_version": "1.5.0",
            "_view_count": null,
            "_view_module_version": "1.2.0",
            "_model_module": "@jupyter-widgets/controls"
          }
        },
        "d1434fdf21d8485d90a0679d41642eff": {
          "model_module": "@jupyter-widgets/base",
          "model_name": "LayoutModel",
          "state": {
            "_view_name": "LayoutView",
            "grid_template_rows": null,
            "right": null,
            "justify_content": null,
            "_view_module": "@jupyter-widgets/base",
            "overflow": null,
            "_model_module_version": "1.2.0",
            "_view_count": null,
            "flex_flow": null,
            "width": null,
            "min_width": null,
            "border": null,
            "align_items": null,
            "bottom": null,
            "_model_module": "@jupyter-widgets/base",
            "top": null,
            "grid_column": null,
            "overflow_y": null,
            "overflow_x": null,
            "grid_auto_flow": null,
            "grid_area": null,
            "grid_template_columns": null,
            "flex": null,
            "_model_name": "LayoutModel",
            "justify_items": null,
            "grid_row": null,
            "max_height": null,
            "align_content": null,
            "visibility": null,
            "align_self": null,
            "height": null,
            "min_height": null,
            "padding": null,
            "grid_auto_rows": null,
            "grid_gap": null,
            "max_width": null,
            "order": null,
            "_view_module_version": "1.2.0",
            "grid_template_areas": null,
            "object_position": null,
            "object_fit": null,
            "grid_auto_columns": null,
            "margin": null,
            "display": null,
            "left": null
          }
        },
        "7cba0b8f1ac744c69217191f941d7e10": {
          "model_module": "@jupyter-widgets/controls",
          "model_name": "HBoxModel",
          "state": {
            "_view_name": "HBoxView",
            "_dom_classes": [],
            "_model_name": "HBoxModel",
            "_view_module": "@jupyter-widgets/controls",
            "_model_module_version": "1.5.0",
            "_view_count": null,
            "_view_module_version": "1.5.0",
            "box_style": "",
            "layout": "IPY_MODEL_89c68c7bfd78467499d44bb474f65575",
            "_model_module": "@jupyter-widgets/controls",
            "children": [
              "IPY_MODEL_f222a9ee5f4b4105801c5fdbcc066f3c",
              "IPY_MODEL_b623001b89524d6380892ce1528a8bf7"
            ]
          }
        },
        "89c68c7bfd78467499d44bb474f65575": {
          "model_module": "@jupyter-widgets/base",
          "model_name": "LayoutModel",
          "state": {
            "_view_name": "LayoutView",
            "grid_template_rows": null,
            "right": null,
            "justify_content": null,
            "_view_module": "@jupyter-widgets/base",
            "overflow": null,
            "_model_module_version": "1.2.0",
            "_view_count": null,
            "flex_flow": null,
            "width": null,
            "min_width": null,
            "border": null,
            "align_items": null,
            "bottom": null,
            "_model_module": "@jupyter-widgets/base",
            "top": null,
            "grid_column": null,
            "overflow_y": null,
            "overflow_x": null,
            "grid_auto_flow": null,
            "grid_area": null,
            "grid_template_columns": null,
            "flex": null,
            "_model_name": "LayoutModel",
            "justify_items": null,
            "grid_row": null,
            "max_height": null,
            "align_content": null,
            "visibility": null,
            "align_self": null,
            "height": null,
            "min_height": null,
            "padding": null,
            "grid_auto_rows": null,
            "grid_gap": null,
            "max_width": null,
            "order": null,
            "_view_module_version": "1.2.0",
            "grid_template_areas": null,
            "object_position": null,
            "object_fit": null,
            "grid_auto_columns": null,
            "margin": null,
            "display": null,
            "left": null
          }
        },
        "f222a9ee5f4b4105801c5fdbcc066f3c": {
          "model_module": "@jupyter-widgets/controls",
          "model_name": "FloatProgressModel",
          "state": {
            "_view_name": "ProgressView",
            "style": "IPY_MODEL_98f8af1be4b84427b6d1553d875921e1",
            "_dom_classes": [],
            "description": "100%",
            "_model_name": "FloatProgressModel",
            "bar_style": "success",
            "max": 35,
            "_view_module": "@jupyter-widgets/controls",
            "_model_module_version": "1.5.0",
            "value": 35,
            "_view_count": null,
            "_view_module_version": "1.5.0",
            "orientation": "horizontal",
            "min": 0,
            "description_tooltip": null,
            "_model_module": "@jupyter-widgets/controls",
            "layout": "IPY_MODEL_56189a0f119d41b6a089f878b4280237"
          }
        },
        "b623001b89524d6380892ce1528a8bf7": {
          "model_module": "@jupyter-widgets/controls",
          "model_name": "HTMLModel",
          "state": {
            "_view_name": "HTMLView",
            "style": "IPY_MODEL_79e42b76db424dd3a49148897c42e7c5",
            "_dom_classes": [],
            "description": "",
            "_model_name": "HTMLModel",
            "placeholder": "​",
            "_view_module": "@jupyter-widgets/controls",
            "_model_module_version": "1.5.0",
            "value": " 35/35 [00:21&lt;00:00,  1.64it/s]",
            "_view_count": null,
            "_view_module_version": "1.5.0",
            "description_tooltip": null,
            "_model_module": "@jupyter-widgets/controls",
            "layout": "IPY_MODEL_669c30ed5e9547c192cf8a664b576332"
          }
        },
        "98f8af1be4b84427b6d1553d875921e1": {
          "model_module": "@jupyter-widgets/controls",
          "model_name": "ProgressStyleModel",
          "state": {
            "_view_name": "StyleView",
            "_model_name": "ProgressStyleModel",
            "description_width": "initial",
            "_view_module": "@jupyter-widgets/base",
            "_model_module_version": "1.5.0",
            "_view_count": null,
            "_view_module_version": "1.2.0",
            "bar_color": null,
            "_model_module": "@jupyter-widgets/controls"
          }
        },
        "56189a0f119d41b6a089f878b4280237": {
          "model_module": "@jupyter-widgets/base",
          "model_name": "LayoutModel",
          "state": {
            "_view_name": "LayoutView",
            "grid_template_rows": null,
            "right": null,
            "justify_content": null,
            "_view_module": "@jupyter-widgets/base",
            "overflow": null,
            "_model_module_version": "1.2.0",
            "_view_count": null,
            "flex_flow": null,
            "width": null,
            "min_width": null,
            "border": null,
            "align_items": null,
            "bottom": null,
            "_model_module": "@jupyter-widgets/base",
            "top": null,
            "grid_column": null,
            "overflow_y": null,
            "overflow_x": null,
            "grid_auto_flow": null,
            "grid_area": null,
            "grid_template_columns": null,
            "flex": null,
            "_model_name": "LayoutModel",
            "justify_items": null,
            "grid_row": null,
            "max_height": null,
            "align_content": null,
            "visibility": null,
            "align_self": null,
            "height": null,
            "min_height": null,
            "padding": null,
            "grid_auto_rows": null,
            "grid_gap": null,
            "max_width": null,
            "order": null,
            "_view_module_version": "1.2.0",
            "grid_template_areas": null,
            "object_position": null,
            "object_fit": null,
            "grid_auto_columns": null,
            "margin": null,
            "display": null,
            "left": null
          }
        },
        "79e42b76db424dd3a49148897c42e7c5": {
          "model_module": "@jupyter-widgets/controls",
          "model_name": "DescriptionStyleModel",
          "state": {
            "_view_name": "StyleView",
            "_model_name": "DescriptionStyleModel",
            "description_width": "",
            "_view_module": "@jupyter-widgets/base",
            "_model_module_version": "1.5.0",
            "_view_count": null,
            "_view_module_version": "1.2.0",
            "_model_module": "@jupyter-widgets/controls"
          }
        },
        "669c30ed5e9547c192cf8a664b576332": {
          "model_module": "@jupyter-widgets/base",
          "model_name": "LayoutModel",
          "state": {
            "_view_name": "LayoutView",
            "grid_template_rows": null,
            "right": null,
            "justify_content": null,
            "_view_module": "@jupyter-widgets/base",
            "overflow": null,
            "_model_module_version": "1.2.0",
            "_view_count": null,
            "flex_flow": null,
            "width": null,
            "min_width": null,
            "border": null,
            "align_items": null,
            "bottom": null,
            "_model_module": "@jupyter-widgets/base",
            "top": null,
            "grid_column": null,
            "overflow_y": null,
            "overflow_x": null,
            "grid_auto_flow": null,
            "grid_area": null,
            "grid_template_columns": null,
            "flex": null,
            "_model_name": "LayoutModel",
            "justify_items": null,
            "grid_row": null,
            "max_height": null,
            "align_content": null,
            "visibility": null,
            "align_self": null,
            "height": null,
            "min_height": null,
            "padding": null,
            "grid_auto_rows": null,
            "grid_gap": null,
            "max_width": null,
            "order": null,
            "_view_module_version": "1.2.0",
            "grid_template_areas": null,
            "object_position": null,
            "object_fit": null,
            "grid_auto_columns": null,
            "margin": null,
            "display": null,
            "left": null
          }
        },
        "9c85ddbbf6a54de0b79c048d1728c0d6": {
          "model_module": "@jupyter-widgets/controls",
          "model_name": "HBoxModel",
          "state": {
            "_view_name": "HBoxView",
            "_dom_classes": [],
            "_model_name": "HBoxModel",
            "_view_module": "@jupyter-widgets/controls",
            "_model_module_version": "1.5.0",
            "_view_count": null,
            "_view_module_version": "1.5.0",
            "box_style": "",
            "layout": "IPY_MODEL_8dc1b85484014e5f8e6cf45b070ceb75",
            "_model_module": "@jupyter-widgets/controls",
            "children": [
              "IPY_MODEL_ed7db763f64b4388b5e73bebda68fef4",
              "IPY_MODEL_936ec489002046e2bea21e10d69b0efc"
            ]
          }
        },
        "8dc1b85484014e5f8e6cf45b070ceb75": {
          "model_module": "@jupyter-widgets/base",
          "model_name": "LayoutModel",
          "state": {
            "_view_name": "LayoutView",
            "grid_template_rows": null,
            "right": null,
            "justify_content": null,
            "_view_module": "@jupyter-widgets/base",
            "overflow": null,
            "_model_module_version": "1.2.0",
            "_view_count": null,
            "flex_flow": null,
            "width": null,
            "min_width": null,
            "border": null,
            "align_items": null,
            "bottom": null,
            "_model_module": "@jupyter-widgets/base",
            "top": null,
            "grid_column": null,
            "overflow_y": null,
            "overflow_x": null,
            "grid_auto_flow": null,
            "grid_area": null,
            "grid_template_columns": null,
            "flex": null,
            "_model_name": "LayoutModel",
            "justify_items": null,
            "grid_row": null,
            "max_height": null,
            "align_content": null,
            "visibility": null,
            "align_self": null,
            "height": null,
            "min_height": null,
            "padding": null,
            "grid_auto_rows": null,
            "grid_gap": null,
            "max_width": null,
            "order": null,
            "_view_module_version": "1.2.0",
            "grid_template_areas": null,
            "object_position": null,
            "object_fit": null,
            "grid_auto_columns": null,
            "margin": null,
            "display": null,
            "left": null
          }
        },
        "ed7db763f64b4388b5e73bebda68fef4": {
          "model_module": "@jupyter-widgets/controls",
          "model_name": "FloatProgressModel",
          "state": {
            "_view_name": "ProgressView",
            "style": "IPY_MODEL_674eb85b3d34488dacffb761c656b8ca",
            "_dom_classes": [],
            "description": "100%",
            "_model_name": "FloatProgressModel",
            "bar_style": "success",
            "max": 35,
            "_view_module": "@jupyter-widgets/controls",
            "_model_module_version": "1.5.0",
            "value": 35,
            "_view_count": null,
            "_view_module_version": "1.5.0",
            "orientation": "horizontal",
            "min": 0,
            "description_tooltip": null,
            "_model_module": "@jupyter-widgets/controls",
            "layout": "IPY_MODEL_9d21add1a93a4596a4b41b296c2436ea"
          }
        },
        "936ec489002046e2bea21e10d69b0efc": {
          "model_module": "@jupyter-widgets/controls",
          "model_name": "HTMLModel",
          "state": {
            "_view_name": "HTMLView",
            "style": "IPY_MODEL_cd0d5f666a3346d5a72e3b8e45443ea6",
            "_dom_classes": [],
            "description": "",
            "_model_name": "HTMLModel",
            "placeholder": "​",
            "_view_module": "@jupyter-widgets/controls",
            "_model_module_version": "1.5.0",
            "value": " 35/35 [00:19&lt;00:00,  1.77it/s]",
            "_view_count": null,
            "_view_module_version": "1.5.0",
            "description_tooltip": null,
            "_model_module": "@jupyter-widgets/controls",
            "layout": "IPY_MODEL_043700b74cb5481f825bcf9e5ad7a8ad"
          }
        },
        "674eb85b3d34488dacffb761c656b8ca": {
          "model_module": "@jupyter-widgets/controls",
          "model_name": "ProgressStyleModel",
          "state": {
            "_view_name": "StyleView",
            "_model_name": "ProgressStyleModel",
            "description_width": "initial",
            "_view_module": "@jupyter-widgets/base",
            "_model_module_version": "1.5.0",
            "_view_count": null,
            "_view_module_version": "1.2.0",
            "bar_color": null,
            "_model_module": "@jupyter-widgets/controls"
          }
        },
        "9d21add1a93a4596a4b41b296c2436ea": {
          "model_module": "@jupyter-widgets/base",
          "model_name": "LayoutModel",
          "state": {
            "_view_name": "LayoutView",
            "grid_template_rows": null,
            "right": null,
            "justify_content": null,
            "_view_module": "@jupyter-widgets/base",
            "overflow": null,
            "_model_module_version": "1.2.0",
            "_view_count": null,
            "flex_flow": null,
            "width": null,
            "min_width": null,
            "border": null,
            "align_items": null,
            "bottom": null,
            "_model_module": "@jupyter-widgets/base",
            "top": null,
            "grid_column": null,
            "overflow_y": null,
            "overflow_x": null,
            "grid_auto_flow": null,
            "grid_area": null,
            "grid_template_columns": null,
            "flex": null,
            "_model_name": "LayoutModel",
            "justify_items": null,
            "grid_row": null,
            "max_height": null,
            "align_content": null,
            "visibility": null,
            "align_self": null,
            "height": null,
            "min_height": null,
            "padding": null,
            "grid_auto_rows": null,
            "grid_gap": null,
            "max_width": null,
            "order": null,
            "_view_module_version": "1.2.0",
            "grid_template_areas": null,
            "object_position": null,
            "object_fit": null,
            "grid_auto_columns": null,
            "margin": null,
            "display": null,
            "left": null
          }
        },
        "cd0d5f666a3346d5a72e3b8e45443ea6": {
          "model_module": "@jupyter-widgets/controls",
          "model_name": "DescriptionStyleModel",
          "state": {
            "_view_name": "StyleView",
            "_model_name": "DescriptionStyleModel",
            "description_width": "",
            "_view_module": "@jupyter-widgets/base",
            "_model_module_version": "1.5.0",
            "_view_count": null,
            "_view_module_version": "1.2.0",
            "_model_module": "@jupyter-widgets/controls"
          }
        },
        "043700b74cb5481f825bcf9e5ad7a8ad": {
          "model_module": "@jupyter-widgets/base",
          "model_name": "LayoutModel",
          "state": {
            "_view_name": "LayoutView",
            "grid_template_rows": null,
            "right": null,
            "justify_content": null,
            "_view_module": "@jupyter-widgets/base",
            "overflow": null,
            "_model_module_version": "1.2.0",
            "_view_count": null,
            "flex_flow": null,
            "width": null,
            "min_width": null,
            "border": null,
            "align_items": null,
            "bottom": null,
            "_model_module": "@jupyter-widgets/base",
            "top": null,
            "grid_column": null,
            "overflow_y": null,
            "overflow_x": null,
            "grid_auto_flow": null,
            "grid_area": null,
            "grid_template_columns": null,
            "flex": null,
            "_model_name": "LayoutModel",
            "justify_items": null,
            "grid_row": null,
            "max_height": null,
            "align_content": null,
            "visibility": null,
            "align_self": null,
            "height": null,
            "min_height": null,
            "padding": null,
            "grid_auto_rows": null,
            "grid_gap": null,
            "max_width": null,
            "order": null,
            "_view_module_version": "1.2.0",
            "grid_template_areas": null,
            "object_position": null,
            "object_fit": null,
            "grid_auto_columns": null,
            "margin": null,
            "display": null,
            "left": null
          }
        },
        "396e3d96c80d4346904a4f3ff4955c9b": {
          "model_module": "@jupyter-widgets/controls",
          "model_name": "HBoxModel",
          "state": {
            "_view_name": "HBoxView",
            "_dom_classes": [],
            "_model_name": "HBoxModel",
            "_view_module": "@jupyter-widgets/controls",
            "_model_module_version": "1.5.0",
            "_view_count": null,
            "_view_module_version": "1.5.0",
            "box_style": "",
            "layout": "IPY_MODEL_f7eea5da1c89440589266ea27c715087",
            "_model_module": "@jupyter-widgets/controls",
            "children": [
              "IPY_MODEL_a249392245c34e8dbd9ed784c2684af2",
              "IPY_MODEL_c08e29ecf64842629c848402b37ff440"
            ]
          }
        },
        "f7eea5da1c89440589266ea27c715087": {
          "model_module": "@jupyter-widgets/base",
          "model_name": "LayoutModel",
          "state": {
            "_view_name": "LayoutView",
            "grid_template_rows": null,
            "right": null,
            "justify_content": null,
            "_view_module": "@jupyter-widgets/base",
            "overflow": null,
            "_model_module_version": "1.2.0",
            "_view_count": null,
            "flex_flow": null,
            "width": null,
            "min_width": null,
            "border": null,
            "align_items": null,
            "bottom": null,
            "_model_module": "@jupyter-widgets/base",
            "top": null,
            "grid_column": null,
            "overflow_y": null,
            "overflow_x": null,
            "grid_auto_flow": null,
            "grid_area": null,
            "grid_template_columns": null,
            "flex": null,
            "_model_name": "LayoutModel",
            "justify_items": null,
            "grid_row": null,
            "max_height": null,
            "align_content": null,
            "visibility": null,
            "align_self": null,
            "height": null,
            "min_height": null,
            "padding": null,
            "grid_auto_rows": null,
            "grid_gap": null,
            "max_width": null,
            "order": null,
            "_view_module_version": "1.2.0",
            "grid_template_areas": null,
            "object_position": null,
            "object_fit": null,
            "grid_auto_columns": null,
            "margin": null,
            "display": null,
            "left": null
          }
        },
        "a249392245c34e8dbd9ed784c2684af2": {
          "model_module": "@jupyter-widgets/controls",
          "model_name": "FloatProgressModel",
          "state": {
            "_view_name": "ProgressView",
            "style": "IPY_MODEL_c5e9279ec8e44eb9b5087e453e638828",
            "_dom_classes": [],
            "description": "100%",
            "_model_name": "FloatProgressModel",
            "bar_style": "success",
            "max": 38,
            "_view_module": "@jupyter-widgets/controls",
            "_model_module_version": "1.5.0",
            "value": 38,
            "_view_count": null,
            "_view_module_version": "1.5.0",
            "orientation": "horizontal",
            "min": 0,
            "description_tooltip": null,
            "_model_module": "@jupyter-widgets/controls",
            "layout": "IPY_MODEL_29ef590e0ab8414ba7246a8178578f97"
          }
        },
        "c08e29ecf64842629c848402b37ff440": {
          "model_module": "@jupyter-widgets/controls",
          "model_name": "HTMLModel",
          "state": {
            "_view_name": "HTMLView",
            "style": "IPY_MODEL_45ed1b76d36c47418bdf7d13711497ee",
            "_dom_classes": [],
            "description": "",
            "_model_name": "HTMLModel",
            "placeholder": "​",
            "_view_module": "@jupyter-widgets/controls",
            "_model_module_version": "1.5.0",
            "value": " 38/38 [00:18&lt;00:00,  2.02it/s]",
            "_view_count": null,
            "_view_module_version": "1.5.0",
            "description_tooltip": null,
            "_model_module": "@jupyter-widgets/controls",
            "layout": "IPY_MODEL_0ec770aa5e99404384e8d0aeb62b1651"
          }
        },
        "c5e9279ec8e44eb9b5087e453e638828": {
          "model_module": "@jupyter-widgets/controls",
          "model_name": "ProgressStyleModel",
          "state": {
            "_view_name": "StyleView",
            "_model_name": "ProgressStyleModel",
            "description_width": "initial",
            "_view_module": "@jupyter-widgets/base",
            "_model_module_version": "1.5.0",
            "_view_count": null,
            "_view_module_version": "1.2.0",
            "bar_color": null,
            "_model_module": "@jupyter-widgets/controls"
          }
        },
        "29ef590e0ab8414ba7246a8178578f97": {
          "model_module": "@jupyter-widgets/base",
          "model_name": "LayoutModel",
          "state": {
            "_view_name": "LayoutView",
            "grid_template_rows": null,
            "right": null,
            "justify_content": null,
            "_view_module": "@jupyter-widgets/base",
            "overflow": null,
            "_model_module_version": "1.2.0",
            "_view_count": null,
            "flex_flow": null,
            "width": null,
            "min_width": null,
            "border": null,
            "align_items": null,
            "bottom": null,
            "_model_module": "@jupyter-widgets/base",
            "top": null,
            "grid_column": null,
            "overflow_y": null,
            "overflow_x": null,
            "grid_auto_flow": null,
            "grid_area": null,
            "grid_template_columns": null,
            "flex": null,
            "_model_name": "LayoutModel",
            "justify_items": null,
            "grid_row": null,
            "max_height": null,
            "align_content": null,
            "visibility": null,
            "align_self": null,
            "height": null,
            "min_height": null,
            "padding": null,
            "grid_auto_rows": null,
            "grid_gap": null,
            "max_width": null,
            "order": null,
            "_view_module_version": "1.2.0",
            "grid_template_areas": null,
            "object_position": null,
            "object_fit": null,
            "grid_auto_columns": null,
            "margin": null,
            "display": null,
            "left": null
          }
        },
        "45ed1b76d36c47418bdf7d13711497ee": {
          "model_module": "@jupyter-widgets/controls",
          "model_name": "DescriptionStyleModel",
          "state": {
            "_view_name": "StyleView",
            "_model_name": "DescriptionStyleModel",
            "description_width": "",
            "_view_module": "@jupyter-widgets/base",
            "_model_module_version": "1.5.0",
            "_view_count": null,
            "_view_module_version": "1.2.0",
            "_model_module": "@jupyter-widgets/controls"
          }
        },
        "0ec770aa5e99404384e8d0aeb62b1651": {
          "model_module": "@jupyter-widgets/base",
          "model_name": "LayoutModel",
          "state": {
            "_view_name": "LayoutView",
            "grid_template_rows": null,
            "right": null,
            "justify_content": null,
            "_view_module": "@jupyter-widgets/base",
            "overflow": null,
            "_model_module_version": "1.2.0",
            "_view_count": null,
            "flex_flow": null,
            "width": null,
            "min_width": null,
            "border": null,
            "align_items": null,
            "bottom": null,
            "_model_module": "@jupyter-widgets/base",
            "top": null,
            "grid_column": null,
            "overflow_y": null,
            "overflow_x": null,
            "grid_auto_flow": null,
            "grid_area": null,
            "grid_template_columns": null,
            "flex": null,
            "_model_name": "LayoutModel",
            "justify_items": null,
            "grid_row": null,
            "max_height": null,
            "align_content": null,
            "visibility": null,
            "align_self": null,
            "height": null,
            "min_height": null,
            "padding": null,
            "grid_auto_rows": null,
            "grid_gap": null,
            "max_width": null,
            "order": null,
            "_view_module_version": "1.2.0",
            "grid_template_areas": null,
            "object_position": null,
            "object_fit": null,
            "grid_auto_columns": null,
            "margin": null,
            "display": null,
            "left": null
          }
        },
        "8e27868169d34506a58c0d61112d2748": {
          "model_module": "@jupyter-widgets/controls",
          "model_name": "HBoxModel",
          "state": {
            "_view_name": "HBoxView",
            "_dom_classes": [],
            "_model_name": "HBoxModel",
            "_view_module": "@jupyter-widgets/controls",
            "_model_module_version": "1.5.0",
            "_view_count": null,
            "_view_module_version": "1.5.0",
            "box_style": "",
            "layout": "IPY_MODEL_5b54b26b1f3248108cc99482303dd151",
            "_model_module": "@jupyter-widgets/controls",
            "children": [
              "IPY_MODEL_f975b938f0cf492fa0969d054fa1d8eb",
              "IPY_MODEL_1063f95f5e714f0492eabd3cc37863b3"
            ]
          }
        },
        "5b54b26b1f3248108cc99482303dd151": {
          "model_module": "@jupyter-widgets/base",
          "model_name": "LayoutModel",
          "state": {
            "_view_name": "LayoutView",
            "grid_template_rows": null,
            "right": null,
            "justify_content": null,
            "_view_module": "@jupyter-widgets/base",
            "overflow": null,
            "_model_module_version": "1.2.0",
            "_view_count": null,
            "flex_flow": null,
            "width": null,
            "min_width": null,
            "border": null,
            "align_items": null,
            "bottom": null,
            "_model_module": "@jupyter-widgets/base",
            "top": null,
            "grid_column": null,
            "overflow_y": null,
            "overflow_x": null,
            "grid_auto_flow": null,
            "grid_area": null,
            "grid_template_columns": null,
            "flex": null,
            "_model_name": "LayoutModel",
            "justify_items": null,
            "grid_row": null,
            "max_height": null,
            "align_content": null,
            "visibility": null,
            "align_self": null,
            "height": null,
            "min_height": null,
            "padding": null,
            "grid_auto_rows": null,
            "grid_gap": null,
            "max_width": null,
            "order": null,
            "_view_module_version": "1.2.0",
            "grid_template_areas": null,
            "object_position": null,
            "object_fit": null,
            "grid_auto_columns": null,
            "margin": null,
            "display": null,
            "left": null
          }
        },
        "f975b938f0cf492fa0969d054fa1d8eb": {
          "model_module": "@jupyter-widgets/controls",
          "model_name": "FloatProgressModel",
          "state": {
            "_view_name": "ProgressView",
            "style": "IPY_MODEL_bd458c3cd7244ea8b9d332e33647d9de",
            "_dom_classes": [],
            "description": "100%",
            "_model_name": "FloatProgressModel",
            "bar_style": "success",
            "max": 41,
            "_view_module": "@jupyter-widgets/controls",
            "_model_module_version": "1.5.0",
            "value": 41,
            "_view_count": null,
            "_view_module_version": "1.5.0",
            "orientation": "horizontal",
            "min": 0,
            "description_tooltip": null,
            "_model_module": "@jupyter-widgets/controls",
            "layout": "IPY_MODEL_078f330a1520462d874021b4183e4fb7"
          }
        },
        "1063f95f5e714f0492eabd3cc37863b3": {
          "model_module": "@jupyter-widgets/controls",
          "model_name": "HTMLModel",
          "state": {
            "_view_name": "HTMLView",
            "style": "IPY_MODEL_ec22c5f9b74849cba5968ce27bfdaf1a",
            "_dom_classes": [],
            "description": "",
            "_model_name": "HTMLModel",
            "placeholder": "​",
            "_view_module": "@jupyter-widgets/controls",
            "_model_module_version": "1.5.0",
            "value": " 41/41 [00:01&lt;00:00, 29.10it/s]",
            "_view_count": null,
            "_view_module_version": "1.5.0",
            "description_tooltip": null,
            "_model_module": "@jupyter-widgets/controls",
            "layout": "IPY_MODEL_f113836dab9449699070d71d9fe84ace"
          }
        },
        "bd458c3cd7244ea8b9d332e33647d9de": {
          "model_module": "@jupyter-widgets/controls",
          "model_name": "ProgressStyleModel",
          "state": {
            "_view_name": "StyleView",
            "_model_name": "ProgressStyleModel",
            "description_width": "initial",
            "_view_module": "@jupyter-widgets/base",
            "_model_module_version": "1.5.0",
            "_view_count": null,
            "_view_module_version": "1.2.0",
            "bar_color": null,
            "_model_module": "@jupyter-widgets/controls"
          }
        },
        "078f330a1520462d874021b4183e4fb7": {
          "model_module": "@jupyter-widgets/base",
          "model_name": "LayoutModel",
          "state": {
            "_view_name": "LayoutView",
            "grid_template_rows": null,
            "right": null,
            "justify_content": null,
            "_view_module": "@jupyter-widgets/base",
            "overflow": null,
            "_model_module_version": "1.2.0",
            "_view_count": null,
            "flex_flow": null,
            "width": null,
            "min_width": null,
            "border": null,
            "align_items": null,
            "bottom": null,
            "_model_module": "@jupyter-widgets/base",
            "top": null,
            "grid_column": null,
            "overflow_y": null,
            "overflow_x": null,
            "grid_auto_flow": null,
            "grid_area": null,
            "grid_template_columns": null,
            "flex": null,
            "_model_name": "LayoutModel",
            "justify_items": null,
            "grid_row": null,
            "max_height": null,
            "align_content": null,
            "visibility": null,
            "align_self": null,
            "height": null,
            "min_height": null,
            "padding": null,
            "grid_auto_rows": null,
            "grid_gap": null,
            "max_width": null,
            "order": null,
            "_view_module_version": "1.2.0",
            "grid_template_areas": null,
            "object_position": null,
            "object_fit": null,
            "grid_auto_columns": null,
            "margin": null,
            "display": null,
            "left": null
          }
        },
        "ec22c5f9b74849cba5968ce27bfdaf1a": {
          "model_module": "@jupyter-widgets/controls",
          "model_name": "DescriptionStyleModel",
          "state": {
            "_view_name": "StyleView",
            "_model_name": "DescriptionStyleModel",
            "description_width": "",
            "_view_module": "@jupyter-widgets/base",
            "_model_module_version": "1.5.0",
            "_view_count": null,
            "_view_module_version": "1.2.0",
            "_model_module": "@jupyter-widgets/controls"
          }
        },
        "f113836dab9449699070d71d9fe84ace": {
          "model_module": "@jupyter-widgets/base",
          "model_name": "LayoutModel",
          "state": {
            "_view_name": "LayoutView",
            "grid_template_rows": null,
            "right": null,
            "justify_content": null,
            "_view_module": "@jupyter-widgets/base",
            "overflow": null,
            "_model_module_version": "1.2.0",
            "_view_count": null,
            "flex_flow": null,
            "width": null,
            "min_width": null,
            "border": null,
            "align_items": null,
            "bottom": null,
            "_model_module": "@jupyter-widgets/base",
            "top": null,
            "grid_column": null,
            "overflow_y": null,
            "overflow_x": null,
            "grid_auto_flow": null,
            "grid_area": null,
            "grid_template_columns": null,
            "flex": null,
            "_model_name": "LayoutModel",
            "justify_items": null,
            "grid_row": null,
            "max_height": null,
            "align_content": null,
            "visibility": null,
            "align_self": null,
            "height": null,
            "min_height": null,
            "padding": null,
            "grid_auto_rows": null,
            "grid_gap": null,
            "max_width": null,
            "order": null,
            "_view_module_version": "1.2.0",
            "grid_template_areas": null,
            "object_position": null,
            "object_fit": null,
            "grid_auto_columns": null,
            "margin": null,
            "display": null,
            "left": null
          }
        },
        "782b227741884fac839e6c2cb0f57297": {
          "model_module": "@jupyter-widgets/controls",
          "model_name": "HBoxModel",
          "state": {
            "_view_name": "HBoxView",
            "_dom_classes": [],
            "_model_name": "HBoxModel",
            "_view_module": "@jupyter-widgets/controls",
            "_model_module_version": "1.5.0",
            "_view_count": null,
            "_view_module_version": "1.5.0",
            "box_style": "",
            "layout": "IPY_MODEL_90f840cf30c2456baf5f8563ce0a10ac",
            "_model_module": "@jupyter-widgets/controls",
            "children": [
              "IPY_MODEL_dca290d8a4d14889a71a02eed60ce570",
              "IPY_MODEL_4024a8d04747435aba8f609dc096d9bf"
            ]
          }
        },
        "90f840cf30c2456baf5f8563ce0a10ac": {
          "model_module": "@jupyter-widgets/base",
          "model_name": "LayoutModel",
          "state": {
            "_view_name": "LayoutView",
            "grid_template_rows": null,
            "right": null,
            "justify_content": null,
            "_view_module": "@jupyter-widgets/base",
            "overflow": null,
            "_model_module_version": "1.2.0",
            "_view_count": null,
            "flex_flow": null,
            "width": null,
            "min_width": null,
            "border": null,
            "align_items": null,
            "bottom": null,
            "_model_module": "@jupyter-widgets/base",
            "top": null,
            "grid_column": null,
            "overflow_y": null,
            "overflow_x": null,
            "grid_auto_flow": null,
            "grid_area": null,
            "grid_template_columns": null,
            "flex": null,
            "_model_name": "LayoutModel",
            "justify_items": null,
            "grid_row": null,
            "max_height": null,
            "align_content": null,
            "visibility": null,
            "align_self": null,
            "height": null,
            "min_height": null,
            "padding": null,
            "grid_auto_rows": null,
            "grid_gap": null,
            "max_width": null,
            "order": null,
            "_view_module_version": "1.2.0",
            "grid_template_areas": null,
            "object_position": null,
            "object_fit": null,
            "grid_auto_columns": null,
            "margin": null,
            "display": null,
            "left": null
          }
        },
        "dca290d8a4d14889a71a02eed60ce570": {
          "model_module": "@jupyter-widgets/controls",
          "model_name": "FloatProgressModel",
          "state": {
            "_view_name": "ProgressView",
            "style": "IPY_MODEL_8604756ef12d431699dc7e9ca0a9e9a0",
            "_dom_classes": [],
            "description": "100%",
            "_model_name": "FloatProgressModel",
            "bar_style": "success",
            "max": 41,
            "_view_module": "@jupyter-widgets/controls",
            "_model_module_version": "1.5.0",
            "value": 41,
            "_view_count": null,
            "_view_module_version": "1.5.0",
            "orientation": "horizontal",
            "min": 0,
            "description_tooltip": null,
            "_model_module": "@jupyter-widgets/controls",
            "layout": "IPY_MODEL_88afab1b89bd43d58bd840333b0e8c47"
          }
        },
        "4024a8d04747435aba8f609dc096d9bf": {
          "model_module": "@jupyter-widgets/controls",
          "model_name": "HTMLModel",
          "state": {
            "_view_name": "HTMLView",
            "style": "IPY_MODEL_655ba455a8474338bb5ca846b7c17824",
            "_dom_classes": [],
            "description": "",
            "_model_name": "HTMLModel",
            "placeholder": "​",
            "_view_module": "@jupyter-widgets/controls",
            "_model_module_version": "1.5.0",
            "value": " 41/41 [00:00&lt;00:00, 279.15it/s]",
            "_view_count": null,
            "_view_module_version": "1.5.0",
            "description_tooltip": null,
            "_model_module": "@jupyter-widgets/controls",
            "layout": "IPY_MODEL_e192657bf2dc46e08cf66cab64d382aa"
          }
        },
        "8604756ef12d431699dc7e9ca0a9e9a0": {
          "model_module": "@jupyter-widgets/controls",
          "model_name": "ProgressStyleModel",
          "state": {
            "_view_name": "StyleView",
            "_model_name": "ProgressStyleModel",
            "description_width": "initial",
            "_view_module": "@jupyter-widgets/base",
            "_model_module_version": "1.5.0",
            "_view_count": null,
            "_view_module_version": "1.2.0",
            "bar_color": null,
            "_model_module": "@jupyter-widgets/controls"
          }
        },
        "88afab1b89bd43d58bd840333b0e8c47": {
          "model_module": "@jupyter-widgets/base",
          "model_name": "LayoutModel",
          "state": {
            "_view_name": "LayoutView",
            "grid_template_rows": null,
            "right": null,
            "justify_content": null,
            "_view_module": "@jupyter-widgets/base",
            "overflow": null,
            "_model_module_version": "1.2.0",
            "_view_count": null,
            "flex_flow": null,
            "width": null,
            "min_width": null,
            "border": null,
            "align_items": null,
            "bottom": null,
            "_model_module": "@jupyter-widgets/base",
            "top": null,
            "grid_column": null,
            "overflow_y": null,
            "overflow_x": null,
            "grid_auto_flow": null,
            "grid_area": null,
            "grid_template_columns": null,
            "flex": null,
            "_model_name": "LayoutModel",
            "justify_items": null,
            "grid_row": null,
            "max_height": null,
            "align_content": null,
            "visibility": null,
            "align_self": null,
            "height": null,
            "min_height": null,
            "padding": null,
            "grid_auto_rows": null,
            "grid_gap": null,
            "max_width": null,
            "order": null,
            "_view_module_version": "1.2.0",
            "grid_template_areas": null,
            "object_position": null,
            "object_fit": null,
            "grid_auto_columns": null,
            "margin": null,
            "display": null,
            "left": null
          }
        },
        "655ba455a8474338bb5ca846b7c17824": {
          "model_module": "@jupyter-widgets/controls",
          "model_name": "DescriptionStyleModel",
          "state": {
            "_view_name": "StyleView",
            "_model_name": "DescriptionStyleModel",
            "description_width": "",
            "_view_module": "@jupyter-widgets/base",
            "_model_module_version": "1.5.0",
            "_view_count": null,
            "_view_module_version": "1.2.0",
            "_model_module": "@jupyter-widgets/controls"
          }
        },
        "e192657bf2dc46e08cf66cab64d382aa": {
          "model_module": "@jupyter-widgets/base",
          "model_name": "LayoutModel",
          "state": {
            "_view_name": "LayoutView",
            "grid_template_rows": null,
            "right": null,
            "justify_content": null,
            "_view_module": "@jupyter-widgets/base",
            "overflow": null,
            "_model_module_version": "1.2.0",
            "_view_count": null,
            "flex_flow": null,
            "width": null,
            "min_width": null,
            "border": null,
            "align_items": null,
            "bottom": null,
            "_model_module": "@jupyter-widgets/base",
            "top": null,
            "grid_column": null,
            "overflow_y": null,
            "overflow_x": null,
            "grid_auto_flow": null,
            "grid_area": null,
            "grid_template_columns": null,
            "flex": null,
            "_model_name": "LayoutModel",
            "justify_items": null,
            "grid_row": null,
            "max_height": null,
            "align_content": null,
            "visibility": null,
            "align_self": null,
            "height": null,
            "min_height": null,
            "padding": null,
            "grid_auto_rows": null,
            "grid_gap": null,
            "max_width": null,
            "order": null,
            "_view_module_version": "1.2.0",
            "grid_template_areas": null,
            "object_position": null,
            "object_fit": null,
            "grid_auto_columns": null,
            "margin": null,
            "display": null,
            "left": null
          }
        },
        "1f89c0b5335c4456b588ea2b3283d19f": {
          "model_module": "@jupyter-widgets/controls",
          "model_name": "HBoxModel",
          "state": {
            "_view_name": "HBoxView",
            "_dom_classes": [],
            "_model_name": "HBoxModel",
            "_view_module": "@jupyter-widgets/controls",
            "_model_module_version": "1.5.0",
            "_view_count": null,
            "_view_module_version": "1.5.0",
            "box_style": "",
            "layout": "IPY_MODEL_85af4d03a73540088b6eb4cef77d6985",
            "_model_module": "@jupyter-widgets/controls",
            "children": [
              "IPY_MODEL_a039cee8430d4394a5e37bd915183472",
              "IPY_MODEL_08bd98574bee4743af64658e42f29b54"
            ]
          }
        },
        "85af4d03a73540088b6eb4cef77d6985": {
          "model_module": "@jupyter-widgets/base",
          "model_name": "LayoutModel",
          "state": {
            "_view_name": "LayoutView",
            "grid_template_rows": null,
            "right": null,
            "justify_content": null,
            "_view_module": "@jupyter-widgets/base",
            "overflow": null,
            "_model_module_version": "1.2.0",
            "_view_count": null,
            "flex_flow": null,
            "width": null,
            "min_width": null,
            "border": null,
            "align_items": null,
            "bottom": null,
            "_model_module": "@jupyter-widgets/base",
            "top": null,
            "grid_column": null,
            "overflow_y": null,
            "overflow_x": null,
            "grid_auto_flow": null,
            "grid_area": null,
            "grid_template_columns": null,
            "flex": null,
            "_model_name": "LayoutModel",
            "justify_items": null,
            "grid_row": null,
            "max_height": null,
            "align_content": null,
            "visibility": null,
            "align_self": null,
            "height": null,
            "min_height": null,
            "padding": null,
            "grid_auto_rows": null,
            "grid_gap": null,
            "max_width": null,
            "order": null,
            "_view_module_version": "1.2.0",
            "grid_template_areas": null,
            "object_position": null,
            "object_fit": null,
            "grid_auto_columns": null,
            "margin": null,
            "display": null,
            "left": null
          }
        },
        "a039cee8430d4394a5e37bd915183472": {
          "model_module": "@jupyter-widgets/controls",
          "model_name": "FloatProgressModel",
          "state": {
            "_view_name": "ProgressView",
            "style": "IPY_MODEL_d6b11a46f6c546fd9c36a7a1c54078c9",
            "_dom_classes": [],
            "description": "100%",
            "_model_name": "FloatProgressModel",
            "bar_style": "success",
            "max": 41,
            "_view_module": "@jupyter-widgets/controls",
            "_model_module_version": "1.5.0",
            "value": 41,
            "_view_count": null,
            "_view_module_version": "1.5.0",
            "orientation": "horizontal",
            "min": 0,
            "description_tooltip": null,
            "_model_module": "@jupyter-widgets/controls",
            "layout": "IPY_MODEL_53e4cb4cbc404b829b6f1d95d5d34081"
          }
        },
        "08bd98574bee4743af64658e42f29b54": {
          "model_module": "@jupyter-widgets/controls",
          "model_name": "HTMLModel",
          "state": {
            "_view_name": "HTMLView",
            "style": "IPY_MODEL_a8ab0791446341b4a8479c3fcc9e47c8",
            "_dom_classes": [],
            "description": "",
            "_model_name": "HTMLModel",
            "placeholder": "​",
            "_view_module": "@jupyter-widgets/controls",
            "_model_module_version": "1.5.0",
            "value": " 41/41 [00:10&lt;00:00,  3.94it/s]",
            "_view_count": null,
            "_view_module_version": "1.5.0",
            "description_tooltip": null,
            "_model_module": "@jupyter-widgets/controls",
            "layout": "IPY_MODEL_6ece75c00fdd49cf89995f475d384ae6"
          }
        },
        "d6b11a46f6c546fd9c36a7a1c54078c9": {
          "model_module": "@jupyter-widgets/controls",
          "model_name": "ProgressStyleModel",
          "state": {
            "_view_name": "StyleView",
            "_model_name": "ProgressStyleModel",
            "description_width": "initial",
            "_view_module": "@jupyter-widgets/base",
            "_model_module_version": "1.5.0",
            "_view_count": null,
            "_view_module_version": "1.2.0",
            "bar_color": null,
            "_model_module": "@jupyter-widgets/controls"
          }
        },
        "53e4cb4cbc404b829b6f1d95d5d34081": {
          "model_module": "@jupyter-widgets/base",
          "model_name": "LayoutModel",
          "state": {
            "_view_name": "LayoutView",
            "grid_template_rows": null,
            "right": null,
            "justify_content": null,
            "_view_module": "@jupyter-widgets/base",
            "overflow": null,
            "_model_module_version": "1.2.0",
            "_view_count": null,
            "flex_flow": null,
            "width": null,
            "min_width": null,
            "border": null,
            "align_items": null,
            "bottom": null,
            "_model_module": "@jupyter-widgets/base",
            "top": null,
            "grid_column": null,
            "overflow_y": null,
            "overflow_x": null,
            "grid_auto_flow": null,
            "grid_area": null,
            "grid_template_columns": null,
            "flex": null,
            "_model_name": "LayoutModel",
            "justify_items": null,
            "grid_row": null,
            "max_height": null,
            "align_content": null,
            "visibility": null,
            "align_self": null,
            "height": null,
            "min_height": null,
            "padding": null,
            "grid_auto_rows": null,
            "grid_gap": null,
            "max_width": null,
            "order": null,
            "_view_module_version": "1.2.0",
            "grid_template_areas": null,
            "object_position": null,
            "object_fit": null,
            "grid_auto_columns": null,
            "margin": null,
            "display": null,
            "left": null
          }
        },
        "a8ab0791446341b4a8479c3fcc9e47c8": {
          "model_module": "@jupyter-widgets/controls",
          "model_name": "DescriptionStyleModel",
          "state": {
            "_view_name": "StyleView",
            "_model_name": "DescriptionStyleModel",
            "description_width": "",
            "_view_module": "@jupyter-widgets/base",
            "_model_module_version": "1.5.0",
            "_view_count": null,
            "_view_module_version": "1.2.0",
            "_model_module": "@jupyter-widgets/controls"
          }
        },
        "6ece75c00fdd49cf89995f475d384ae6": {
          "model_module": "@jupyter-widgets/base",
          "model_name": "LayoutModel",
          "state": {
            "_view_name": "LayoutView",
            "grid_template_rows": null,
            "right": null,
            "justify_content": null,
            "_view_module": "@jupyter-widgets/base",
            "overflow": null,
            "_model_module_version": "1.2.0",
            "_view_count": null,
            "flex_flow": null,
            "width": null,
            "min_width": null,
            "border": null,
            "align_items": null,
            "bottom": null,
            "_model_module": "@jupyter-widgets/base",
            "top": null,
            "grid_column": null,
            "overflow_y": null,
            "overflow_x": null,
            "grid_auto_flow": null,
            "grid_area": null,
            "grid_template_columns": null,
            "flex": null,
            "_model_name": "LayoutModel",
            "justify_items": null,
            "grid_row": null,
            "max_height": null,
            "align_content": null,
            "visibility": null,
            "align_self": null,
            "height": null,
            "min_height": null,
            "padding": null,
            "grid_auto_rows": null,
            "grid_gap": null,
            "max_width": null,
            "order": null,
            "_view_module_version": "1.2.0",
            "grid_template_areas": null,
            "object_position": null,
            "object_fit": null,
            "grid_auto_columns": null,
            "margin": null,
            "display": null,
            "left": null
          }
        },
        "68cfbfa70869452c8d7faa6f42c176e9": {
          "model_module": "@jupyter-widgets/controls",
          "model_name": "HBoxModel",
          "state": {
            "_view_name": "HBoxView",
            "_dom_classes": [],
            "_model_name": "HBoxModel",
            "_view_module": "@jupyter-widgets/controls",
            "_model_module_version": "1.5.0",
            "_view_count": null,
            "_view_module_version": "1.5.0",
            "box_style": "",
            "layout": "IPY_MODEL_a47360f02f2847c5ae0e63f8b47e658e",
            "_model_module": "@jupyter-widgets/controls",
            "children": [
              "IPY_MODEL_7ba1d22aee364987b4d3b9f8c355f2a8",
              "IPY_MODEL_8f783d07effc4e44a7f5432f6346ac5f"
            ]
          }
        },
        "a47360f02f2847c5ae0e63f8b47e658e": {
          "model_module": "@jupyter-widgets/base",
          "model_name": "LayoutModel",
          "state": {
            "_view_name": "LayoutView",
            "grid_template_rows": null,
            "right": null,
            "justify_content": null,
            "_view_module": "@jupyter-widgets/base",
            "overflow": null,
            "_model_module_version": "1.2.0",
            "_view_count": null,
            "flex_flow": null,
            "width": null,
            "min_width": null,
            "border": null,
            "align_items": null,
            "bottom": null,
            "_model_module": "@jupyter-widgets/base",
            "top": null,
            "grid_column": null,
            "overflow_y": null,
            "overflow_x": null,
            "grid_auto_flow": null,
            "grid_area": null,
            "grid_template_columns": null,
            "flex": null,
            "_model_name": "LayoutModel",
            "justify_items": null,
            "grid_row": null,
            "max_height": null,
            "align_content": null,
            "visibility": null,
            "align_self": null,
            "height": null,
            "min_height": null,
            "padding": null,
            "grid_auto_rows": null,
            "grid_gap": null,
            "max_width": null,
            "order": null,
            "_view_module_version": "1.2.0",
            "grid_template_areas": null,
            "object_position": null,
            "object_fit": null,
            "grid_auto_columns": null,
            "margin": null,
            "display": null,
            "left": null
          }
        },
        "7ba1d22aee364987b4d3b9f8c355f2a8": {
          "model_module": "@jupyter-widgets/controls",
          "model_name": "FloatProgressModel",
          "state": {
            "_view_name": "ProgressView",
            "style": "IPY_MODEL_4d48bba4e03642639876b7529b843840",
            "_dom_classes": [],
            "description": "100%",
            "_model_name": "FloatProgressModel",
            "bar_style": "success",
            "max": 41,
            "_view_module": "@jupyter-widgets/controls",
            "_model_module_version": "1.5.0",
            "value": 41,
            "_view_count": null,
            "_view_module_version": "1.5.0",
            "orientation": "horizontal",
            "min": 0,
            "description_tooltip": null,
            "_model_module": "@jupyter-widgets/controls",
            "layout": "IPY_MODEL_0dc1071068ac4992840a4e1ee97ca411"
          }
        },
        "8f783d07effc4e44a7f5432f6346ac5f": {
          "model_module": "@jupyter-widgets/controls",
          "model_name": "HTMLModel",
          "state": {
            "_view_name": "HTMLView",
            "style": "IPY_MODEL_250fbb2225674df8a82952ccc52f039c",
            "_dom_classes": [],
            "description": "",
            "_model_name": "HTMLModel",
            "placeholder": "​",
            "_view_module": "@jupyter-widgets/controls",
            "_model_module_version": "1.5.0",
            "value": " 41/41 [00:10&lt;00:00,  4.00it/s]",
            "_view_count": null,
            "_view_module_version": "1.5.0",
            "description_tooltip": null,
            "_model_module": "@jupyter-widgets/controls",
            "layout": "IPY_MODEL_14e3ad0cb1d54fd28e9e7797343cc667"
          }
        },
        "4d48bba4e03642639876b7529b843840": {
          "model_module": "@jupyter-widgets/controls",
          "model_name": "ProgressStyleModel",
          "state": {
            "_view_name": "StyleView",
            "_model_name": "ProgressStyleModel",
            "description_width": "initial",
            "_view_module": "@jupyter-widgets/base",
            "_model_module_version": "1.5.0",
            "_view_count": null,
            "_view_module_version": "1.2.0",
            "bar_color": null,
            "_model_module": "@jupyter-widgets/controls"
          }
        },
        "0dc1071068ac4992840a4e1ee97ca411": {
          "model_module": "@jupyter-widgets/base",
          "model_name": "LayoutModel",
          "state": {
            "_view_name": "LayoutView",
            "grid_template_rows": null,
            "right": null,
            "justify_content": null,
            "_view_module": "@jupyter-widgets/base",
            "overflow": null,
            "_model_module_version": "1.2.0",
            "_view_count": null,
            "flex_flow": null,
            "width": null,
            "min_width": null,
            "border": null,
            "align_items": null,
            "bottom": null,
            "_model_module": "@jupyter-widgets/base",
            "top": null,
            "grid_column": null,
            "overflow_y": null,
            "overflow_x": null,
            "grid_auto_flow": null,
            "grid_area": null,
            "grid_template_columns": null,
            "flex": null,
            "_model_name": "LayoutModel",
            "justify_items": null,
            "grid_row": null,
            "max_height": null,
            "align_content": null,
            "visibility": null,
            "align_self": null,
            "height": null,
            "min_height": null,
            "padding": null,
            "grid_auto_rows": null,
            "grid_gap": null,
            "max_width": null,
            "order": null,
            "_view_module_version": "1.2.0",
            "grid_template_areas": null,
            "object_position": null,
            "object_fit": null,
            "grid_auto_columns": null,
            "margin": null,
            "display": null,
            "left": null
          }
        },
        "250fbb2225674df8a82952ccc52f039c": {
          "model_module": "@jupyter-widgets/controls",
          "model_name": "DescriptionStyleModel",
          "state": {
            "_view_name": "StyleView",
            "_model_name": "DescriptionStyleModel",
            "description_width": "",
            "_view_module": "@jupyter-widgets/base",
            "_model_module_version": "1.5.0",
            "_view_count": null,
            "_view_module_version": "1.2.0",
            "_model_module": "@jupyter-widgets/controls"
          }
        },
        "14e3ad0cb1d54fd28e9e7797343cc667": {
          "model_module": "@jupyter-widgets/base",
          "model_name": "LayoutModel",
          "state": {
            "_view_name": "LayoutView",
            "grid_template_rows": null,
            "right": null,
            "justify_content": null,
            "_view_module": "@jupyter-widgets/base",
            "overflow": null,
            "_model_module_version": "1.2.0",
            "_view_count": null,
            "flex_flow": null,
            "width": null,
            "min_width": null,
            "border": null,
            "align_items": null,
            "bottom": null,
            "_model_module": "@jupyter-widgets/base",
            "top": null,
            "grid_column": null,
            "overflow_y": null,
            "overflow_x": null,
            "grid_auto_flow": null,
            "grid_area": null,
            "grid_template_columns": null,
            "flex": null,
            "_model_name": "LayoutModel",
            "justify_items": null,
            "grid_row": null,
            "max_height": null,
            "align_content": null,
            "visibility": null,
            "align_self": null,
            "height": null,
            "min_height": null,
            "padding": null,
            "grid_auto_rows": null,
            "grid_gap": null,
            "max_width": null,
            "order": null,
            "_view_module_version": "1.2.0",
            "grid_template_areas": null,
            "object_position": null,
            "object_fit": null,
            "grid_auto_columns": null,
            "margin": null,
            "display": null,
            "left": null
          }
        },
        "b76f376e57fc4d18845fd46d807c438c": {
          "model_module": "@jupyter-widgets/controls",
          "model_name": "HBoxModel",
          "state": {
            "_view_name": "HBoxView",
            "_dom_classes": [],
            "_model_name": "HBoxModel",
            "_view_module": "@jupyter-widgets/controls",
            "_model_module_version": "1.5.0",
            "_view_count": null,
            "_view_module_version": "1.5.0",
            "box_style": "",
            "layout": "IPY_MODEL_f5057ab4c0314f5aac19ddfafb7bef5d",
            "_model_module": "@jupyter-widgets/controls",
            "children": [
              "IPY_MODEL_3aa45d4e5c5845728fc6f2dbd973a5c7",
              "IPY_MODEL_944136b4d1b44c92a01d1561c5961102"
            ]
          }
        },
        "f5057ab4c0314f5aac19ddfafb7bef5d": {
          "model_module": "@jupyter-widgets/base",
          "model_name": "LayoutModel",
          "state": {
            "_view_name": "LayoutView",
            "grid_template_rows": null,
            "right": null,
            "justify_content": null,
            "_view_module": "@jupyter-widgets/base",
            "overflow": null,
            "_model_module_version": "1.2.0",
            "_view_count": null,
            "flex_flow": null,
            "width": null,
            "min_width": null,
            "border": null,
            "align_items": null,
            "bottom": null,
            "_model_module": "@jupyter-widgets/base",
            "top": null,
            "grid_column": null,
            "overflow_y": null,
            "overflow_x": null,
            "grid_auto_flow": null,
            "grid_area": null,
            "grid_template_columns": null,
            "flex": null,
            "_model_name": "LayoutModel",
            "justify_items": null,
            "grid_row": null,
            "max_height": null,
            "align_content": null,
            "visibility": null,
            "align_self": null,
            "height": null,
            "min_height": null,
            "padding": null,
            "grid_auto_rows": null,
            "grid_gap": null,
            "max_width": null,
            "order": null,
            "_view_module_version": "1.2.0",
            "grid_template_areas": null,
            "object_position": null,
            "object_fit": null,
            "grid_auto_columns": null,
            "margin": null,
            "display": null,
            "left": null
          }
        },
        "3aa45d4e5c5845728fc6f2dbd973a5c7": {
          "model_module": "@jupyter-widgets/controls",
          "model_name": "FloatProgressModel",
          "state": {
            "_view_name": "ProgressView",
            "style": "IPY_MODEL_63d2503ba0d04e1ba2ab00f83c4f13e2",
            "_dom_classes": [],
            "description": "100%",
            "_model_name": "FloatProgressModel",
            "bar_style": "success",
            "max": 41,
            "_view_module": "@jupyter-widgets/controls",
            "_model_module_version": "1.5.0",
            "value": 41,
            "_view_count": null,
            "_view_module_version": "1.5.0",
            "orientation": "horizontal",
            "min": 0,
            "description_tooltip": null,
            "_model_module": "@jupyter-widgets/controls",
            "layout": "IPY_MODEL_abfc14fa933d4c42bba15634083a6498"
          }
        },
        "944136b4d1b44c92a01d1561c5961102": {
          "model_module": "@jupyter-widgets/controls",
          "model_name": "HTMLModel",
          "state": {
            "_view_name": "HTMLView",
            "style": "IPY_MODEL_6248635af772473f832c6bef9bd13966",
            "_dom_classes": [],
            "description": "",
            "_model_name": "HTMLModel",
            "placeholder": "​",
            "_view_module": "@jupyter-widgets/controls",
            "_model_module_version": "1.5.0",
            "value": " 41/41 [00:10&lt;00:00,  4.05it/s]",
            "_view_count": null,
            "_view_module_version": "1.5.0",
            "description_tooltip": null,
            "_model_module": "@jupyter-widgets/controls",
            "layout": "IPY_MODEL_161bd4c36183467cb1642c66bc43e12f"
          }
        },
        "63d2503ba0d04e1ba2ab00f83c4f13e2": {
          "model_module": "@jupyter-widgets/controls",
          "model_name": "ProgressStyleModel",
          "state": {
            "_view_name": "StyleView",
            "_model_name": "ProgressStyleModel",
            "description_width": "initial",
            "_view_module": "@jupyter-widgets/base",
            "_model_module_version": "1.5.0",
            "_view_count": null,
            "_view_module_version": "1.2.0",
            "bar_color": null,
            "_model_module": "@jupyter-widgets/controls"
          }
        },
        "abfc14fa933d4c42bba15634083a6498": {
          "model_module": "@jupyter-widgets/base",
          "model_name": "LayoutModel",
          "state": {
            "_view_name": "LayoutView",
            "grid_template_rows": null,
            "right": null,
            "justify_content": null,
            "_view_module": "@jupyter-widgets/base",
            "overflow": null,
            "_model_module_version": "1.2.0",
            "_view_count": null,
            "flex_flow": null,
            "width": null,
            "min_width": null,
            "border": null,
            "align_items": null,
            "bottom": null,
            "_model_module": "@jupyter-widgets/base",
            "top": null,
            "grid_column": null,
            "overflow_y": null,
            "overflow_x": null,
            "grid_auto_flow": null,
            "grid_area": null,
            "grid_template_columns": null,
            "flex": null,
            "_model_name": "LayoutModel",
            "justify_items": null,
            "grid_row": null,
            "max_height": null,
            "align_content": null,
            "visibility": null,
            "align_self": null,
            "height": null,
            "min_height": null,
            "padding": null,
            "grid_auto_rows": null,
            "grid_gap": null,
            "max_width": null,
            "order": null,
            "_view_module_version": "1.2.0",
            "grid_template_areas": null,
            "object_position": null,
            "object_fit": null,
            "grid_auto_columns": null,
            "margin": null,
            "display": null,
            "left": null
          }
        },
        "6248635af772473f832c6bef9bd13966": {
          "model_module": "@jupyter-widgets/controls",
          "model_name": "DescriptionStyleModel",
          "state": {
            "_view_name": "StyleView",
            "_model_name": "DescriptionStyleModel",
            "description_width": "",
            "_view_module": "@jupyter-widgets/base",
            "_model_module_version": "1.5.0",
            "_view_count": null,
            "_view_module_version": "1.2.0",
            "_model_module": "@jupyter-widgets/controls"
          }
        },
        "161bd4c36183467cb1642c66bc43e12f": {
          "model_module": "@jupyter-widgets/base",
          "model_name": "LayoutModel",
          "state": {
            "_view_name": "LayoutView",
            "grid_template_rows": null,
            "right": null,
            "justify_content": null,
            "_view_module": "@jupyter-widgets/base",
            "overflow": null,
            "_model_module_version": "1.2.0",
            "_view_count": null,
            "flex_flow": null,
            "width": null,
            "min_width": null,
            "border": null,
            "align_items": null,
            "bottom": null,
            "_model_module": "@jupyter-widgets/base",
            "top": null,
            "grid_column": null,
            "overflow_y": null,
            "overflow_x": null,
            "grid_auto_flow": null,
            "grid_area": null,
            "grid_template_columns": null,
            "flex": null,
            "_model_name": "LayoutModel",
            "justify_items": null,
            "grid_row": null,
            "max_height": null,
            "align_content": null,
            "visibility": null,
            "align_self": null,
            "height": null,
            "min_height": null,
            "padding": null,
            "grid_auto_rows": null,
            "grid_gap": null,
            "max_width": null,
            "order": null,
            "_view_module_version": "1.2.0",
            "grid_template_areas": null,
            "object_position": null,
            "object_fit": null,
            "grid_auto_columns": null,
            "margin": null,
            "display": null,
            "left": null
          }
        },
        "650a9f1d68604614a20d7c5342bc77bb": {
          "model_module": "@jupyter-widgets/controls",
          "model_name": "HBoxModel",
          "state": {
            "_view_name": "HBoxView",
            "_dom_classes": [],
            "_model_name": "HBoxModel",
            "_view_module": "@jupyter-widgets/controls",
            "_model_module_version": "1.5.0",
            "_view_count": null,
            "_view_module_version": "1.5.0",
            "box_style": "",
            "layout": "IPY_MODEL_662a3a49d0bd417685067b54b08d7352",
            "_model_module": "@jupyter-widgets/controls",
            "children": [
              "IPY_MODEL_c9de593ee21148bfb51b984d7ec306b8",
              "IPY_MODEL_edb06f7b93dd4187b4c3800c8ac5d8c3"
            ]
          }
        },
        "662a3a49d0bd417685067b54b08d7352": {
          "model_module": "@jupyter-widgets/base",
          "model_name": "LayoutModel",
          "state": {
            "_view_name": "LayoutView",
            "grid_template_rows": null,
            "right": null,
            "justify_content": null,
            "_view_module": "@jupyter-widgets/base",
            "overflow": null,
            "_model_module_version": "1.2.0",
            "_view_count": null,
            "flex_flow": null,
            "width": null,
            "min_width": null,
            "border": null,
            "align_items": null,
            "bottom": null,
            "_model_module": "@jupyter-widgets/base",
            "top": null,
            "grid_column": null,
            "overflow_y": null,
            "overflow_x": null,
            "grid_auto_flow": null,
            "grid_area": null,
            "grid_template_columns": null,
            "flex": null,
            "_model_name": "LayoutModel",
            "justify_items": null,
            "grid_row": null,
            "max_height": null,
            "align_content": null,
            "visibility": null,
            "align_self": null,
            "height": null,
            "min_height": null,
            "padding": null,
            "grid_auto_rows": null,
            "grid_gap": null,
            "max_width": null,
            "order": null,
            "_view_module_version": "1.2.0",
            "grid_template_areas": null,
            "object_position": null,
            "object_fit": null,
            "grid_auto_columns": null,
            "margin": null,
            "display": null,
            "left": null
          }
        },
        "c9de593ee21148bfb51b984d7ec306b8": {
          "model_module": "@jupyter-widgets/controls",
          "model_name": "FloatProgressModel",
          "state": {
            "_view_name": "ProgressView",
            "style": "IPY_MODEL_628bf9384c10499db3521aee9ec146af",
            "_dom_classes": [],
            "description": "100%",
            "_model_name": "FloatProgressModel",
            "bar_style": "success",
            "max": 41,
            "_view_module": "@jupyter-widgets/controls",
            "_model_module_version": "1.5.0",
            "value": 41,
            "_view_count": null,
            "_view_module_version": "1.5.0",
            "orientation": "horizontal",
            "min": 0,
            "description_tooltip": null,
            "_model_module": "@jupyter-widgets/controls",
            "layout": "IPY_MODEL_66c29b0fa0a940c59e351732679cc38d"
          }
        },
        "edb06f7b93dd4187b4c3800c8ac5d8c3": {
          "model_module": "@jupyter-widgets/controls",
          "model_name": "HTMLModel",
          "state": {
            "_view_name": "HTMLView",
            "style": "IPY_MODEL_99754b8603ff4d639765177f73ac7bf1",
            "_dom_classes": [],
            "description": "",
            "_model_name": "HTMLModel",
            "placeholder": "​",
            "_view_module": "@jupyter-widgets/controls",
            "_model_module_version": "1.5.0",
            "value": " 41/41 [00:00&lt;00:00, 567.30it/s]",
            "_view_count": null,
            "_view_module_version": "1.5.0",
            "description_tooltip": null,
            "_model_module": "@jupyter-widgets/controls",
            "layout": "IPY_MODEL_5101712ffb6d4c81a176d5e1ded77dd4"
          }
        },
        "628bf9384c10499db3521aee9ec146af": {
          "model_module": "@jupyter-widgets/controls",
          "model_name": "ProgressStyleModel",
          "state": {
            "_view_name": "StyleView",
            "_model_name": "ProgressStyleModel",
            "description_width": "initial",
            "_view_module": "@jupyter-widgets/base",
            "_model_module_version": "1.5.0",
            "_view_count": null,
            "_view_module_version": "1.2.0",
            "bar_color": null,
            "_model_module": "@jupyter-widgets/controls"
          }
        },
        "66c29b0fa0a940c59e351732679cc38d": {
          "model_module": "@jupyter-widgets/base",
          "model_name": "LayoutModel",
          "state": {
            "_view_name": "LayoutView",
            "grid_template_rows": null,
            "right": null,
            "justify_content": null,
            "_view_module": "@jupyter-widgets/base",
            "overflow": null,
            "_model_module_version": "1.2.0",
            "_view_count": null,
            "flex_flow": null,
            "width": null,
            "min_width": null,
            "border": null,
            "align_items": null,
            "bottom": null,
            "_model_module": "@jupyter-widgets/base",
            "top": null,
            "grid_column": null,
            "overflow_y": null,
            "overflow_x": null,
            "grid_auto_flow": null,
            "grid_area": null,
            "grid_template_columns": null,
            "flex": null,
            "_model_name": "LayoutModel",
            "justify_items": null,
            "grid_row": null,
            "max_height": null,
            "align_content": null,
            "visibility": null,
            "align_self": null,
            "height": null,
            "min_height": null,
            "padding": null,
            "grid_auto_rows": null,
            "grid_gap": null,
            "max_width": null,
            "order": null,
            "_view_module_version": "1.2.0",
            "grid_template_areas": null,
            "object_position": null,
            "object_fit": null,
            "grid_auto_columns": null,
            "margin": null,
            "display": null,
            "left": null
          }
        },
        "99754b8603ff4d639765177f73ac7bf1": {
          "model_module": "@jupyter-widgets/controls",
          "model_name": "DescriptionStyleModel",
          "state": {
            "_view_name": "StyleView",
            "_model_name": "DescriptionStyleModel",
            "description_width": "",
            "_view_module": "@jupyter-widgets/base",
            "_model_module_version": "1.5.0",
            "_view_count": null,
            "_view_module_version": "1.2.0",
            "_model_module": "@jupyter-widgets/controls"
          }
        },
        "5101712ffb6d4c81a176d5e1ded77dd4": {
          "model_module": "@jupyter-widgets/base",
          "model_name": "LayoutModel",
          "state": {
            "_view_name": "LayoutView",
            "grid_template_rows": null,
            "right": null,
            "justify_content": null,
            "_view_module": "@jupyter-widgets/base",
            "overflow": null,
            "_model_module_version": "1.2.0",
            "_view_count": null,
            "flex_flow": null,
            "width": null,
            "min_width": null,
            "border": null,
            "align_items": null,
            "bottom": null,
            "_model_module": "@jupyter-widgets/base",
            "top": null,
            "grid_column": null,
            "overflow_y": null,
            "overflow_x": null,
            "grid_auto_flow": null,
            "grid_area": null,
            "grid_template_columns": null,
            "flex": null,
            "_model_name": "LayoutModel",
            "justify_items": null,
            "grid_row": null,
            "max_height": null,
            "align_content": null,
            "visibility": null,
            "align_self": null,
            "height": null,
            "min_height": null,
            "padding": null,
            "grid_auto_rows": null,
            "grid_gap": null,
            "max_width": null,
            "order": null,
            "_view_module_version": "1.2.0",
            "grid_template_areas": null,
            "object_position": null,
            "object_fit": null,
            "grid_auto_columns": null,
            "margin": null,
            "display": null,
            "left": null
          }
        },
        "df5cb7bbc1bf484d8070b17c3b4d7831": {
          "model_module": "@jupyter-widgets/controls",
          "model_name": "HBoxModel",
          "state": {
            "_view_name": "HBoxView",
            "_dom_classes": [],
            "_model_name": "HBoxModel",
            "_view_module": "@jupyter-widgets/controls",
            "_model_module_version": "1.5.0",
            "_view_count": null,
            "_view_module_version": "1.5.0",
            "box_style": "",
            "layout": "IPY_MODEL_7515d85837a84c7bbe09b2fdd46006d7",
            "_model_module": "@jupyter-widgets/controls",
            "children": [
              "IPY_MODEL_1725e33f300340778265457421ff2bf7",
              "IPY_MODEL_add414ad8df5467c816bba1942421395"
            ]
          }
        },
        "7515d85837a84c7bbe09b2fdd46006d7": {
          "model_module": "@jupyter-widgets/base",
          "model_name": "LayoutModel",
          "state": {
            "_view_name": "LayoutView",
            "grid_template_rows": null,
            "right": null,
            "justify_content": null,
            "_view_module": "@jupyter-widgets/base",
            "overflow": null,
            "_model_module_version": "1.2.0",
            "_view_count": null,
            "flex_flow": null,
            "width": null,
            "min_width": null,
            "border": null,
            "align_items": null,
            "bottom": null,
            "_model_module": "@jupyter-widgets/base",
            "top": null,
            "grid_column": null,
            "overflow_y": null,
            "overflow_x": null,
            "grid_auto_flow": null,
            "grid_area": null,
            "grid_template_columns": null,
            "flex": null,
            "_model_name": "LayoutModel",
            "justify_items": null,
            "grid_row": null,
            "max_height": null,
            "align_content": null,
            "visibility": null,
            "align_self": null,
            "height": null,
            "min_height": null,
            "padding": null,
            "grid_auto_rows": null,
            "grid_gap": null,
            "max_width": null,
            "order": null,
            "_view_module_version": "1.2.0",
            "grid_template_areas": null,
            "object_position": null,
            "object_fit": null,
            "grid_auto_columns": null,
            "margin": null,
            "display": null,
            "left": null
          }
        },
        "1725e33f300340778265457421ff2bf7": {
          "model_module": "@jupyter-widgets/controls",
          "model_name": "FloatProgressModel",
          "state": {
            "_view_name": "ProgressView",
            "style": "IPY_MODEL_a8ebf8af6368408e8f5f137e249bad68",
            "_dom_classes": [],
            "description": "100%",
            "_model_name": "FloatProgressModel",
            "bar_style": "success",
            "max": 35,
            "_view_module": "@jupyter-widgets/controls",
            "_model_module_version": "1.5.0",
            "value": 35,
            "_view_count": null,
            "_view_module_version": "1.5.0",
            "orientation": "horizontal",
            "min": 0,
            "description_tooltip": null,
            "_model_module": "@jupyter-widgets/controls",
            "layout": "IPY_MODEL_b40aa782d5c6450f930286d95738c118"
          }
        },
        "add414ad8df5467c816bba1942421395": {
          "model_module": "@jupyter-widgets/controls",
          "model_name": "HTMLModel",
          "state": {
            "_view_name": "HTMLView",
            "style": "IPY_MODEL_5531f2a031b0439290a14c44adce1500",
            "_dom_classes": [],
            "description": "",
            "_model_name": "HTMLModel",
            "placeholder": "​",
            "_view_module": "@jupyter-widgets/controls",
            "_model_module_version": "1.5.0",
            "value": " 35/35 [00:39&lt;00:00,  1.12s/it]",
            "_view_count": null,
            "_view_module_version": "1.5.0",
            "description_tooltip": null,
            "_model_module": "@jupyter-widgets/controls",
            "layout": "IPY_MODEL_30a82e081a3b40e982404c79d8e652a1"
          }
        },
        "a8ebf8af6368408e8f5f137e249bad68": {
          "model_module": "@jupyter-widgets/controls",
          "model_name": "ProgressStyleModel",
          "state": {
            "_view_name": "StyleView",
            "_model_name": "ProgressStyleModel",
            "description_width": "initial",
            "_view_module": "@jupyter-widgets/base",
            "_model_module_version": "1.5.0",
            "_view_count": null,
            "_view_module_version": "1.2.0",
            "bar_color": null,
            "_model_module": "@jupyter-widgets/controls"
          }
        },
        "b40aa782d5c6450f930286d95738c118": {
          "model_module": "@jupyter-widgets/base",
          "model_name": "LayoutModel",
          "state": {
            "_view_name": "LayoutView",
            "grid_template_rows": null,
            "right": null,
            "justify_content": null,
            "_view_module": "@jupyter-widgets/base",
            "overflow": null,
            "_model_module_version": "1.2.0",
            "_view_count": null,
            "flex_flow": null,
            "width": null,
            "min_width": null,
            "border": null,
            "align_items": null,
            "bottom": null,
            "_model_module": "@jupyter-widgets/base",
            "top": null,
            "grid_column": null,
            "overflow_y": null,
            "overflow_x": null,
            "grid_auto_flow": null,
            "grid_area": null,
            "grid_template_columns": null,
            "flex": null,
            "_model_name": "LayoutModel",
            "justify_items": null,
            "grid_row": null,
            "max_height": null,
            "align_content": null,
            "visibility": null,
            "align_self": null,
            "height": null,
            "min_height": null,
            "padding": null,
            "grid_auto_rows": null,
            "grid_gap": null,
            "max_width": null,
            "order": null,
            "_view_module_version": "1.2.0",
            "grid_template_areas": null,
            "object_position": null,
            "object_fit": null,
            "grid_auto_columns": null,
            "margin": null,
            "display": null,
            "left": null
          }
        },
        "5531f2a031b0439290a14c44adce1500": {
          "model_module": "@jupyter-widgets/controls",
          "model_name": "DescriptionStyleModel",
          "state": {
            "_view_name": "StyleView",
            "_model_name": "DescriptionStyleModel",
            "description_width": "",
            "_view_module": "@jupyter-widgets/base",
            "_model_module_version": "1.5.0",
            "_view_count": null,
            "_view_module_version": "1.2.0",
            "_model_module": "@jupyter-widgets/controls"
          }
        },
        "30a82e081a3b40e982404c79d8e652a1": {
          "model_module": "@jupyter-widgets/base",
          "model_name": "LayoutModel",
          "state": {
            "_view_name": "LayoutView",
            "grid_template_rows": null,
            "right": null,
            "justify_content": null,
            "_view_module": "@jupyter-widgets/base",
            "overflow": null,
            "_model_module_version": "1.2.0",
            "_view_count": null,
            "flex_flow": null,
            "width": null,
            "min_width": null,
            "border": null,
            "align_items": null,
            "bottom": null,
            "_model_module": "@jupyter-widgets/base",
            "top": null,
            "grid_column": null,
            "overflow_y": null,
            "overflow_x": null,
            "grid_auto_flow": null,
            "grid_area": null,
            "grid_template_columns": null,
            "flex": null,
            "_model_name": "LayoutModel",
            "justify_items": null,
            "grid_row": null,
            "max_height": null,
            "align_content": null,
            "visibility": null,
            "align_self": null,
            "height": null,
            "min_height": null,
            "padding": null,
            "grid_auto_rows": null,
            "grid_gap": null,
            "max_width": null,
            "order": null,
            "_view_module_version": "1.2.0",
            "grid_template_areas": null,
            "object_position": null,
            "object_fit": null,
            "grid_auto_columns": null,
            "margin": null,
            "display": null,
            "left": null
          }
        },
        "d651b527bc294f0a888a0db9aa94a1dc": {
          "model_module": "@jupyter-widgets/controls",
          "model_name": "HBoxModel",
          "state": {
            "_view_name": "HBoxView",
            "_dom_classes": [],
            "_model_name": "HBoxModel",
            "_view_module": "@jupyter-widgets/controls",
            "_model_module_version": "1.5.0",
            "_view_count": null,
            "_view_module_version": "1.5.0",
            "box_style": "",
            "layout": "IPY_MODEL_8a479256f9f04458aebf28d8a02cd541",
            "_model_module": "@jupyter-widgets/controls",
            "children": [
              "IPY_MODEL_6fb4883b85d140088ed0bb8db558bdfd",
              "IPY_MODEL_0ac953c6c2144b5f99f0898a2528975b"
            ]
          }
        },
        "8a479256f9f04458aebf28d8a02cd541": {
          "model_module": "@jupyter-widgets/base",
          "model_name": "LayoutModel",
          "state": {
            "_view_name": "LayoutView",
            "grid_template_rows": null,
            "right": null,
            "justify_content": null,
            "_view_module": "@jupyter-widgets/base",
            "overflow": null,
            "_model_module_version": "1.2.0",
            "_view_count": null,
            "flex_flow": null,
            "width": null,
            "min_width": null,
            "border": null,
            "align_items": null,
            "bottom": null,
            "_model_module": "@jupyter-widgets/base",
            "top": null,
            "grid_column": null,
            "overflow_y": null,
            "overflow_x": null,
            "grid_auto_flow": null,
            "grid_area": null,
            "grid_template_columns": null,
            "flex": null,
            "_model_name": "LayoutModel",
            "justify_items": null,
            "grid_row": null,
            "max_height": null,
            "align_content": null,
            "visibility": null,
            "align_self": null,
            "height": null,
            "min_height": null,
            "padding": null,
            "grid_auto_rows": null,
            "grid_gap": null,
            "max_width": null,
            "order": null,
            "_view_module_version": "1.2.0",
            "grid_template_areas": null,
            "object_position": null,
            "object_fit": null,
            "grid_auto_columns": null,
            "margin": null,
            "display": null,
            "left": null
          }
        },
        "6fb4883b85d140088ed0bb8db558bdfd": {
          "model_module": "@jupyter-widgets/controls",
          "model_name": "FloatProgressModel",
          "state": {
            "_view_name": "ProgressView",
            "style": "IPY_MODEL_76d7420f5f534437b9cf25cea3e22275",
            "_dom_classes": [],
            "description": "100%",
            "_model_name": "FloatProgressModel",
            "bar_style": "success",
            "max": 35,
            "_view_module": "@jupyter-widgets/controls",
            "_model_module_version": "1.5.0",
            "value": 35,
            "_view_count": null,
            "_view_module_version": "1.5.0",
            "orientation": "horizontal",
            "min": 0,
            "description_tooltip": null,
            "_model_module": "@jupyter-widgets/controls",
            "layout": "IPY_MODEL_b542a8a3204b412ea7e585d1b5bf592e"
          }
        },
        "0ac953c6c2144b5f99f0898a2528975b": {
          "model_module": "@jupyter-widgets/controls",
          "model_name": "HTMLModel",
          "state": {
            "_view_name": "HTMLView",
            "style": "IPY_MODEL_8ca42c1aab91489eb09c747273802af8",
            "_dom_classes": [],
            "description": "",
            "_model_name": "HTMLModel",
            "placeholder": "​",
            "_view_module": "@jupyter-widgets/controls",
            "_model_module_version": "1.5.0",
            "value": " 35/35 [00:01&lt;00:00, 17.53it/s]",
            "_view_count": null,
            "_view_module_version": "1.5.0",
            "description_tooltip": null,
            "_model_module": "@jupyter-widgets/controls",
            "layout": "IPY_MODEL_ea7d69d6cc6143c1ac7cd6493f474e4c"
          }
        },
        "76d7420f5f534437b9cf25cea3e22275": {
          "model_module": "@jupyter-widgets/controls",
          "model_name": "ProgressStyleModel",
          "state": {
            "_view_name": "StyleView",
            "_model_name": "ProgressStyleModel",
            "description_width": "initial",
            "_view_module": "@jupyter-widgets/base",
            "_model_module_version": "1.5.0",
            "_view_count": null,
            "_view_module_version": "1.2.0",
            "bar_color": null,
            "_model_module": "@jupyter-widgets/controls"
          }
        },
        "b542a8a3204b412ea7e585d1b5bf592e": {
          "model_module": "@jupyter-widgets/base",
          "model_name": "LayoutModel",
          "state": {
            "_view_name": "LayoutView",
            "grid_template_rows": null,
            "right": null,
            "justify_content": null,
            "_view_module": "@jupyter-widgets/base",
            "overflow": null,
            "_model_module_version": "1.2.0",
            "_view_count": null,
            "flex_flow": null,
            "width": null,
            "min_width": null,
            "border": null,
            "align_items": null,
            "bottom": null,
            "_model_module": "@jupyter-widgets/base",
            "top": null,
            "grid_column": null,
            "overflow_y": null,
            "overflow_x": null,
            "grid_auto_flow": null,
            "grid_area": null,
            "grid_template_columns": null,
            "flex": null,
            "_model_name": "LayoutModel",
            "justify_items": null,
            "grid_row": null,
            "max_height": null,
            "align_content": null,
            "visibility": null,
            "align_self": null,
            "height": null,
            "min_height": null,
            "padding": null,
            "grid_auto_rows": null,
            "grid_gap": null,
            "max_width": null,
            "order": null,
            "_view_module_version": "1.2.0",
            "grid_template_areas": null,
            "object_position": null,
            "object_fit": null,
            "grid_auto_columns": null,
            "margin": null,
            "display": null,
            "left": null
          }
        },
        "8ca42c1aab91489eb09c747273802af8": {
          "model_module": "@jupyter-widgets/controls",
          "model_name": "DescriptionStyleModel",
          "state": {
            "_view_name": "StyleView",
            "_model_name": "DescriptionStyleModel",
            "description_width": "",
            "_view_module": "@jupyter-widgets/base",
            "_model_module_version": "1.5.0",
            "_view_count": null,
            "_view_module_version": "1.2.0",
            "_model_module": "@jupyter-widgets/controls"
          }
        },
        "ea7d69d6cc6143c1ac7cd6493f474e4c": {
          "model_module": "@jupyter-widgets/base",
          "model_name": "LayoutModel",
          "state": {
            "_view_name": "LayoutView",
            "grid_template_rows": null,
            "right": null,
            "justify_content": null,
            "_view_module": "@jupyter-widgets/base",
            "overflow": null,
            "_model_module_version": "1.2.0",
            "_view_count": null,
            "flex_flow": null,
            "width": null,
            "min_width": null,
            "border": null,
            "align_items": null,
            "bottom": null,
            "_model_module": "@jupyter-widgets/base",
            "top": null,
            "grid_column": null,
            "overflow_y": null,
            "overflow_x": null,
            "grid_auto_flow": null,
            "grid_area": null,
            "grid_template_columns": null,
            "flex": null,
            "_model_name": "LayoutModel",
            "justify_items": null,
            "grid_row": null,
            "max_height": null,
            "align_content": null,
            "visibility": null,
            "align_self": null,
            "height": null,
            "min_height": null,
            "padding": null,
            "grid_auto_rows": null,
            "grid_gap": null,
            "max_width": null,
            "order": null,
            "_view_module_version": "1.2.0",
            "grid_template_areas": null,
            "object_position": null,
            "object_fit": null,
            "grid_auto_columns": null,
            "margin": null,
            "display": null,
            "left": null
          }
        },
        "95f920f0ba8142b7a2d233b21eceb9ce": {
          "model_module": "@jupyter-widgets/controls",
          "model_name": "HBoxModel",
          "state": {
            "_view_name": "HBoxView",
            "_dom_classes": [],
            "_model_name": "HBoxModel",
            "_view_module": "@jupyter-widgets/controls",
            "_model_module_version": "1.5.0",
            "_view_count": null,
            "_view_module_version": "1.5.0",
            "box_style": "",
            "layout": "IPY_MODEL_7ee14afbc22d48dfa951fbe688a826dc",
            "_model_module": "@jupyter-widgets/controls",
            "children": [
              "IPY_MODEL_4a2114989f7e4371bfb75b3bd539347d",
              "IPY_MODEL_7f1424f6c55a48d08b62226ae8035c95"
            ]
          }
        },
        "7ee14afbc22d48dfa951fbe688a826dc": {
          "model_module": "@jupyter-widgets/base",
          "model_name": "LayoutModel",
          "state": {
            "_view_name": "LayoutView",
            "grid_template_rows": null,
            "right": null,
            "justify_content": null,
            "_view_module": "@jupyter-widgets/base",
            "overflow": null,
            "_model_module_version": "1.2.0",
            "_view_count": null,
            "flex_flow": null,
            "width": null,
            "min_width": null,
            "border": null,
            "align_items": null,
            "bottom": null,
            "_model_module": "@jupyter-widgets/base",
            "top": null,
            "grid_column": null,
            "overflow_y": null,
            "overflow_x": null,
            "grid_auto_flow": null,
            "grid_area": null,
            "grid_template_columns": null,
            "flex": null,
            "_model_name": "LayoutModel",
            "justify_items": null,
            "grid_row": null,
            "max_height": null,
            "align_content": null,
            "visibility": null,
            "align_self": null,
            "height": null,
            "min_height": null,
            "padding": null,
            "grid_auto_rows": null,
            "grid_gap": null,
            "max_width": null,
            "order": null,
            "_view_module_version": "1.2.0",
            "grid_template_areas": null,
            "object_position": null,
            "object_fit": null,
            "grid_auto_columns": null,
            "margin": null,
            "display": null,
            "left": null
          }
        },
        "4a2114989f7e4371bfb75b3bd539347d": {
          "model_module": "@jupyter-widgets/controls",
          "model_name": "FloatProgressModel",
          "state": {
            "_view_name": "ProgressView",
            "style": "IPY_MODEL_4ca94ddb96a44fe3a0b62318c429c376",
            "_dom_classes": [],
            "description": "100%",
            "_model_name": "FloatProgressModel",
            "bar_style": "success",
            "max": 38,
            "_view_module": "@jupyter-widgets/controls",
            "_model_module_version": "1.5.0",
            "value": 38,
            "_view_count": null,
            "_view_module_version": "1.5.0",
            "orientation": "horizontal",
            "min": 0,
            "description_tooltip": null,
            "_model_module": "@jupyter-widgets/controls",
            "layout": "IPY_MODEL_88455460c9fd4b1c90dcdd75a0147a05"
          }
        },
        "7f1424f6c55a48d08b62226ae8035c95": {
          "model_module": "@jupyter-widgets/controls",
          "model_name": "HTMLModel",
          "state": {
            "_view_name": "HTMLView",
            "style": "IPY_MODEL_12e900ef6a914d428014f8bae3a03160",
            "_dom_classes": [],
            "description": "",
            "_model_name": "HTMLModel",
            "placeholder": "​",
            "_view_module": "@jupyter-widgets/controls",
            "_model_module_version": "1.5.0",
            "value": " 38/38 [00:01&lt;00:00, 19.49it/s]",
            "_view_count": null,
            "_view_module_version": "1.5.0",
            "description_tooltip": null,
            "_model_module": "@jupyter-widgets/controls",
            "layout": "IPY_MODEL_c5902e54e2024b55bea237c6b2ab73fe"
          }
        },
        "4ca94ddb96a44fe3a0b62318c429c376": {
          "model_module": "@jupyter-widgets/controls",
          "model_name": "ProgressStyleModel",
          "state": {
            "_view_name": "StyleView",
            "_model_name": "ProgressStyleModel",
            "description_width": "initial",
            "_view_module": "@jupyter-widgets/base",
            "_model_module_version": "1.5.0",
            "_view_count": null,
            "_view_module_version": "1.2.0",
            "bar_color": null,
            "_model_module": "@jupyter-widgets/controls"
          }
        },
        "88455460c9fd4b1c90dcdd75a0147a05": {
          "model_module": "@jupyter-widgets/base",
          "model_name": "LayoutModel",
          "state": {
            "_view_name": "LayoutView",
            "grid_template_rows": null,
            "right": null,
            "justify_content": null,
            "_view_module": "@jupyter-widgets/base",
            "overflow": null,
            "_model_module_version": "1.2.0",
            "_view_count": null,
            "flex_flow": null,
            "width": null,
            "min_width": null,
            "border": null,
            "align_items": null,
            "bottom": null,
            "_model_module": "@jupyter-widgets/base",
            "top": null,
            "grid_column": null,
            "overflow_y": null,
            "overflow_x": null,
            "grid_auto_flow": null,
            "grid_area": null,
            "grid_template_columns": null,
            "flex": null,
            "_model_name": "LayoutModel",
            "justify_items": null,
            "grid_row": null,
            "max_height": null,
            "align_content": null,
            "visibility": null,
            "align_self": null,
            "height": null,
            "min_height": null,
            "padding": null,
            "grid_auto_rows": null,
            "grid_gap": null,
            "max_width": null,
            "order": null,
            "_view_module_version": "1.2.0",
            "grid_template_areas": null,
            "object_position": null,
            "object_fit": null,
            "grid_auto_columns": null,
            "margin": null,
            "display": null,
            "left": null
          }
        },
        "12e900ef6a914d428014f8bae3a03160": {
          "model_module": "@jupyter-widgets/controls",
          "model_name": "DescriptionStyleModel",
          "state": {
            "_view_name": "StyleView",
            "_model_name": "DescriptionStyleModel",
            "description_width": "",
            "_view_module": "@jupyter-widgets/base",
            "_model_module_version": "1.5.0",
            "_view_count": null,
            "_view_module_version": "1.2.0",
            "_model_module": "@jupyter-widgets/controls"
          }
        },
        "c5902e54e2024b55bea237c6b2ab73fe": {
          "model_module": "@jupyter-widgets/base",
          "model_name": "LayoutModel",
          "state": {
            "_view_name": "LayoutView",
            "grid_template_rows": null,
            "right": null,
            "justify_content": null,
            "_view_module": "@jupyter-widgets/base",
            "overflow": null,
            "_model_module_version": "1.2.0",
            "_view_count": null,
            "flex_flow": null,
            "width": null,
            "min_width": null,
            "border": null,
            "align_items": null,
            "bottom": null,
            "_model_module": "@jupyter-widgets/base",
            "top": null,
            "grid_column": null,
            "overflow_y": null,
            "overflow_x": null,
            "grid_auto_flow": null,
            "grid_area": null,
            "grid_template_columns": null,
            "flex": null,
            "_model_name": "LayoutModel",
            "justify_items": null,
            "grid_row": null,
            "max_height": null,
            "align_content": null,
            "visibility": null,
            "align_self": null,
            "height": null,
            "min_height": null,
            "padding": null,
            "grid_auto_rows": null,
            "grid_gap": null,
            "max_width": null,
            "order": null,
            "_view_module_version": "1.2.0",
            "grid_template_areas": null,
            "object_position": null,
            "object_fit": null,
            "grid_auto_columns": null,
            "margin": null,
            "display": null,
            "left": null
          }
        },
        "f0791c95562d4b2196f34e1f3666fe9c": {
          "model_module": "@jupyter-widgets/controls",
          "model_name": "HBoxModel",
          "state": {
            "_view_name": "HBoxView",
            "_dom_classes": [],
            "_model_name": "HBoxModel",
            "_view_module": "@jupyter-widgets/controls",
            "_model_module_version": "1.5.0",
            "_view_count": null,
            "_view_module_version": "1.5.0",
            "box_style": "",
            "layout": "IPY_MODEL_f692eff055ff4fa490404c7c62826a4e",
            "_model_module": "@jupyter-widgets/controls",
            "children": [
              "IPY_MODEL_3bf0b6d015894fa2a3fa5891e5634d58",
              "IPY_MODEL_fa96e92e6c6d4a0f9f7cb816f327e9e5"
            ]
          }
        },
        "f692eff055ff4fa490404c7c62826a4e": {
          "model_module": "@jupyter-widgets/base",
          "model_name": "LayoutModel",
          "state": {
            "_view_name": "LayoutView",
            "grid_template_rows": null,
            "right": null,
            "justify_content": null,
            "_view_module": "@jupyter-widgets/base",
            "overflow": null,
            "_model_module_version": "1.2.0",
            "_view_count": null,
            "flex_flow": null,
            "width": null,
            "min_width": null,
            "border": null,
            "align_items": null,
            "bottom": null,
            "_model_module": "@jupyter-widgets/base",
            "top": null,
            "grid_column": null,
            "overflow_y": null,
            "overflow_x": null,
            "grid_auto_flow": null,
            "grid_area": null,
            "grid_template_columns": null,
            "flex": null,
            "_model_name": "LayoutModel",
            "justify_items": null,
            "grid_row": null,
            "max_height": null,
            "align_content": null,
            "visibility": null,
            "align_self": null,
            "height": null,
            "min_height": null,
            "padding": null,
            "grid_auto_rows": null,
            "grid_gap": null,
            "max_width": null,
            "order": null,
            "_view_module_version": "1.2.0",
            "grid_template_areas": null,
            "object_position": null,
            "object_fit": null,
            "grid_auto_columns": null,
            "margin": null,
            "display": null,
            "left": null
          }
        },
        "3bf0b6d015894fa2a3fa5891e5634d58": {
          "model_module": "@jupyter-widgets/controls",
          "model_name": "FloatProgressModel",
          "state": {
            "_view_name": "ProgressView",
            "style": "IPY_MODEL_5af0310cc4b2427aad1b93fffe0f8466",
            "_dom_classes": [],
            "description": "100%",
            "_model_name": "FloatProgressModel",
            "bar_style": "success",
            "max": 41,
            "_view_module": "@jupyter-widgets/controls",
            "_model_module_version": "1.5.0",
            "value": 41,
            "_view_count": null,
            "_view_module_version": "1.5.0",
            "orientation": "horizontal",
            "min": 0,
            "description_tooltip": null,
            "_model_module": "@jupyter-widgets/controls",
            "layout": "IPY_MODEL_4f79ce58795542909b026473becc8b99"
          }
        },
        "fa96e92e6c6d4a0f9f7cb816f327e9e5": {
          "model_module": "@jupyter-widgets/controls",
          "model_name": "HTMLModel",
          "state": {
            "_view_name": "HTMLView",
            "style": "IPY_MODEL_f4d9847a7d464bf98278d808797ff54b",
            "_dom_classes": [],
            "description": "",
            "_model_name": "HTMLModel",
            "placeholder": "​",
            "_view_module": "@jupyter-widgets/controls",
            "_model_module_version": "1.5.0",
            "value": " 41/41 [00:00&lt;00:00, 651.42it/s]",
            "_view_count": null,
            "_view_module_version": "1.5.0",
            "description_tooltip": null,
            "_model_module": "@jupyter-widgets/controls",
            "layout": "IPY_MODEL_38b5cf598fcd44638cbbf9fcb76b9067"
          }
        },
        "5af0310cc4b2427aad1b93fffe0f8466": {
          "model_module": "@jupyter-widgets/controls",
          "model_name": "ProgressStyleModel",
          "state": {
            "_view_name": "StyleView",
            "_model_name": "ProgressStyleModel",
            "description_width": "initial",
            "_view_module": "@jupyter-widgets/base",
            "_model_module_version": "1.5.0",
            "_view_count": null,
            "_view_module_version": "1.2.0",
            "bar_color": null,
            "_model_module": "@jupyter-widgets/controls"
          }
        },
        "4f79ce58795542909b026473becc8b99": {
          "model_module": "@jupyter-widgets/base",
          "model_name": "LayoutModel",
          "state": {
            "_view_name": "LayoutView",
            "grid_template_rows": null,
            "right": null,
            "justify_content": null,
            "_view_module": "@jupyter-widgets/base",
            "overflow": null,
            "_model_module_version": "1.2.0",
            "_view_count": null,
            "flex_flow": null,
            "width": null,
            "min_width": null,
            "border": null,
            "align_items": null,
            "bottom": null,
            "_model_module": "@jupyter-widgets/base",
            "top": null,
            "grid_column": null,
            "overflow_y": null,
            "overflow_x": null,
            "grid_auto_flow": null,
            "grid_area": null,
            "grid_template_columns": null,
            "flex": null,
            "_model_name": "LayoutModel",
            "justify_items": null,
            "grid_row": null,
            "max_height": null,
            "align_content": null,
            "visibility": null,
            "align_self": null,
            "height": null,
            "min_height": null,
            "padding": null,
            "grid_auto_rows": null,
            "grid_gap": null,
            "max_width": null,
            "order": null,
            "_view_module_version": "1.2.0",
            "grid_template_areas": null,
            "object_position": null,
            "object_fit": null,
            "grid_auto_columns": null,
            "margin": null,
            "display": null,
            "left": null
          }
        },
        "f4d9847a7d464bf98278d808797ff54b": {
          "model_module": "@jupyter-widgets/controls",
          "model_name": "DescriptionStyleModel",
          "state": {
            "_view_name": "StyleView",
            "_model_name": "DescriptionStyleModel",
            "description_width": "",
            "_view_module": "@jupyter-widgets/base",
            "_model_module_version": "1.5.0",
            "_view_count": null,
            "_view_module_version": "1.2.0",
            "_model_module": "@jupyter-widgets/controls"
          }
        },
        "38b5cf598fcd44638cbbf9fcb76b9067": {
          "model_module": "@jupyter-widgets/base",
          "model_name": "LayoutModel",
          "state": {
            "_view_name": "LayoutView",
            "grid_template_rows": null,
            "right": null,
            "justify_content": null,
            "_view_module": "@jupyter-widgets/base",
            "overflow": null,
            "_model_module_version": "1.2.0",
            "_view_count": null,
            "flex_flow": null,
            "width": null,
            "min_width": null,
            "border": null,
            "align_items": null,
            "bottom": null,
            "_model_module": "@jupyter-widgets/base",
            "top": null,
            "grid_column": null,
            "overflow_y": null,
            "overflow_x": null,
            "grid_auto_flow": null,
            "grid_area": null,
            "grid_template_columns": null,
            "flex": null,
            "_model_name": "LayoutModel",
            "justify_items": null,
            "grid_row": null,
            "max_height": null,
            "align_content": null,
            "visibility": null,
            "align_self": null,
            "height": null,
            "min_height": null,
            "padding": null,
            "grid_auto_rows": null,
            "grid_gap": null,
            "max_width": null,
            "order": null,
            "_view_module_version": "1.2.0",
            "grid_template_areas": null,
            "object_position": null,
            "object_fit": null,
            "grid_auto_columns": null,
            "margin": null,
            "display": null,
            "left": null
          }
        },
        "695d6906cd8548afb39d67ad32cd93fe": {
          "model_module": "@jupyter-widgets/controls",
          "model_name": "HBoxModel",
          "state": {
            "_view_name": "HBoxView",
            "_dom_classes": [],
            "_model_name": "HBoxModel",
            "_view_module": "@jupyter-widgets/controls",
            "_model_module_version": "1.5.0",
            "_view_count": null,
            "_view_module_version": "1.5.0",
            "box_style": "",
            "layout": "IPY_MODEL_079248a444a24ad7bd1c17fce7934cbc",
            "_model_module": "@jupyter-widgets/controls",
            "children": [
              "IPY_MODEL_2e543e0445b84006a885d4e070c5e9ae",
              "IPY_MODEL_e274091a66b045d4acd5875605f7903c"
            ]
          }
        },
        "079248a444a24ad7bd1c17fce7934cbc": {
          "model_module": "@jupyter-widgets/base",
          "model_name": "LayoutModel",
          "state": {
            "_view_name": "LayoutView",
            "grid_template_rows": null,
            "right": null,
            "justify_content": null,
            "_view_module": "@jupyter-widgets/base",
            "overflow": null,
            "_model_module_version": "1.2.0",
            "_view_count": null,
            "flex_flow": null,
            "width": null,
            "min_width": null,
            "border": null,
            "align_items": null,
            "bottom": null,
            "_model_module": "@jupyter-widgets/base",
            "top": null,
            "grid_column": null,
            "overflow_y": null,
            "overflow_x": null,
            "grid_auto_flow": null,
            "grid_area": null,
            "grid_template_columns": null,
            "flex": null,
            "_model_name": "LayoutModel",
            "justify_items": null,
            "grid_row": null,
            "max_height": null,
            "align_content": null,
            "visibility": null,
            "align_self": null,
            "height": null,
            "min_height": null,
            "padding": null,
            "grid_auto_rows": null,
            "grid_gap": null,
            "max_width": null,
            "order": null,
            "_view_module_version": "1.2.0",
            "grid_template_areas": null,
            "object_position": null,
            "object_fit": null,
            "grid_auto_columns": null,
            "margin": null,
            "display": null,
            "left": null
          }
        },
        "2e543e0445b84006a885d4e070c5e9ae": {
          "model_module": "@jupyter-widgets/controls",
          "model_name": "FloatProgressModel",
          "state": {
            "_view_name": "ProgressView",
            "style": "IPY_MODEL_d2af614d839e4725b49070b032cef146",
            "_dom_classes": [],
            "description": "100%",
            "_model_name": "FloatProgressModel",
            "bar_style": "success",
            "max": 35,
            "_view_module": "@jupyter-widgets/controls",
            "_model_module_version": "1.5.0",
            "value": 35,
            "_view_count": null,
            "_view_module_version": "1.5.0",
            "orientation": "horizontal",
            "min": 0,
            "description_tooltip": null,
            "_model_module": "@jupyter-widgets/controls",
            "layout": "IPY_MODEL_2055a612005e4b49bea5424ce948320e"
          }
        },
        "e274091a66b045d4acd5875605f7903c": {
          "model_module": "@jupyter-widgets/controls",
          "model_name": "HTMLModel",
          "state": {
            "_view_name": "HTMLView",
            "style": "IPY_MODEL_46fd1f763b6846bc92a6b47768e6f677",
            "_dom_classes": [],
            "description": "",
            "_model_name": "HTMLModel",
            "placeholder": "​",
            "_view_module": "@jupyter-widgets/controls",
            "_model_module_version": "1.5.0",
            "value": " 35/35 [00:37&lt;00:00,  1.06s/it]",
            "_view_count": null,
            "_view_module_version": "1.5.0",
            "description_tooltip": null,
            "_model_module": "@jupyter-widgets/controls",
            "layout": "IPY_MODEL_545b13f8972645a9b375cdb3c9533cff"
          }
        },
        "d2af614d839e4725b49070b032cef146": {
          "model_module": "@jupyter-widgets/controls",
          "model_name": "ProgressStyleModel",
          "state": {
            "_view_name": "StyleView",
            "_model_name": "ProgressStyleModel",
            "description_width": "initial",
            "_view_module": "@jupyter-widgets/base",
            "_model_module_version": "1.5.0",
            "_view_count": null,
            "_view_module_version": "1.2.0",
            "bar_color": null,
            "_model_module": "@jupyter-widgets/controls"
          }
        },
        "2055a612005e4b49bea5424ce948320e": {
          "model_module": "@jupyter-widgets/base",
          "model_name": "LayoutModel",
          "state": {
            "_view_name": "LayoutView",
            "grid_template_rows": null,
            "right": null,
            "justify_content": null,
            "_view_module": "@jupyter-widgets/base",
            "overflow": null,
            "_model_module_version": "1.2.0",
            "_view_count": null,
            "flex_flow": null,
            "width": null,
            "min_width": null,
            "border": null,
            "align_items": null,
            "bottom": null,
            "_model_module": "@jupyter-widgets/base",
            "top": null,
            "grid_column": null,
            "overflow_y": null,
            "overflow_x": null,
            "grid_auto_flow": null,
            "grid_area": null,
            "grid_template_columns": null,
            "flex": null,
            "_model_name": "LayoutModel",
            "justify_items": null,
            "grid_row": null,
            "max_height": null,
            "align_content": null,
            "visibility": null,
            "align_self": null,
            "height": null,
            "min_height": null,
            "padding": null,
            "grid_auto_rows": null,
            "grid_gap": null,
            "max_width": null,
            "order": null,
            "_view_module_version": "1.2.0",
            "grid_template_areas": null,
            "object_position": null,
            "object_fit": null,
            "grid_auto_columns": null,
            "margin": null,
            "display": null,
            "left": null
          }
        },
        "46fd1f763b6846bc92a6b47768e6f677": {
          "model_module": "@jupyter-widgets/controls",
          "model_name": "DescriptionStyleModel",
          "state": {
            "_view_name": "StyleView",
            "_model_name": "DescriptionStyleModel",
            "description_width": "",
            "_view_module": "@jupyter-widgets/base",
            "_model_module_version": "1.5.0",
            "_view_count": null,
            "_view_module_version": "1.2.0",
            "_model_module": "@jupyter-widgets/controls"
          }
        },
        "545b13f8972645a9b375cdb3c9533cff": {
          "model_module": "@jupyter-widgets/base",
          "model_name": "LayoutModel",
          "state": {
            "_view_name": "LayoutView",
            "grid_template_rows": null,
            "right": null,
            "justify_content": null,
            "_view_module": "@jupyter-widgets/base",
            "overflow": null,
            "_model_module_version": "1.2.0",
            "_view_count": null,
            "flex_flow": null,
            "width": null,
            "min_width": null,
            "border": null,
            "align_items": null,
            "bottom": null,
            "_model_module": "@jupyter-widgets/base",
            "top": null,
            "grid_column": null,
            "overflow_y": null,
            "overflow_x": null,
            "grid_auto_flow": null,
            "grid_area": null,
            "grid_template_columns": null,
            "flex": null,
            "_model_name": "LayoutModel",
            "justify_items": null,
            "grid_row": null,
            "max_height": null,
            "align_content": null,
            "visibility": null,
            "align_self": null,
            "height": null,
            "min_height": null,
            "padding": null,
            "grid_auto_rows": null,
            "grid_gap": null,
            "max_width": null,
            "order": null,
            "_view_module_version": "1.2.0",
            "grid_template_areas": null,
            "object_position": null,
            "object_fit": null,
            "grid_auto_columns": null,
            "margin": null,
            "display": null,
            "left": null
          }
        },
        "c12537374d454ca2b06c60bb470d38f2": {
          "model_module": "@jupyter-widgets/controls",
          "model_name": "HBoxModel",
          "state": {
            "_view_name": "HBoxView",
            "_dom_classes": [],
            "_model_name": "HBoxModel",
            "_view_module": "@jupyter-widgets/controls",
            "_model_module_version": "1.5.0",
            "_view_count": null,
            "_view_module_version": "1.5.0",
            "box_style": "",
            "layout": "IPY_MODEL_d00f577000864bdeaaba86d3b09971b0",
            "_model_module": "@jupyter-widgets/controls",
            "children": [
              "IPY_MODEL_1bf27fd2b77446d3aa4fdb6a7f8ef1ec",
              "IPY_MODEL_bd70a45da59e4e96a48890b44931cc9d"
            ]
          }
        },
        "d00f577000864bdeaaba86d3b09971b0": {
          "model_module": "@jupyter-widgets/base",
          "model_name": "LayoutModel",
          "state": {
            "_view_name": "LayoutView",
            "grid_template_rows": null,
            "right": null,
            "justify_content": null,
            "_view_module": "@jupyter-widgets/base",
            "overflow": null,
            "_model_module_version": "1.2.0",
            "_view_count": null,
            "flex_flow": null,
            "width": null,
            "min_width": null,
            "border": null,
            "align_items": null,
            "bottom": null,
            "_model_module": "@jupyter-widgets/base",
            "top": null,
            "grid_column": null,
            "overflow_y": null,
            "overflow_x": null,
            "grid_auto_flow": null,
            "grid_area": null,
            "grid_template_columns": null,
            "flex": null,
            "_model_name": "LayoutModel",
            "justify_items": null,
            "grid_row": null,
            "max_height": null,
            "align_content": null,
            "visibility": null,
            "align_self": null,
            "height": null,
            "min_height": null,
            "padding": null,
            "grid_auto_rows": null,
            "grid_gap": null,
            "max_width": null,
            "order": null,
            "_view_module_version": "1.2.0",
            "grid_template_areas": null,
            "object_position": null,
            "object_fit": null,
            "grid_auto_columns": null,
            "margin": null,
            "display": null,
            "left": null
          }
        },
        "1bf27fd2b77446d3aa4fdb6a7f8ef1ec": {
          "model_module": "@jupyter-widgets/controls",
          "model_name": "FloatProgressModel",
          "state": {
            "_view_name": "ProgressView",
            "style": "IPY_MODEL_9c6e6c8db47b4f61abf45045ea2b2009",
            "_dom_classes": [],
            "description": "100%",
            "_model_name": "FloatProgressModel",
            "bar_style": "success",
            "max": 35,
            "_view_module": "@jupyter-widgets/controls",
            "_model_module_version": "1.5.0",
            "value": 35,
            "_view_count": null,
            "_view_module_version": "1.5.0",
            "orientation": "horizontal",
            "min": 0,
            "description_tooltip": null,
            "_model_module": "@jupyter-widgets/controls",
            "layout": "IPY_MODEL_a22b8420fcc2422297b615d212d98676"
          }
        },
        "bd70a45da59e4e96a48890b44931cc9d": {
          "model_module": "@jupyter-widgets/controls",
          "model_name": "HTMLModel",
          "state": {
            "_view_name": "HTMLView",
            "style": "IPY_MODEL_1440a26982d04efb916d71d0709ec881",
            "_dom_classes": [],
            "description": "",
            "_model_name": "HTMLModel",
            "placeholder": "​",
            "_view_module": "@jupyter-widgets/controls",
            "_model_module_version": "1.5.0",
            "value": " 35/35 [00:16&lt;00:00,  2.08it/s]",
            "_view_count": null,
            "_view_module_version": "1.5.0",
            "description_tooltip": null,
            "_model_module": "@jupyter-widgets/controls",
            "layout": "IPY_MODEL_b0ba62fca6644e50ae9d3c5f4df5a499"
          }
        },
        "9c6e6c8db47b4f61abf45045ea2b2009": {
          "model_module": "@jupyter-widgets/controls",
          "model_name": "ProgressStyleModel",
          "state": {
            "_view_name": "StyleView",
            "_model_name": "ProgressStyleModel",
            "description_width": "initial",
            "_view_module": "@jupyter-widgets/base",
            "_model_module_version": "1.5.0",
            "_view_count": null,
            "_view_module_version": "1.2.0",
            "bar_color": null,
            "_model_module": "@jupyter-widgets/controls"
          }
        },
        "a22b8420fcc2422297b615d212d98676": {
          "model_module": "@jupyter-widgets/base",
          "model_name": "LayoutModel",
          "state": {
            "_view_name": "LayoutView",
            "grid_template_rows": null,
            "right": null,
            "justify_content": null,
            "_view_module": "@jupyter-widgets/base",
            "overflow": null,
            "_model_module_version": "1.2.0",
            "_view_count": null,
            "flex_flow": null,
            "width": null,
            "min_width": null,
            "border": null,
            "align_items": null,
            "bottom": null,
            "_model_module": "@jupyter-widgets/base",
            "top": null,
            "grid_column": null,
            "overflow_y": null,
            "overflow_x": null,
            "grid_auto_flow": null,
            "grid_area": null,
            "grid_template_columns": null,
            "flex": null,
            "_model_name": "LayoutModel",
            "justify_items": null,
            "grid_row": null,
            "max_height": null,
            "align_content": null,
            "visibility": null,
            "align_self": null,
            "height": null,
            "min_height": null,
            "padding": null,
            "grid_auto_rows": null,
            "grid_gap": null,
            "max_width": null,
            "order": null,
            "_view_module_version": "1.2.0",
            "grid_template_areas": null,
            "object_position": null,
            "object_fit": null,
            "grid_auto_columns": null,
            "margin": null,
            "display": null,
            "left": null
          }
        },
        "1440a26982d04efb916d71d0709ec881": {
          "model_module": "@jupyter-widgets/controls",
          "model_name": "DescriptionStyleModel",
          "state": {
            "_view_name": "StyleView",
            "_model_name": "DescriptionStyleModel",
            "description_width": "",
            "_view_module": "@jupyter-widgets/base",
            "_model_module_version": "1.5.0",
            "_view_count": null,
            "_view_module_version": "1.2.0",
            "_model_module": "@jupyter-widgets/controls"
          }
        },
        "b0ba62fca6644e50ae9d3c5f4df5a499": {
          "model_module": "@jupyter-widgets/base",
          "model_name": "LayoutModel",
          "state": {
            "_view_name": "LayoutView",
            "grid_template_rows": null,
            "right": null,
            "justify_content": null,
            "_view_module": "@jupyter-widgets/base",
            "overflow": null,
            "_model_module_version": "1.2.0",
            "_view_count": null,
            "flex_flow": null,
            "width": null,
            "min_width": null,
            "border": null,
            "align_items": null,
            "bottom": null,
            "_model_module": "@jupyter-widgets/base",
            "top": null,
            "grid_column": null,
            "overflow_y": null,
            "overflow_x": null,
            "grid_auto_flow": null,
            "grid_area": null,
            "grid_template_columns": null,
            "flex": null,
            "_model_name": "LayoutModel",
            "justify_items": null,
            "grid_row": null,
            "max_height": null,
            "align_content": null,
            "visibility": null,
            "align_self": null,
            "height": null,
            "min_height": null,
            "padding": null,
            "grid_auto_rows": null,
            "grid_gap": null,
            "max_width": null,
            "order": null,
            "_view_module_version": "1.2.0",
            "grid_template_areas": null,
            "object_position": null,
            "object_fit": null,
            "grid_auto_columns": null,
            "margin": null,
            "display": null,
            "left": null
          }
        },
        "5af6ea8c84fa495191a9251edd2faf09": {
          "model_module": "@jupyter-widgets/controls",
          "model_name": "HBoxModel",
          "state": {
            "_view_name": "HBoxView",
            "_dom_classes": [],
            "_model_name": "HBoxModel",
            "_view_module": "@jupyter-widgets/controls",
            "_model_module_version": "1.5.0",
            "_view_count": null,
            "_view_module_version": "1.5.0",
            "box_style": "",
            "layout": "IPY_MODEL_ddc7322a66f64486be7038196feee22f",
            "_model_module": "@jupyter-widgets/controls",
            "children": [
              "IPY_MODEL_d8601d5bcc8140ce8afd15de64b2fcd4",
              "IPY_MODEL_6583d67a423b4e57a9137a0af96668db"
            ]
          }
        },
        "ddc7322a66f64486be7038196feee22f": {
          "model_module": "@jupyter-widgets/base",
          "model_name": "LayoutModel",
          "state": {
            "_view_name": "LayoutView",
            "grid_template_rows": null,
            "right": null,
            "justify_content": null,
            "_view_module": "@jupyter-widgets/base",
            "overflow": null,
            "_model_module_version": "1.2.0",
            "_view_count": null,
            "flex_flow": null,
            "width": null,
            "min_width": null,
            "border": null,
            "align_items": null,
            "bottom": null,
            "_model_module": "@jupyter-widgets/base",
            "top": null,
            "grid_column": null,
            "overflow_y": null,
            "overflow_x": null,
            "grid_auto_flow": null,
            "grid_area": null,
            "grid_template_columns": null,
            "flex": null,
            "_model_name": "LayoutModel",
            "justify_items": null,
            "grid_row": null,
            "max_height": null,
            "align_content": null,
            "visibility": null,
            "align_self": null,
            "height": null,
            "min_height": null,
            "padding": null,
            "grid_auto_rows": null,
            "grid_gap": null,
            "max_width": null,
            "order": null,
            "_view_module_version": "1.2.0",
            "grid_template_areas": null,
            "object_position": null,
            "object_fit": null,
            "grid_auto_columns": null,
            "margin": null,
            "display": null,
            "left": null
          }
        },
        "d8601d5bcc8140ce8afd15de64b2fcd4": {
          "model_module": "@jupyter-widgets/controls",
          "model_name": "FloatProgressModel",
          "state": {
            "_view_name": "ProgressView",
            "style": "IPY_MODEL_2e3fbebc54e64c8ebb6bcdeb6f897502",
            "_dom_classes": [],
            "description": "100%",
            "_model_name": "FloatProgressModel",
            "bar_style": "success",
            "max": 38,
            "_view_module": "@jupyter-widgets/controls",
            "_model_module_version": "1.5.0",
            "value": 38,
            "_view_count": null,
            "_view_module_version": "1.5.0",
            "orientation": "horizontal",
            "min": 0,
            "description_tooltip": null,
            "_model_module": "@jupyter-widgets/controls",
            "layout": "IPY_MODEL_74b0ab6babdc463ab0f8c1a716358ab6"
          }
        },
        "6583d67a423b4e57a9137a0af96668db": {
          "model_module": "@jupyter-widgets/controls",
          "model_name": "HTMLModel",
          "state": {
            "_view_name": "HTMLView",
            "style": "IPY_MODEL_c989f672fa2f466686cc2e0d9633c9b5",
            "_dom_classes": [],
            "description": "",
            "_model_name": "HTMLModel",
            "placeholder": "​",
            "_view_module": "@jupyter-widgets/controls",
            "_model_module_version": "1.5.0",
            "value": " 38/38 [00:16&lt;00:00,  2.27it/s]",
            "_view_count": null,
            "_view_module_version": "1.5.0",
            "description_tooltip": null,
            "_model_module": "@jupyter-widgets/controls",
            "layout": "IPY_MODEL_dc10f4b123094a75880a09276e08d49a"
          }
        },
        "2e3fbebc54e64c8ebb6bcdeb6f897502": {
          "model_module": "@jupyter-widgets/controls",
          "model_name": "ProgressStyleModel",
          "state": {
            "_view_name": "StyleView",
            "_model_name": "ProgressStyleModel",
            "description_width": "initial",
            "_view_module": "@jupyter-widgets/base",
            "_model_module_version": "1.5.0",
            "_view_count": null,
            "_view_module_version": "1.2.0",
            "bar_color": null,
            "_model_module": "@jupyter-widgets/controls"
          }
        },
        "74b0ab6babdc463ab0f8c1a716358ab6": {
          "model_module": "@jupyter-widgets/base",
          "model_name": "LayoutModel",
          "state": {
            "_view_name": "LayoutView",
            "grid_template_rows": null,
            "right": null,
            "justify_content": null,
            "_view_module": "@jupyter-widgets/base",
            "overflow": null,
            "_model_module_version": "1.2.0",
            "_view_count": null,
            "flex_flow": null,
            "width": null,
            "min_width": null,
            "border": null,
            "align_items": null,
            "bottom": null,
            "_model_module": "@jupyter-widgets/base",
            "top": null,
            "grid_column": null,
            "overflow_y": null,
            "overflow_x": null,
            "grid_auto_flow": null,
            "grid_area": null,
            "grid_template_columns": null,
            "flex": null,
            "_model_name": "LayoutModel",
            "justify_items": null,
            "grid_row": null,
            "max_height": null,
            "align_content": null,
            "visibility": null,
            "align_self": null,
            "height": null,
            "min_height": null,
            "padding": null,
            "grid_auto_rows": null,
            "grid_gap": null,
            "max_width": null,
            "order": null,
            "_view_module_version": "1.2.0",
            "grid_template_areas": null,
            "object_position": null,
            "object_fit": null,
            "grid_auto_columns": null,
            "margin": null,
            "display": null,
            "left": null
          }
        },
        "c989f672fa2f466686cc2e0d9633c9b5": {
          "model_module": "@jupyter-widgets/controls",
          "model_name": "DescriptionStyleModel",
          "state": {
            "_view_name": "StyleView",
            "_model_name": "DescriptionStyleModel",
            "description_width": "",
            "_view_module": "@jupyter-widgets/base",
            "_model_module_version": "1.5.0",
            "_view_count": null,
            "_view_module_version": "1.2.0",
            "_model_module": "@jupyter-widgets/controls"
          }
        },
        "dc10f4b123094a75880a09276e08d49a": {
          "model_module": "@jupyter-widgets/base",
          "model_name": "LayoutModel",
          "state": {
            "_view_name": "LayoutView",
            "grid_template_rows": null,
            "right": null,
            "justify_content": null,
            "_view_module": "@jupyter-widgets/base",
            "overflow": null,
            "_model_module_version": "1.2.0",
            "_view_count": null,
            "flex_flow": null,
            "width": null,
            "min_width": null,
            "border": null,
            "align_items": null,
            "bottom": null,
            "_model_module": "@jupyter-widgets/base",
            "top": null,
            "grid_column": null,
            "overflow_y": null,
            "overflow_x": null,
            "grid_auto_flow": null,
            "grid_area": null,
            "grid_template_columns": null,
            "flex": null,
            "_model_name": "LayoutModel",
            "justify_items": null,
            "grid_row": null,
            "max_height": null,
            "align_content": null,
            "visibility": null,
            "align_self": null,
            "height": null,
            "min_height": null,
            "padding": null,
            "grid_auto_rows": null,
            "grid_gap": null,
            "max_width": null,
            "order": null,
            "_view_module_version": "1.2.0",
            "grid_template_areas": null,
            "object_position": null,
            "object_fit": null,
            "grid_auto_columns": null,
            "margin": null,
            "display": null,
            "left": null
          }
        },
        "27ecb639d4a945e4902443a81901dfc0": {
          "model_module": "@jupyter-widgets/controls",
          "model_name": "HBoxModel",
          "state": {
            "_view_name": "HBoxView",
            "_dom_classes": [],
            "_model_name": "HBoxModel",
            "_view_module": "@jupyter-widgets/controls",
            "_model_module_version": "1.5.0",
            "_view_count": null,
            "_view_module_version": "1.5.0",
            "box_style": "",
            "layout": "IPY_MODEL_89a972fa3e1f4bb89e02f5eac6600ec8",
            "_model_module": "@jupyter-widgets/controls",
            "children": [
              "IPY_MODEL_cc5623b99434421eb18e5376e5cf8db4",
              "IPY_MODEL_1de5b16637f143b7bfa1b95ffad5060b"
            ]
          }
        },
        "89a972fa3e1f4bb89e02f5eac6600ec8": {
          "model_module": "@jupyter-widgets/base",
          "model_name": "LayoutModel",
          "state": {
            "_view_name": "LayoutView",
            "grid_template_rows": null,
            "right": null,
            "justify_content": null,
            "_view_module": "@jupyter-widgets/base",
            "overflow": null,
            "_model_module_version": "1.2.0",
            "_view_count": null,
            "flex_flow": null,
            "width": null,
            "min_width": null,
            "border": null,
            "align_items": null,
            "bottom": null,
            "_model_module": "@jupyter-widgets/base",
            "top": null,
            "grid_column": null,
            "overflow_y": null,
            "overflow_x": null,
            "grid_auto_flow": null,
            "grid_area": null,
            "grid_template_columns": null,
            "flex": null,
            "_model_name": "LayoutModel",
            "justify_items": null,
            "grid_row": null,
            "max_height": null,
            "align_content": null,
            "visibility": null,
            "align_self": null,
            "height": null,
            "min_height": null,
            "padding": null,
            "grid_auto_rows": null,
            "grid_gap": null,
            "max_width": null,
            "order": null,
            "_view_module_version": "1.2.0",
            "grid_template_areas": null,
            "object_position": null,
            "object_fit": null,
            "grid_auto_columns": null,
            "margin": null,
            "display": null,
            "left": null
          }
        },
        "cc5623b99434421eb18e5376e5cf8db4": {
          "model_module": "@jupyter-widgets/controls",
          "model_name": "FloatProgressModel",
          "state": {
            "_view_name": "ProgressView",
            "style": "IPY_MODEL_2775a36c6c8d4eb5b0bdb53cb9360468",
            "_dom_classes": [],
            "description": "100%",
            "_model_name": "FloatProgressModel",
            "bar_style": "success",
            "max": 41,
            "_view_module": "@jupyter-widgets/controls",
            "_model_module_version": "1.5.0",
            "value": 41,
            "_view_count": null,
            "_view_module_version": "1.5.0",
            "orientation": "horizontal",
            "min": 0,
            "description_tooltip": null,
            "_model_module": "@jupyter-widgets/controls",
            "layout": "IPY_MODEL_20f7f751ed9f42f4b3af4e7a1a1a97fc"
          }
        },
        "1de5b16637f143b7bfa1b95ffad5060b": {
          "model_module": "@jupyter-widgets/controls",
          "model_name": "HTMLModel",
          "state": {
            "_view_name": "HTMLView",
            "style": "IPY_MODEL_25d382c210e740dda3e38247c57ba35c",
            "_dom_classes": [],
            "description": "",
            "_model_name": "HTMLModel",
            "placeholder": "​",
            "_view_module": "@jupyter-widgets/controls",
            "_model_module_version": "1.5.0",
            "value": " 41/41 [11:46&lt;00:00, 17.23s/it]",
            "_view_count": null,
            "_view_module_version": "1.5.0",
            "description_tooltip": null,
            "_model_module": "@jupyter-widgets/controls",
            "layout": "IPY_MODEL_06022247dae9411cb682447d61495c62"
          }
        },
        "2775a36c6c8d4eb5b0bdb53cb9360468": {
          "model_module": "@jupyter-widgets/controls",
          "model_name": "ProgressStyleModel",
          "state": {
            "_view_name": "StyleView",
            "_model_name": "ProgressStyleModel",
            "description_width": "initial",
            "_view_module": "@jupyter-widgets/base",
            "_model_module_version": "1.5.0",
            "_view_count": null,
            "_view_module_version": "1.2.0",
            "bar_color": null,
            "_model_module": "@jupyter-widgets/controls"
          }
        },
        "20f7f751ed9f42f4b3af4e7a1a1a97fc": {
          "model_module": "@jupyter-widgets/base",
          "model_name": "LayoutModel",
          "state": {
            "_view_name": "LayoutView",
            "grid_template_rows": null,
            "right": null,
            "justify_content": null,
            "_view_module": "@jupyter-widgets/base",
            "overflow": null,
            "_model_module_version": "1.2.0",
            "_view_count": null,
            "flex_flow": null,
            "width": null,
            "min_width": null,
            "border": null,
            "align_items": null,
            "bottom": null,
            "_model_module": "@jupyter-widgets/base",
            "top": null,
            "grid_column": null,
            "overflow_y": null,
            "overflow_x": null,
            "grid_auto_flow": null,
            "grid_area": null,
            "grid_template_columns": null,
            "flex": null,
            "_model_name": "LayoutModel",
            "justify_items": null,
            "grid_row": null,
            "max_height": null,
            "align_content": null,
            "visibility": null,
            "align_self": null,
            "height": null,
            "min_height": null,
            "padding": null,
            "grid_auto_rows": null,
            "grid_gap": null,
            "max_width": null,
            "order": null,
            "_view_module_version": "1.2.0",
            "grid_template_areas": null,
            "object_position": null,
            "object_fit": null,
            "grid_auto_columns": null,
            "margin": null,
            "display": null,
            "left": null
          }
        },
        "25d382c210e740dda3e38247c57ba35c": {
          "model_module": "@jupyter-widgets/controls",
          "model_name": "DescriptionStyleModel",
          "state": {
            "_view_name": "StyleView",
            "_model_name": "DescriptionStyleModel",
            "description_width": "",
            "_view_module": "@jupyter-widgets/base",
            "_model_module_version": "1.5.0",
            "_view_count": null,
            "_view_module_version": "1.2.0",
            "_model_module": "@jupyter-widgets/controls"
          }
        },
        "06022247dae9411cb682447d61495c62": {
          "model_module": "@jupyter-widgets/base",
          "model_name": "LayoutModel",
          "state": {
            "_view_name": "LayoutView",
            "grid_template_rows": null,
            "right": null,
            "justify_content": null,
            "_view_module": "@jupyter-widgets/base",
            "overflow": null,
            "_model_module_version": "1.2.0",
            "_view_count": null,
            "flex_flow": null,
            "width": null,
            "min_width": null,
            "border": null,
            "align_items": null,
            "bottom": null,
            "_model_module": "@jupyter-widgets/base",
            "top": null,
            "grid_column": null,
            "overflow_y": null,
            "overflow_x": null,
            "grid_auto_flow": null,
            "grid_area": null,
            "grid_template_columns": null,
            "flex": null,
            "_model_name": "LayoutModel",
            "justify_items": null,
            "grid_row": null,
            "max_height": null,
            "align_content": null,
            "visibility": null,
            "align_self": null,
            "height": null,
            "min_height": null,
            "padding": null,
            "grid_auto_rows": null,
            "grid_gap": null,
            "max_width": null,
            "order": null,
            "_view_module_version": "1.2.0",
            "grid_template_areas": null,
            "object_position": null,
            "object_fit": null,
            "grid_auto_columns": null,
            "margin": null,
            "display": null,
            "left": null
          }
        },
        "7828fbbae7a94eef94bc4c34a3c939d9": {
          "model_module": "@jupyter-widgets/controls",
          "model_name": "HBoxModel",
          "state": {
            "_view_name": "HBoxView",
            "_dom_classes": [],
            "_model_name": "HBoxModel",
            "_view_module": "@jupyter-widgets/controls",
            "_model_module_version": "1.5.0",
            "_view_count": null,
            "_view_module_version": "1.5.0",
            "box_style": "",
            "layout": "IPY_MODEL_e7e5c0b646d6437f873838cf8bdf382b",
            "_model_module": "@jupyter-widgets/controls",
            "children": [
              "IPY_MODEL_d67952811f054ced85deb21cd91029f1",
              "IPY_MODEL_5900f31347684912ac66eda3551f3c35"
            ]
          }
        },
        "e7e5c0b646d6437f873838cf8bdf382b": {
          "model_module": "@jupyter-widgets/base",
          "model_name": "LayoutModel",
          "state": {
            "_view_name": "LayoutView",
            "grid_template_rows": null,
            "right": null,
            "justify_content": null,
            "_view_module": "@jupyter-widgets/base",
            "overflow": null,
            "_model_module_version": "1.2.0",
            "_view_count": null,
            "flex_flow": null,
            "width": null,
            "min_width": null,
            "border": null,
            "align_items": null,
            "bottom": null,
            "_model_module": "@jupyter-widgets/base",
            "top": null,
            "grid_column": null,
            "overflow_y": null,
            "overflow_x": null,
            "grid_auto_flow": null,
            "grid_area": null,
            "grid_template_columns": null,
            "flex": null,
            "_model_name": "LayoutModel",
            "justify_items": null,
            "grid_row": null,
            "max_height": null,
            "align_content": null,
            "visibility": null,
            "align_self": null,
            "height": null,
            "min_height": null,
            "padding": null,
            "grid_auto_rows": null,
            "grid_gap": null,
            "max_width": null,
            "order": null,
            "_view_module_version": "1.2.0",
            "grid_template_areas": null,
            "object_position": null,
            "object_fit": null,
            "grid_auto_columns": null,
            "margin": null,
            "display": null,
            "left": null
          }
        },
        "d67952811f054ced85deb21cd91029f1": {
          "model_module": "@jupyter-widgets/controls",
          "model_name": "FloatProgressModel",
          "state": {
            "_view_name": "ProgressView",
            "style": "IPY_MODEL_6619465266c24140b372eb23f4c2a428",
            "_dom_classes": [],
            "description": "100%",
            "_model_name": "FloatProgressModel",
            "bar_style": "success",
            "max": 35,
            "_view_module": "@jupyter-widgets/controls",
            "_model_module_version": "1.5.0",
            "value": 35,
            "_view_count": null,
            "_view_module_version": "1.5.0",
            "orientation": "horizontal",
            "min": 0,
            "description_tooltip": null,
            "_model_module": "@jupyter-widgets/controls",
            "layout": "IPY_MODEL_dda5247b9a45492dacf10eb2db2ebb32"
          }
        },
        "5900f31347684912ac66eda3551f3c35": {
          "model_module": "@jupyter-widgets/controls",
          "model_name": "HTMLModel",
          "state": {
            "_view_name": "HTMLView",
            "style": "IPY_MODEL_6bfe9a6d0f344987a5e38e9ebdba4bf0",
            "_dom_classes": [],
            "description": "",
            "_model_name": "HTMLModel",
            "placeholder": "​",
            "_view_module": "@jupyter-widgets/controls",
            "_model_module_version": "1.5.0",
            "value": " 35/35 [08:30&lt;00:00, 14.58s/it]",
            "_view_count": null,
            "_view_module_version": "1.5.0",
            "description_tooltip": null,
            "_model_module": "@jupyter-widgets/controls",
            "layout": "IPY_MODEL_fea2c750a14543b4abb39c1dbae04a63"
          }
        },
        "6619465266c24140b372eb23f4c2a428": {
          "model_module": "@jupyter-widgets/controls",
          "model_name": "ProgressStyleModel",
          "state": {
            "_view_name": "StyleView",
            "_model_name": "ProgressStyleModel",
            "description_width": "initial",
            "_view_module": "@jupyter-widgets/base",
            "_model_module_version": "1.5.0",
            "_view_count": null,
            "_view_module_version": "1.2.0",
            "bar_color": null,
            "_model_module": "@jupyter-widgets/controls"
          }
        },
        "dda5247b9a45492dacf10eb2db2ebb32": {
          "model_module": "@jupyter-widgets/base",
          "model_name": "LayoutModel",
          "state": {
            "_view_name": "LayoutView",
            "grid_template_rows": null,
            "right": null,
            "justify_content": null,
            "_view_module": "@jupyter-widgets/base",
            "overflow": null,
            "_model_module_version": "1.2.0",
            "_view_count": null,
            "flex_flow": null,
            "width": null,
            "min_width": null,
            "border": null,
            "align_items": null,
            "bottom": null,
            "_model_module": "@jupyter-widgets/base",
            "top": null,
            "grid_column": null,
            "overflow_y": null,
            "overflow_x": null,
            "grid_auto_flow": null,
            "grid_area": null,
            "grid_template_columns": null,
            "flex": null,
            "_model_name": "LayoutModel",
            "justify_items": null,
            "grid_row": null,
            "max_height": null,
            "align_content": null,
            "visibility": null,
            "align_self": null,
            "height": null,
            "min_height": null,
            "padding": null,
            "grid_auto_rows": null,
            "grid_gap": null,
            "max_width": null,
            "order": null,
            "_view_module_version": "1.2.0",
            "grid_template_areas": null,
            "object_position": null,
            "object_fit": null,
            "grid_auto_columns": null,
            "margin": null,
            "display": null,
            "left": null
          }
        },
        "6bfe9a6d0f344987a5e38e9ebdba4bf0": {
          "model_module": "@jupyter-widgets/controls",
          "model_name": "DescriptionStyleModel",
          "state": {
            "_view_name": "StyleView",
            "_model_name": "DescriptionStyleModel",
            "description_width": "",
            "_view_module": "@jupyter-widgets/base",
            "_model_module_version": "1.5.0",
            "_view_count": null,
            "_view_module_version": "1.2.0",
            "_model_module": "@jupyter-widgets/controls"
          }
        },
        "fea2c750a14543b4abb39c1dbae04a63": {
          "model_module": "@jupyter-widgets/base",
          "model_name": "LayoutModel",
          "state": {
            "_view_name": "LayoutView",
            "grid_template_rows": null,
            "right": null,
            "justify_content": null,
            "_view_module": "@jupyter-widgets/base",
            "overflow": null,
            "_model_module_version": "1.2.0",
            "_view_count": null,
            "flex_flow": null,
            "width": null,
            "min_width": null,
            "border": null,
            "align_items": null,
            "bottom": null,
            "_model_module": "@jupyter-widgets/base",
            "top": null,
            "grid_column": null,
            "overflow_y": null,
            "overflow_x": null,
            "grid_auto_flow": null,
            "grid_area": null,
            "grid_template_columns": null,
            "flex": null,
            "_model_name": "LayoutModel",
            "justify_items": null,
            "grid_row": null,
            "max_height": null,
            "align_content": null,
            "visibility": null,
            "align_self": null,
            "height": null,
            "min_height": null,
            "padding": null,
            "grid_auto_rows": null,
            "grid_gap": null,
            "max_width": null,
            "order": null,
            "_view_module_version": "1.2.0",
            "grid_template_areas": null,
            "object_position": null,
            "object_fit": null,
            "grid_auto_columns": null,
            "margin": null,
            "display": null,
            "left": null
          }
        },
        "9f12092c8f6248aaa8e7f483b6b9401d": {
          "model_module": "@jupyter-widgets/controls",
          "model_name": "HBoxModel",
          "state": {
            "_view_name": "HBoxView",
            "_dom_classes": [],
            "_model_name": "HBoxModel",
            "_view_module": "@jupyter-widgets/controls",
            "_model_module_version": "1.5.0",
            "_view_count": null,
            "_view_module_version": "1.5.0",
            "box_style": "",
            "layout": "IPY_MODEL_a32a07a74af349949e089986188e884b",
            "_model_module": "@jupyter-widgets/controls",
            "children": [
              "IPY_MODEL_609a7a0f34b943a3b777d631ef206be1",
              "IPY_MODEL_7bde4792d0c347d8876017d92af6ae8b"
            ]
          }
        },
        "a32a07a74af349949e089986188e884b": {
          "model_module": "@jupyter-widgets/base",
          "model_name": "LayoutModel",
          "state": {
            "_view_name": "LayoutView",
            "grid_template_rows": null,
            "right": null,
            "justify_content": null,
            "_view_module": "@jupyter-widgets/base",
            "overflow": null,
            "_model_module_version": "1.2.0",
            "_view_count": null,
            "flex_flow": null,
            "width": null,
            "min_width": null,
            "border": null,
            "align_items": null,
            "bottom": null,
            "_model_module": "@jupyter-widgets/base",
            "top": null,
            "grid_column": null,
            "overflow_y": null,
            "overflow_x": null,
            "grid_auto_flow": null,
            "grid_area": null,
            "grid_template_columns": null,
            "flex": null,
            "_model_name": "LayoutModel",
            "justify_items": null,
            "grid_row": null,
            "max_height": null,
            "align_content": null,
            "visibility": null,
            "align_self": null,
            "height": null,
            "min_height": null,
            "padding": null,
            "grid_auto_rows": null,
            "grid_gap": null,
            "max_width": null,
            "order": null,
            "_view_module_version": "1.2.0",
            "grid_template_areas": null,
            "object_position": null,
            "object_fit": null,
            "grid_auto_columns": null,
            "margin": null,
            "display": null,
            "left": null
          }
        },
        "609a7a0f34b943a3b777d631ef206be1": {
          "model_module": "@jupyter-widgets/controls",
          "model_name": "FloatProgressModel",
          "state": {
            "_view_name": "ProgressView",
            "style": "IPY_MODEL_08f6b7c2418d486780bc530838bf2c08",
            "_dom_classes": [],
            "description": "100%",
            "_model_name": "FloatProgressModel",
            "bar_style": "success",
            "max": 35,
            "_view_module": "@jupyter-widgets/controls",
            "_model_module_version": "1.5.0",
            "value": 35,
            "_view_count": null,
            "_view_module_version": "1.5.0",
            "orientation": "horizontal",
            "min": 0,
            "description_tooltip": null,
            "_model_module": "@jupyter-widgets/controls",
            "layout": "IPY_MODEL_ea1a97b28c1e436a9fc4ed5b733fa14e"
          }
        },
        "7bde4792d0c347d8876017d92af6ae8b": {
          "model_module": "@jupyter-widgets/controls",
          "model_name": "HTMLModel",
          "state": {
            "_view_name": "HTMLView",
            "style": "IPY_MODEL_ee3e2d739d2f4ceebdf71ef839b27ca1",
            "_dom_classes": [],
            "description": "",
            "_model_name": "HTMLModel",
            "placeholder": "​",
            "_view_module": "@jupyter-widgets/controls",
            "_model_module_version": "1.5.0",
            "value": " 35/35 [05:28&lt;00:00,  9.37s/it]",
            "_view_count": null,
            "_view_module_version": "1.5.0",
            "description_tooltip": null,
            "_model_module": "@jupyter-widgets/controls",
            "layout": "IPY_MODEL_175f875f2baf449497387950efec2701"
          }
        },
        "08f6b7c2418d486780bc530838bf2c08": {
          "model_module": "@jupyter-widgets/controls",
          "model_name": "ProgressStyleModel",
          "state": {
            "_view_name": "StyleView",
            "_model_name": "ProgressStyleModel",
            "description_width": "initial",
            "_view_module": "@jupyter-widgets/base",
            "_model_module_version": "1.5.0",
            "_view_count": null,
            "_view_module_version": "1.2.0",
            "bar_color": null,
            "_model_module": "@jupyter-widgets/controls"
          }
        },
        "ea1a97b28c1e436a9fc4ed5b733fa14e": {
          "model_module": "@jupyter-widgets/base",
          "model_name": "LayoutModel",
          "state": {
            "_view_name": "LayoutView",
            "grid_template_rows": null,
            "right": null,
            "justify_content": null,
            "_view_module": "@jupyter-widgets/base",
            "overflow": null,
            "_model_module_version": "1.2.0",
            "_view_count": null,
            "flex_flow": null,
            "width": null,
            "min_width": null,
            "border": null,
            "align_items": null,
            "bottom": null,
            "_model_module": "@jupyter-widgets/base",
            "top": null,
            "grid_column": null,
            "overflow_y": null,
            "overflow_x": null,
            "grid_auto_flow": null,
            "grid_area": null,
            "grid_template_columns": null,
            "flex": null,
            "_model_name": "LayoutModel",
            "justify_items": null,
            "grid_row": null,
            "max_height": null,
            "align_content": null,
            "visibility": null,
            "align_self": null,
            "height": null,
            "min_height": null,
            "padding": null,
            "grid_auto_rows": null,
            "grid_gap": null,
            "max_width": null,
            "order": null,
            "_view_module_version": "1.2.0",
            "grid_template_areas": null,
            "object_position": null,
            "object_fit": null,
            "grid_auto_columns": null,
            "margin": null,
            "display": null,
            "left": null
          }
        },
        "ee3e2d739d2f4ceebdf71ef839b27ca1": {
          "model_module": "@jupyter-widgets/controls",
          "model_name": "DescriptionStyleModel",
          "state": {
            "_view_name": "StyleView",
            "_model_name": "DescriptionStyleModel",
            "description_width": "",
            "_view_module": "@jupyter-widgets/base",
            "_model_module_version": "1.5.0",
            "_view_count": null,
            "_view_module_version": "1.2.0",
            "_model_module": "@jupyter-widgets/controls"
          }
        },
        "175f875f2baf449497387950efec2701": {
          "model_module": "@jupyter-widgets/base",
          "model_name": "LayoutModel",
          "state": {
            "_view_name": "LayoutView",
            "grid_template_rows": null,
            "right": null,
            "justify_content": null,
            "_view_module": "@jupyter-widgets/base",
            "overflow": null,
            "_model_module_version": "1.2.0",
            "_view_count": null,
            "flex_flow": null,
            "width": null,
            "min_width": null,
            "border": null,
            "align_items": null,
            "bottom": null,
            "_model_module": "@jupyter-widgets/base",
            "top": null,
            "grid_column": null,
            "overflow_y": null,
            "overflow_x": null,
            "grid_auto_flow": null,
            "grid_area": null,
            "grid_template_columns": null,
            "flex": null,
            "_model_name": "LayoutModel",
            "justify_items": null,
            "grid_row": null,
            "max_height": null,
            "align_content": null,
            "visibility": null,
            "align_self": null,
            "height": null,
            "min_height": null,
            "padding": null,
            "grid_auto_rows": null,
            "grid_gap": null,
            "max_width": null,
            "order": null,
            "_view_module_version": "1.2.0",
            "grid_template_areas": null,
            "object_position": null,
            "object_fit": null,
            "grid_auto_columns": null,
            "margin": null,
            "display": null,
            "left": null
          }
        },
        "6ac51d7d69424d29a6c6090a63421bd8": {
          "model_module": "@jupyter-widgets/controls",
          "model_name": "HBoxModel",
          "state": {
            "_view_name": "HBoxView",
            "_dom_classes": [],
            "_model_name": "HBoxModel",
            "_view_module": "@jupyter-widgets/controls",
            "_model_module_version": "1.5.0",
            "_view_count": null,
            "_view_module_version": "1.5.0",
            "box_style": "",
            "layout": "IPY_MODEL_2c092ed1126940cf8e91e3ef532ee303",
            "_model_module": "@jupyter-widgets/controls",
            "children": [
              "IPY_MODEL_51a532626bb84d639fdbbc610443a300",
              "IPY_MODEL_1471ae6ab139416ab1e775af63ac1a18"
            ]
          }
        },
        "2c092ed1126940cf8e91e3ef532ee303": {
          "model_module": "@jupyter-widgets/base",
          "model_name": "LayoutModel",
          "state": {
            "_view_name": "LayoutView",
            "grid_template_rows": null,
            "right": null,
            "justify_content": null,
            "_view_module": "@jupyter-widgets/base",
            "overflow": null,
            "_model_module_version": "1.2.0",
            "_view_count": null,
            "flex_flow": null,
            "width": null,
            "min_width": null,
            "border": null,
            "align_items": null,
            "bottom": null,
            "_model_module": "@jupyter-widgets/base",
            "top": null,
            "grid_column": null,
            "overflow_y": null,
            "overflow_x": null,
            "grid_auto_flow": null,
            "grid_area": null,
            "grid_template_columns": null,
            "flex": null,
            "_model_name": "LayoutModel",
            "justify_items": null,
            "grid_row": null,
            "max_height": null,
            "align_content": null,
            "visibility": null,
            "align_self": null,
            "height": null,
            "min_height": null,
            "padding": null,
            "grid_auto_rows": null,
            "grid_gap": null,
            "max_width": null,
            "order": null,
            "_view_module_version": "1.2.0",
            "grid_template_areas": null,
            "object_position": null,
            "object_fit": null,
            "grid_auto_columns": null,
            "margin": null,
            "display": null,
            "left": null
          }
        },
        "51a532626bb84d639fdbbc610443a300": {
          "model_module": "@jupyter-widgets/controls",
          "model_name": "FloatProgressModel",
          "state": {
            "_view_name": "ProgressView",
            "style": "IPY_MODEL_d72f71aae4664a898c4f0877d9328a3e",
            "_dom_classes": [],
            "description": "100%",
            "_model_name": "FloatProgressModel",
            "bar_style": "success",
            "max": 38,
            "_view_module": "@jupyter-widgets/controls",
            "_model_module_version": "1.5.0",
            "value": 38,
            "_view_count": null,
            "_view_module_version": "1.5.0",
            "orientation": "horizontal",
            "min": 0,
            "description_tooltip": null,
            "_model_module": "@jupyter-widgets/controls",
            "layout": "IPY_MODEL_9fbb0614cb8b4c4b93f9ccb61346e584"
          }
        },
        "1471ae6ab139416ab1e775af63ac1a18": {
          "model_module": "@jupyter-widgets/controls",
          "model_name": "HTMLModel",
          "state": {
            "_view_name": "HTMLView",
            "style": "IPY_MODEL_ab452eb270184c688d620057ff657bb4",
            "_dom_classes": [],
            "description": "",
            "_model_name": "HTMLModel",
            "placeholder": "​",
            "_view_module": "@jupyter-widgets/controls",
            "_model_module_version": "1.5.0",
            "value": " 38/38 [03:22&lt;00:00,  5.33s/it]",
            "_view_count": null,
            "_view_module_version": "1.5.0",
            "description_tooltip": null,
            "_model_module": "@jupyter-widgets/controls",
            "layout": "IPY_MODEL_a1db3ae4c75648a0a91e0e8b2cc2a101"
          }
        },
        "d72f71aae4664a898c4f0877d9328a3e": {
          "model_module": "@jupyter-widgets/controls",
          "model_name": "ProgressStyleModel",
          "state": {
            "_view_name": "StyleView",
            "_model_name": "ProgressStyleModel",
            "description_width": "initial",
            "_view_module": "@jupyter-widgets/base",
            "_model_module_version": "1.5.0",
            "_view_count": null,
            "_view_module_version": "1.2.0",
            "bar_color": null,
            "_model_module": "@jupyter-widgets/controls"
          }
        },
        "9fbb0614cb8b4c4b93f9ccb61346e584": {
          "model_module": "@jupyter-widgets/base",
          "model_name": "LayoutModel",
          "state": {
            "_view_name": "LayoutView",
            "grid_template_rows": null,
            "right": null,
            "justify_content": null,
            "_view_module": "@jupyter-widgets/base",
            "overflow": null,
            "_model_module_version": "1.2.0",
            "_view_count": null,
            "flex_flow": null,
            "width": null,
            "min_width": null,
            "border": null,
            "align_items": null,
            "bottom": null,
            "_model_module": "@jupyter-widgets/base",
            "top": null,
            "grid_column": null,
            "overflow_y": null,
            "overflow_x": null,
            "grid_auto_flow": null,
            "grid_area": null,
            "grid_template_columns": null,
            "flex": null,
            "_model_name": "LayoutModel",
            "justify_items": null,
            "grid_row": null,
            "max_height": null,
            "align_content": null,
            "visibility": null,
            "align_self": null,
            "height": null,
            "min_height": null,
            "padding": null,
            "grid_auto_rows": null,
            "grid_gap": null,
            "max_width": null,
            "order": null,
            "_view_module_version": "1.2.0",
            "grid_template_areas": null,
            "object_position": null,
            "object_fit": null,
            "grid_auto_columns": null,
            "margin": null,
            "display": null,
            "left": null
          }
        },
        "ab452eb270184c688d620057ff657bb4": {
          "model_module": "@jupyter-widgets/controls",
          "model_name": "DescriptionStyleModel",
          "state": {
            "_view_name": "StyleView",
            "_model_name": "DescriptionStyleModel",
            "description_width": "",
            "_view_module": "@jupyter-widgets/base",
            "_model_module_version": "1.5.0",
            "_view_count": null,
            "_view_module_version": "1.2.0",
            "_model_module": "@jupyter-widgets/controls"
          }
        },
        "a1db3ae4c75648a0a91e0e8b2cc2a101": {
          "model_module": "@jupyter-widgets/base",
          "model_name": "LayoutModel",
          "state": {
            "_view_name": "LayoutView",
            "grid_template_rows": null,
            "right": null,
            "justify_content": null,
            "_view_module": "@jupyter-widgets/base",
            "overflow": null,
            "_model_module_version": "1.2.0",
            "_view_count": null,
            "flex_flow": null,
            "width": null,
            "min_width": null,
            "border": null,
            "align_items": null,
            "bottom": null,
            "_model_module": "@jupyter-widgets/base",
            "top": null,
            "grid_column": null,
            "overflow_y": null,
            "overflow_x": null,
            "grid_auto_flow": null,
            "grid_area": null,
            "grid_template_columns": null,
            "flex": null,
            "_model_name": "LayoutModel",
            "justify_items": null,
            "grid_row": null,
            "max_height": null,
            "align_content": null,
            "visibility": null,
            "align_self": null,
            "height": null,
            "min_height": null,
            "padding": null,
            "grid_auto_rows": null,
            "grid_gap": null,
            "max_width": null,
            "order": null,
            "_view_module_version": "1.2.0",
            "grid_template_areas": null,
            "object_position": null,
            "object_fit": null,
            "grid_auto_columns": null,
            "margin": null,
            "display": null,
            "left": null
          }
        },
        "57adcbbed851428fa4cc84053684ddbb": {
          "model_module": "@jupyter-widgets/controls",
          "model_name": "HBoxModel",
          "state": {
            "_view_name": "HBoxView",
            "_dom_classes": [],
            "_model_name": "HBoxModel",
            "_view_module": "@jupyter-widgets/controls",
            "_model_module_version": "1.5.0",
            "_view_count": null,
            "_view_module_version": "1.5.0",
            "box_style": "",
            "layout": "IPY_MODEL_afcb911c8e444aceb66119123dda39c5",
            "_model_module": "@jupyter-widgets/controls",
            "children": [
              "IPY_MODEL_52c193326ce64bbfae37321546ab5673",
              "IPY_MODEL_a9ac21c2650e4110af18565e671faa96"
            ]
          }
        },
        "afcb911c8e444aceb66119123dda39c5": {
          "model_module": "@jupyter-widgets/base",
          "model_name": "LayoutModel",
          "state": {
            "_view_name": "LayoutView",
            "grid_template_rows": null,
            "right": null,
            "justify_content": null,
            "_view_module": "@jupyter-widgets/base",
            "overflow": null,
            "_model_module_version": "1.2.0",
            "_view_count": null,
            "flex_flow": null,
            "width": null,
            "min_width": null,
            "border": null,
            "align_items": null,
            "bottom": null,
            "_model_module": "@jupyter-widgets/base",
            "top": null,
            "grid_column": null,
            "overflow_y": null,
            "overflow_x": null,
            "grid_auto_flow": null,
            "grid_area": null,
            "grid_template_columns": null,
            "flex": null,
            "_model_name": "LayoutModel",
            "justify_items": null,
            "grid_row": null,
            "max_height": null,
            "align_content": null,
            "visibility": null,
            "align_self": null,
            "height": null,
            "min_height": null,
            "padding": null,
            "grid_auto_rows": null,
            "grid_gap": null,
            "max_width": null,
            "order": null,
            "_view_module_version": "1.2.0",
            "grid_template_areas": null,
            "object_position": null,
            "object_fit": null,
            "grid_auto_columns": null,
            "margin": null,
            "display": null,
            "left": null
          }
        },
        "52c193326ce64bbfae37321546ab5673": {
          "model_module": "@jupyter-widgets/controls",
          "model_name": "FloatProgressModel",
          "state": {
            "_view_name": "ProgressView",
            "style": "IPY_MODEL_5b76937afd744aba8c9ab12cfcdb813f",
            "_dom_classes": [],
            "description": "100%",
            "_model_name": "FloatProgressModel",
            "bar_style": "success",
            "max": 41,
            "_view_module": "@jupyter-widgets/controls",
            "_model_module_version": "1.5.0",
            "value": 41,
            "_view_count": null,
            "_view_module_version": "1.5.0",
            "orientation": "horizontal",
            "min": 0,
            "description_tooltip": null,
            "_model_module": "@jupyter-widgets/controls",
            "layout": "IPY_MODEL_ede3d4c3d7fa41f9a5b329a66e4ec979"
          }
        },
        "a9ac21c2650e4110af18565e671faa96": {
          "model_module": "@jupyter-widgets/controls",
          "model_name": "HTMLModel",
          "state": {
            "_view_name": "HTMLView",
            "style": "IPY_MODEL_3b405398dfed44d695c8b36b7a29707d",
            "_dom_classes": [],
            "description": "",
            "_model_name": "HTMLModel",
            "placeholder": "​",
            "_view_module": "@jupyter-widgets/controls",
            "_model_module_version": "1.5.0",
            "value": " 41/41 [00:55&lt;00:00,  1.36s/it]",
            "_view_count": null,
            "_view_module_version": "1.5.0",
            "description_tooltip": null,
            "_model_module": "@jupyter-widgets/controls",
            "layout": "IPY_MODEL_d93c0904e9cb4d248ddf3a00da89d253"
          }
        },
        "5b76937afd744aba8c9ab12cfcdb813f": {
          "model_module": "@jupyter-widgets/controls",
          "model_name": "ProgressStyleModel",
          "state": {
            "_view_name": "StyleView",
            "_model_name": "ProgressStyleModel",
            "description_width": "initial",
            "_view_module": "@jupyter-widgets/base",
            "_model_module_version": "1.5.0",
            "_view_count": null,
            "_view_module_version": "1.2.0",
            "bar_color": null,
            "_model_module": "@jupyter-widgets/controls"
          }
        },
        "ede3d4c3d7fa41f9a5b329a66e4ec979": {
          "model_module": "@jupyter-widgets/base",
          "model_name": "LayoutModel",
          "state": {
            "_view_name": "LayoutView",
            "grid_template_rows": null,
            "right": null,
            "justify_content": null,
            "_view_module": "@jupyter-widgets/base",
            "overflow": null,
            "_model_module_version": "1.2.0",
            "_view_count": null,
            "flex_flow": null,
            "width": null,
            "min_width": null,
            "border": null,
            "align_items": null,
            "bottom": null,
            "_model_module": "@jupyter-widgets/base",
            "top": null,
            "grid_column": null,
            "overflow_y": null,
            "overflow_x": null,
            "grid_auto_flow": null,
            "grid_area": null,
            "grid_template_columns": null,
            "flex": null,
            "_model_name": "LayoutModel",
            "justify_items": null,
            "grid_row": null,
            "max_height": null,
            "align_content": null,
            "visibility": null,
            "align_self": null,
            "height": null,
            "min_height": null,
            "padding": null,
            "grid_auto_rows": null,
            "grid_gap": null,
            "max_width": null,
            "order": null,
            "_view_module_version": "1.2.0",
            "grid_template_areas": null,
            "object_position": null,
            "object_fit": null,
            "grid_auto_columns": null,
            "margin": null,
            "display": null,
            "left": null
          }
        },
        "3b405398dfed44d695c8b36b7a29707d": {
          "model_module": "@jupyter-widgets/controls",
          "model_name": "DescriptionStyleModel",
          "state": {
            "_view_name": "StyleView",
            "_model_name": "DescriptionStyleModel",
            "description_width": "",
            "_view_module": "@jupyter-widgets/base",
            "_model_module_version": "1.5.0",
            "_view_count": null,
            "_view_module_version": "1.2.0",
            "_model_module": "@jupyter-widgets/controls"
          }
        },
        "d93c0904e9cb4d248ddf3a00da89d253": {
          "model_module": "@jupyter-widgets/base",
          "model_name": "LayoutModel",
          "state": {
            "_view_name": "LayoutView",
            "grid_template_rows": null,
            "right": null,
            "justify_content": null,
            "_view_module": "@jupyter-widgets/base",
            "overflow": null,
            "_model_module_version": "1.2.0",
            "_view_count": null,
            "flex_flow": null,
            "width": null,
            "min_width": null,
            "border": null,
            "align_items": null,
            "bottom": null,
            "_model_module": "@jupyter-widgets/base",
            "top": null,
            "grid_column": null,
            "overflow_y": null,
            "overflow_x": null,
            "grid_auto_flow": null,
            "grid_area": null,
            "grid_template_columns": null,
            "flex": null,
            "_model_name": "LayoutModel",
            "justify_items": null,
            "grid_row": null,
            "max_height": null,
            "align_content": null,
            "visibility": null,
            "align_self": null,
            "height": null,
            "min_height": null,
            "padding": null,
            "grid_auto_rows": null,
            "grid_gap": null,
            "max_width": null,
            "order": null,
            "_view_module_version": "1.2.0",
            "grid_template_areas": null,
            "object_position": null,
            "object_fit": null,
            "grid_auto_columns": null,
            "margin": null,
            "display": null,
            "left": null
          }
        },
        "936ae7dbdaa448fc98d4f7ad01653eae": {
          "model_module": "@jupyter-widgets/controls",
          "model_name": "HBoxModel",
          "state": {
            "_view_name": "HBoxView",
            "_dom_classes": [],
            "_model_name": "HBoxModel",
            "_view_module": "@jupyter-widgets/controls",
            "_model_module_version": "1.5.0",
            "_view_count": null,
            "_view_module_version": "1.5.0",
            "box_style": "",
            "layout": "IPY_MODEL_1acb497d1ccc4e568705d069ee163642",
            "_model_module": "@jupyter-widgets/controls",
            "children": [
              "IPY_MODEL_c4aee491121149ed8820882f70d28d65",
              "IPY_MODEL_5740fc6903194d84a07e95f3ea1f01b2"
            ]
          }
        },
        "1acb497d1ccc4e568705d069ee163642": {
          "model_module": "@jupyter-widgets/base",
          "model_name": "LayoutModel",
          "state": {
            "_view_name": "LayoutView",
            "grid_template_rows": null,
            "right": null,
            "justify_content": null,
            "_view_module": "@jupyter-widgets/base",
            "overflow": null,
            "_model_module_version": "1.2.0",
            "_view_count": null,
            "flex_flow": null,
            "width": null,
            "min_width": null,
            "border": null,
            "align_items": null,
            "bottom": null,
            "_model_module": "@jupyter-widgets/base",
            "top": null,
            "grid_column": null,
            "overflow_y": null,
            "overflow_x": null,
            "grid_auto_flow": null,
            "grid_area": null,
            "grid_template_columns": null,
            "flex": null,
            "_model_name": "LayoutModel",
            "justify_items": null,
            "grid_row": null,
            "max_height": null,
            "align_content": null,
            "visibility": null,
            "align_self": null,
            "height": null,
            "min_height": null,
            "padding": null,
            "grid_auto_rows": null,
            "grid_gap": null,
            "max_width": null,
            "order": null,
            "_view_module_version": "1.2.0",
            "grid_template_areas": null,
            "object_position": null,
            "object_fit": null,
            "grid_auto_columns": null,
            "margin": null,
            "display": null,
            "left": null
          }
        },
        "c4aee491121149ed8820882f70d28d65": {
          "model_module": "@jupyter-widgets/controls",
          "model_name": "FloatProgressModel",
          "state": {
            "_view_name": "ProgressView",
            "style": "IPY_MODEL_b028eac2bd3d4bd0a450b61cf952f8e5",
            "_dom_classes": [],
            "description": "100%",
            "_model_name": "FloatProgressModel",
            "bar_style": "success",
            "max": 35,
            "_view_module": "@jupyter-widgets/controls",
            "_model_module_version": "1.5.0",
            "value": 35,
            "_view_count": null,
            "_view_module_version": "1.5.0",
            "orientation": "horizontal",
            "min": 0,
            "description_tooltip": null,
            "_model_module": "@jupyter-widgets/controls",
            "layout": "IPY_MODEL_13093314759f460dbefbd0f9f1ee10be"
          }
        },
        "5740fc6903194d84a07e95f3ea1f01b2": {
          "model_module": "@jupyter-widgets/controls",
          "model_name": "HTMLModel",
          "state": {
            "_view_name": "HTMLView",
            "style": "IPY_MODEL_9138e006024046c58aeac80a752d7a74",
            "_dom_classes": [],
            "description": "",
            "_model_name": "HTMLModel",
            "placeholder": "​",
            "_view_module": "@jupyter-widgets/controls",
            "_model_module_version": "1.5.0",
            "value": " 35/35 [01:05&lt;00:00,  1.87s/it]",
            "_view_count": null,
            "_view_module_version": "1.5.0",
            "description_tooltip": null,
            "_model_module": "@jupyter-widgets/controls",
            "layout": "IPY_MODEL_229ce953a8f449dd9599b6377c20ab90"
          }
        },
        "b028eac2bd3d4bd0a450b61cf952f8e5": {
          "model_module": "@jupyter-widgets/controls",
          "model_name": "ProgressStyleModel",
          "state": {
            "_view_name": "StyleView",
            "_model_name": "ProgressStyleModel",
            "description_width": "initial",
            "_view_module": "@jupyter-widgets/base",
            "_model_module_version": "1.5.0",
            "_view_count": null,
            "_view_module_version": "1.2.0",
            "bar_color": null,
            "_model_module": "@jupyter-widgets/controls"
          }
        },
        "13093314759f460dbefbd0f9f1ee10be": {
          "model_module": "@jupyter-widgets/base",
          "model_name": "LayoutModel",
          "state": {
            "_view_name": "LayoutView",
            "grid_template_rows": null,
            "right": null,
            "justify_content": null,
            "_view_module": "@jupyter-widgets/base",
            "overflow": null,
            "_model_module_version": "1.2.0",
            "_view_count": null,
            "flex_flow": null,
            "width": null,
            "min_width": null,
            "border": null,
            "align_items": null,
            "bottom": null,
            "_model_module": "@jupyter-widgets/base",
            "top": null,
            "grid_column": null,
            "overflow_y": null,
            "overflow_x": null,
            "grid_auto_flow": null,
            "grid_area": null,
            "grid_template_columns": null,
            "flex": null,
            "_model_name": "LayoutModel",
            "justify_items": null,
            "grid_row": null,
            "max_height": null,
            "align_content": null,
            "visibility": null,
            "align_self": null,
            "height": null,
            "min_height": null,
            "padding": null,
            "grid_auto_rows": null,
            "grid_gap": null,
            "max_width": null,
            "order": null,
            "_view_module_version": "1.2.0",
            "grid_template_areas": null,
            "object_position": null,
            "object_fit": null,
            "grid_auto_columns": null,
            "margin": null,
            "display": null,
            "left": null
          }
        },
        "9138e006024046c58aeac80a752d7a74": {
          "model_module": "@jupyter-widgets/controls",
          "model_name": "DescriptionStyleModel",
          "state": {
            "_view_name": "StyleView",
            "_model_name": "DescriptionStyleModel",
            "description_width": "",
            "_view_module": "@jupyter-widgets/base",
            "_model_module_version": "1.5.0",
            "_view_count": null,
            "_view_module_version": "1.2.0",
            "_model_module": "@jupyter-widgets/controls"
          }
        },
        "229ce953a8f449dd9599b6377c20ab90": {
          "model_module": "@jupyter-widgets/base",
          "model_name": "LayoutModel",
          "state": {
            "_view_name": "LayoutView",
            "grid_template_rows": null,
            "right": null,
            "justify_content": null,
            "_view_module": "@jupyter-widgets/base",
            "overflow": null,
            "_model_module_version": "1.2.0",
            "_view_count": null,
            "flex_flow": null,
            "width": null,
            "min_width": null,
            "border": null,
            "align_items": null,
            "bottom": null,
            "_model_module": "@jupyter-widgets/base",
            "top": null,
            "grid_column": null,
            "overflow_y": null,
            "overflow_x": null,
            "grid_auto_flow": null,
            "grid_area": null,
            "grid_template_columns": null,
            "flex": null,
            "_model_name": "LayoutModel",
            "justify_items": null,
            "grid_row": null,
            "max_height": null,
            "align_content": null,
            "visibility": null,
            "align_self": null,
            "height": null,
            "min_height": null,
            "padding": null,
            "grid_auto_rows": null,
            "grid_gap": null,
            "max_width": null,
            "order": null,
            "_view_module_version": "1.2.0",
            "grid_template_areas": null,
            "object_position": null,
            "object_fit": null,
            "grid_auto_columns": null,
            "margin": null,
            "display": null,
            "left": null
          }
        },
        "f1b99572cf394c7db069c0c3367b2dce": {
          "model_module": "@jupyter-widgets/controls",
          "model_name": "HBoxModel",
          "state": {
            "_view_name": "HBoxView",
            "_dom_classes": [],
            "_model_name": "HBoxModel",
            "_view_module": "@jupyter-widgets/controls",
            "_model_module_version": "1.5.0",
            "_view_count": null,
            "_view_module_version": "1.5.0",
            "box_style": "",
            "layout": "IPY_MODEL_358b3d4a78d94f89a1f98a5904ed34be",
            "_model_module": "@jupyter-widgets/controls",
            "children": [
              "IPY_MODEL_2970a464e1194aa78bed53f983c78542",
              "IPY_MODEL_4c64a3d767334720a4e1607eab8baf74"
            ]
          }
        },
        "358b3d4a78d94f89a1f98a5904ed34be": {
          "model_module": "@jupyter-widgets/base",
          "model_name": "LayoutModel",
          "state": {
            "_view_name": "LayoutView",
            "grid_template_rows": null,
            "right": null,
            "justify_content": null,
            "_view_module": "@jupyter-widgets/base",
            "overflow": null,
            "_model_module_version": "1.2.0",
            "_view_count": null,
            "flex_flow": null,
            "width": null,
            "min_width": null,
            "border": null,
            "align_items": null,
            "bottom": null,
            "_model_module": "@jupyter-widgets/base",
            "top": null,
            "grid_column": null,
            "overflow_y": null,
            "overflow_x": null,
            "grid_auto_flow": null,
            "grid_area": null,
            "grid_template_columns": null,
            "flex": null,
            "_model_name": "LayoutModel",
            "justify_items": null,
            "grid_row": null,
            "max_height": null,
            "align_content": null,
            "visibility": null,
            "align_self": null,
            "height": null,
            "min_height": null,
            "padding": null,
            "grid_auto_rows": null,
            "grid_gap": null,
            "max_width": null,
            "order": null,
            "_view_module_version": "1.2.0",
            "grid_template_areas": null,
            "object_position": null,
            "object_fit": null,
            "grid_auto_columns": null,
            "margin": null,
            "display": null,
            "left": null
          }
        },
        "2970a464e1194aa78bed53f983c78542": {
          "model_module": "@jupyter-widgets/controls",
          "model_name": "FloatProgressModel",
          "state": {
            "_view_name": "ProgressView",
            "style": "IPY_MODEL_5e437fe6a8254d8098f359043b38bbb0",
            "_dom_classes": [],
            "description": "100%",
            "_model_name": "FloatProgressModel",
            "bar_style": "success",
            "max": 35,
            "_view_module": "@jupyter-widgets/controls",
            "_model_module_version": "1.5.0",
            "value": 35,
            "_view_count": null,
            "_view_module_version": "1.5.0",
            "orientation": "horizontal",
            "min": 0,
            "description_tooltip": null,
            "_model_module": "@jupyter-widgets/controls",
            "layout": "IPY_MODEL_ceed2c30a7824d3891a71d4a2e308098"
          }
        },
        "4c64a3d767334720a4e1607eab8baf74": {
          "model_module": "@jupyter-widgets/controls",
          "model_name": "HTMLModel",
          "state": {
            "_view_name": "HTMLView",
            "style": "IPY_MODEL_a0149bb273cd463c99196dfd11a27e26",
            "_dom_classes": [],
            "description": "",
            "_model_name": "HTMLModel",
            "placeholder": "​",
            "_view_module": "@jupyter-widgets/controls",
            "_model_module_version": "1.5.0",
            "value": " 35/35 [01:33&lt;00:00,  2.68s/it]",
            "_view_count": null,
            "_view_module_version": "1.5.0",
            "description_tooltip": null,
            "_model_module": "@jupyter-widgets/controls",
            "layout": "IPY_MODEL_2c59021c0d5d439eb61d331f9240160a"
          }
        },
        "5e437fe6a8254d8098f359043b38bbb0": {
          "model_module": "@jupyter-widgets/controls",
          "model_name": "ProgressStyleModel",
          "state": {
            "_view_name": "StyleView",
            "_model_name": "ProgressStyleModel",
            "description_width": "initial",
            "_view_module": "@jupyter-widgets/base",
            "_model_module_version": "1.5.0",
            "_view_count": null,
            "_view_module_version": "1.2.0",
            "bar_color": null,
            "_model_module": "@jupyter-widgets/controls"
          }
        },
        "ceed2c30a7824d3891a71d4a2e308098": {
          "model_module": "@jupyter-widgets/base",
          "model_name": "LayoutModel",
          "state": {
            "_view_name": "LayoutView",
            "grid_template_rows": null,
            "right": null,
            "justify_content": null,
            "_view_module": "@jupyter-widgets/base",
            "overflow": null,
            "_model_module_version": "1.2.0",
            "_view_count": null,
            "flex_flow": null,
            "width": null,
            "min_width": null,
            "border": null,
            "align_items": null,
            "bottom": null,
            "_model_module": "@jupyter-widgets/base",
            "top": null,
            "grid_column": null,
            "overflow_y": null,
            "overflow_x": null,
            "grid_auto_flow": null,
            "grid_area": null,
            "grid_template_columns": null,
            "flex": null,
            "_model_name": "LayoutModel",
            "justify_items": null,
            "grid_row": null,
            "max_height": null,
            "align_content": null,
            "visibility": null,
            "align_self": null,
            "height": null,
            "min_height": null,
            "padding": null,
            "grid_auto_rows": null,
            "grid_gap": null,
            "max_width": null,
            "order": null,
            "_view_module_version": "1.2.0",
            "grid_template_areas": null,
            "object_position": null,
            "object_fit": null,
            "grid_auto_columns": null,
            "margin": null,
            "display": null,
            "left": null
          }
        },
        "a0149bb273cd463c99196dfd11a27e26": {
          "model_module": "@jupyter-widgets/controls",
          "model_name": "DescriptionStyleModel",
          "state": {
            "_view_name": "StyleView",
            "_model_name": "DescriptionStyleModel",
            "description_width": "",
            "_view_module": "@jupyter-widgets/base",
            "_model_module_version": "1.5.0",
            "_view_count": null,
            "_view_module_version": "1.2.0",
            "_model_module": "@jupyter-widgets/controls"
          }
        },
        "2c59021c0d5d439eb61d331f9240160a": {
          "model_module": "@jupyter-widgets/base",
          "model_name": "LayoutModel",
          "state": {
            "_view_name": "LayoutView",
            "grid_template_rows": null,
            "right": null,
            "justify_content": null,
            "_view_module": "@jupyter-widgets/base",
            "overflow": null,
            "_model_module_version": "1.2.0",
            "_view_count": null,
            "flex_flow": null,
            "width": null,
            "min_width": null,
            "border": null,
            "align_items": null,
            "bottom": null,
            "_model_module": "@jupyter-widgets/base",
            "top": null,
            "grid_column": null,
            "overflow_y": null,
            "overflow_x": null,
            "grid_auto_flow": null,
            "grid_area": null,
            "grid_template_columns": null,
            "flex": null,
            "_model_name": "LayoutModel",
            "justify_items": null,
            "grid_row": null,
            "max_height": null,
            "align_content": null,
            "visibility": null,
            "align_self": null,
            "height": null,
            "min_height": null,
            "padding": null,
            "grid_auto_rows": null,
            "grid_gap": null,
            "max_width": null,
            "order": null,
            "_view_module_version": "1.2.0",
            "grid_template_areas": null,
            "object_position": null,
            "object_fit": null,
            "grid_auto_columns": null,
            "margin": null,
            "display": null,
            "left": null
          }
        },
        "4465e3f592b543d6bb59a857815ea05b": {
          "model_module": "@jupyter-widgets/controls",
          "model_name": "HBoxModel",
          "state": {
            "_view_name": "HBoxView",
            "_dom_classes": [],
            "_model_name": "HBoxModel",
            "_view_module": "@jupyter-widgets/controls",
            "_model_module_version": "1.5.0",
            "_view_count": null,
            "_view_module_version": "1.5.0",
            "box_style": "",
            "layout": "IPY_MODEL_f278797e492346269f41e024c351c5f7",
            "_model_module": "@jupyter-widgets/controls",
            "children": [
              "IPY_MODEL_a248e2e919aa4ef291b3296200a48417",
              "IPY_MODEL_d2b26d7726ea4aea8d9269aaa92bf7c8"
            ]
          }
        },
        "f278797e492346269f41e024c351c5f7": {
          "model_module": "@jupyter-widgets/base",
          "model_name": "LayoutModel",
          "state": {
            "_view_name": "LayoutView",
            "grid_template_rows": null,
            "right": null,
            "justify_content": null,
            "_view_module": "@jupyter-widgets/base",
            "overflow": null,
            "_model_module_version": "1.2.0",
            "_view_count": null,
            "flex_flow": null,
            "width": null,
            "min_width": null,
            "border": null,
            "align_items": null,
            "bottom": null,
            "_model_module": "@jupyter-widgets/base",
            "top": null,
            "grid_column": null,
            "overflow_y": null,
            "overflow_x": null,
            "grid_auto_flow": null,
            "grid_area": null,
            "grid_template_columns": null,
            "flex": null,
            "_model_name": "LayoutModel",
            "justify_items": null,
            "grid_row": null,
            "max_height": null,
            "align_content": null,
            "visibility": null,
            "align_self": null,
            "height": null,
            "min_height": null,
            "padding": null,
            "grid_auto_rows": null,
            "grid_gap": null,
            "max_width": null,
            "order": null,
            "_view_module_version": "1.2.0",
            "grid_template_areas": null,
            "object_position": null,
            "object_fit": null,
            "grid_auto_columns": null,
            "margin": null,
            "display": null,
            "left": null
          }
        },
        "a248e2e919aa4ef291b3296200a48417": {
          "model_module": "@jupyter-widgets/controls",
          "model_name": "FloatProgressModel",
          "state": {
            "_view_name": "ProgressView",
            "style": "IPY_MODEL_9df3bae61d1b47a8a19c7e5f63badeb8",
            "_dom_classes": [],
            "description": "100%",
            "_model_name": "FloatProgressModel",
            "bar_style": "success",
            "max": 38,
            "_view_module": "@jupyter-widgets/controls",
            "_model_module_version": "1.5.0",
            "value": 38,
            "_view_count": null,
            "_view_module_version": "1.5.0",
            "orientation": "horizontal",
            "min": 0,
            "description_tooltip": null,
            "_model_module": "@jupyter-widgets/controls",
            "layout": "IPY_MODEL_24f84df941a842f2a9a01d6f67f99185"
          }
        },
        "d2b26d7726ea4aea8d9269aaa92bf7c8": {
          "model_module": "@jupyter-widgets/controls",
          "model_name": "HTMLModel",
          "state": {
            "_view_name": "HTMLView",
            "style": "IPY_MODEL_9674efa30e254735808340f16747af07",
            "_dom_classes": [],
            "description": "",
            "_model_name": "HTMLModel",
            "placeholder": "​",
            "_view_module": "@jupyter-widgets/controls",
            "_model_module_version": "1.5.0",
            "value": " 38/38 [00:48&lt;00:00,  1.27s/it]",
            "_view_count": null,
            "_view_module_version": "1.5.0",
            "description_tooltip": null,
            "_model_module": "@jupyter-widgets/controls",
            "layout": "IPY_MODEL_77e13ac4bbe943bba0c03525a6aebc60"
          }
        },
        "9df3bae61d1b47a8a19c7e5f63badeb8": {
          "model_module": "@jupyter-widgets/controls",
          "model_name": "ProgressStyleModel",
          "state": {
            "_view_name": "StyleView",
            "_model_name": "ProgressStyleModel",
            "description_width": "initial",
            "_view_module": "@jupyter-widgets/base",
            "_model_module_version": "1.5.0",
            "_view_count": null,
            "_view_module_version": "1.2.0",
            "bar_color": null,
            "_model_module": "@jupyter-widgets/controls"
          }
        },
        "24f84df941a842f2a9a01d6f67f99185": {
          "model_module": "@jupyter-widgets/base",
          "model_name": "LayoutModel",
          "state": {
            "_view_name": "LayoutView",
            "grid_template_rows": null,
            "right": null,
            "justify_content": null,
            "_view_module": "@jupyter-widgets/base",
            "overflow": null,
            "_model_module_version": "1.2.0",
            "_view_count": null,
            "flex_flow": null,
            "width": null,
            "min_width": null,
            "border": null,
            "align_items": null,
            "bottom": null,
            "_model_module": "@jupyter-widgets/base",
            "top": null,
            "grid_column": null,
            "overflow_y": null,
            "overflow_x": null,
            "grid_auto_flow": null,
            "grid_area": null,
            "grid_template_columns": null,
            "flex": null,
            "_model_name": "LayoutModel",
            "justify_items": null,
            "grid_row": null,
            "max_height": null,
            "align_content": null,
            "visibility": null,
            "align_self": null,
            "height": null,
            "min_height": null,
            "padding": null,
            "grid_auto_rows": null,
            "grid_gap": null,
            "max_width": null,
            "order": null,
            "_view_module_version": "1.2.0",
            "grid_template_areas": null,
            "object_position": null,
            "object_fit": null,
            "grid_auto_columns": null,
            "margin": null,
            "display": null,
            "left": null
          }
        },
        "9674efa30e254735808340f16747af07": {
          "model_module": "@jupyter-widgets/controls",
          "model_name": "DescriptionStyleModel",
          "state": {
            "_view_name": "StyleView",
            "_model_name": "DescriptionStyleModel",
            "description_width": "",
            "_view_module": "@jupyter-widgets/base",
            "_model_module_version": "1.5.0",
            "_view_count": null,
            "_view_module_version": "1.2.0",
            "_model_module": "@jupyter-widgets/controls"
          }
        },
        "77e13ac4bbe943bba0c03525a6aebc60": {
          "model_module": "@jupyter-widgets/base",
          "model_name": "LayoutModel",
          "state": {
            "_view_name": "LayoutView",
            "grid_template_rows": null,
            "right": null,
            "justify_content": null,
            "_view_module": "@jupyter-widgets/base",
            "overflow": null,
            "_model_module_version": "1.2.0",
            "_view_count": null,
            "flex_flow": null,
            "width": null,
            "min_width": null,
            "border": null,
            "align_items": null,
            "bottom": null,
            "_model_module": "@jupyter-widgets/base",
            "top": null,
            "grid_column": null,
            "overflow_y": null,
            "overflow_x": null,
            "grid_auto_flow": null,
            "grid_area": null,
            "grid_template_columns": null,
            "flex": null,
            "_model_name": "LayoutModel",
            "justify_items": null,
            "grid_row": null,
            "max_height": null,
            "align_content": null,
            "visibility": null,
            "align_self": null,
            "height": null,
            "min_height": null,
            "padding": null,
            "grid_auto_rows": null,
            "grid_gap": null,
            "max_width": null,
            "order": null,
            "_view_module_version": "1.2.0",
            "grid_template_areas": null,
            "object_position": null,
            "object_fit": null,
            "grid_auto_columns": null,
            "margin": null,
            "display": null,
            "left": null
          }
        }
      }
    }
  },
  "cells": [
    {
      "cell_type": "markdown",
      "metadata": {
        "id": "view-in-github",
        "colab_type": "text"
      },
      "source": [
        "<a href=\"https://colab.research.google.com/github/flying-bear/modeling_schizo/blob/master/Reembed_and_apply.ipynb\" target=\"_parent\"><img src=\"https://colab.research.google.com/assets/colab-badge.svg\" alt=\"Open In Colab\"/></a>"
      ]
    },
    {
      "cell_type": "markdown",
      "metadata": {
        "id": "uqu6GfdWrsto",
        "colab_type": "text"
      },
      "source": [
        "## Get raw frequency counts on RuWac + Sample"
      ]
    },
    {
      "cell_type": "markdown",
      "metadata": {
        "id": "Qxr3cREmJkvq",
        "colab_type": "text"
      },
      "source": [
        "### Load the lemmatized ELMo model from [rusvectores](https://rusvectores.org/ru/models/)"
      ]
    },
    {
      "cell_type": "code",
      "metadata": {
        "id": "yeB6mpACrsAB",
        "colab_type": "code",
        "outputId": "8d379bdf-4c5f-4f1e-d7af-6ef5d46230fb",
        "colab": {
          "base_uri": "https://localhost:8080/",
          "height": 352
        }
      },
      "source": [
        "!wget https://github.com/flying-bear/modeling_schizo/blob/master/word_freq.zip?raw=true -O word_freq.zip"
      ],
      "execution_count": 0,
      "outputs": [
        {
          "output_type": "stream",
          "text": [
            "--2020-05-06 16:41:23--  https://github.com/flying-bear/modeling_schizo/blob/master/word_freq.zip?raw=true\n",
            "Resolving github.com (github.com)... 140.82.114.4\n",
            "Connecting to github.com (github.com)|140.82.114.4|:443... connected.\n",
            "HTTP request sent, awaiting response... 302 Found\n",
            "Location: https://github.com/flying-bear/modeling_schizo/raw/master/word_freq.zip [following]\n",
            "--2020-05-06 16:41:24--  https://github.com/flying-bear/modeling_schizo/raw/master/word_freq.zip\n",
            "Reusing existing connection to github.com:443.\n",
            "HTTP request sent, awaiting response... 302 Found\n",
            "Location: https://raw.githubusercontent.com/flying-bear/modeling_schizo/master/word_freq.zip [following]\n",
            "--2020-05-06 16:41:24--  https://raw.githubusercontent.com/flying-bear/modeling_schizo/master/word_freq.zip\n",
            "Resolving raw.githubusercontent.com (raw.githubusercontent.com)... 151.101.0.133, 151.101.64.133, 151.101.128.133, ...\n",
            "Connecting to raw.githubusercontent.com (raw.githubusercontent.com)|151.101.0.133|:443... connected.\n",
            "HTTP request sent, awaiting response... 200 OK\n",
            "Length: 91943313 (88M) [application/zip]\n",
            "Saving to: ‘word_freq.zip’\n",
            "\n",
            "word_freq.zip       100%[===================>]  87.68M  82.7MB/s    in 1.1s    \n",
            "\n",
            "2020-05-06 16:41:26 (82.7 MB/s) - ‘word_freq.zip’ saved [91943313/91943313]\n",
            "\n"
          ],
          "name": "stdout"
        }
      ]
    },
    {
      "cell_type": "code",
      "metadata": {
        "id": "CQW3D4V1r6-P",
        "colab_type": "code",
        "outputId": "ef42a867-b8d5-4da2-c4c8-371b5250640f",
        "colab": {
          "base_uri": "https://localhost:8080/",
          "height": 50
        }
      },
      "source": [
        "!unzip word_freq.zip"
      ],
      "execution_count": 0,
      "outputs": [
        {
          "output_type": "stream",
          "text": [
            "Archive:  word_freq.zip\n",
            "replace word_freq.pickle? [y]es, [n]o, [A]ll, [N]one, [r]ename: n\n"
          ],
          "name": "stdout"
        }
      ]
    },
    {
      "cell_type": "markdown",
      "metadata": {
        "id": "2TUv5J0sJn1i",
        "colab_type": "text"
      },
      "source": [
        "### Install stuff"
      ]
    },
    {
      "cell_type": "code",
      "metadata": {
        "id": "HelZPoDJDpWJ",
        "colab_type": "code",
        "cellView": "both",
        "outputId": "835bc636-9148-4254-a8a5-d00869c0d2f8",
        "colab": {
          "base_uri": "https://localhost:8080/",
          "height": 1000
        }
      },
      "source": [
        "!pip install allennlp"
      ],
      "execution_count": 146,
      "outputs": [
        {
          "output_type": "stream",
          "text": [
            "Requirement already satisfied: allennlp in /usr/local/lib/python3.6/dist-packages (0.9.0)\n",
            "Requirement already satisfied: gevent>=1.3.6 in /usr/local/lib/python3.6/dist-packages (from allennlp) (20.5.0)\n",
            "Requirement already satisfied: conllu==1.3.1 in /usr/local/lib/python3.6/dist-packages (from allennlp) (1.3.1)\n",
            "Requirement already satisfied: numpydoc>=0.8.0 in /usr/local/lib/python3.6/dist-packages (from allennlp) (0.9.2)\n",
            "Requirement already satisfied: flask>=1.0.2 in /usr/local/lib/python3.6/dist-packages (from allennlp) (1.1.2)\n",
            "Requirement already satisfied: flask-cors>=3.0.7 in /usr/local/lib/python3.6/dist-packages (from allennlp) (3.0.8)\n",
            "Requirement already satisfied: ftfy in /usr/local/lib/python3.6/dist-packages (from allennlp) (5.7)\n",
            "Requirement already satisfied: scikit-learn in /usr/local/lib/python3.6/dist-packages (from allennlp) (0.21.2)\n",
            "Requirement already satisfied: editdistance in /usr/local/lib/python3.6/dist-packages (from allennlp) (0.5.3)\n",
            "Requirement already satisfied: numpy in /usr/local/lib/python3.6/dist-packages (from allennlp) (1.18.0)\n",
            "Requirement already satisfied: jsonpickle in /usr/local/lib/python3.6/dist-packages (from allennlp) (1.4.1)\n",
            "Requirement already satisfied: requests>=2.18 in /usr/local/lib/python3.6/dist-packages (from allennlp) (2.22.0)\n",
            "Requirement already satisfied: unidecode in /usr/local/lib/python3.6/dist-packages (from allennlp) (1.1.1)\n",
            "Requirement already satisfied: matplotlib>=2.2.3 in /usr/local/lib/python3.6/dist-packages (from allennlp) (3.2.1)\n",
            "Requirement already satisfied: h5py in /usr/local/lib/python3.6/dist-packages (from allennlp) (2.10.0)\n",
            "Requirement already satisfied: scipy in /usr/local/lib/python3.6/dist-packages (from allennlp) (1.4.1)\n",
            "Requirement already satisfied: sqlparse>=0.2.4 in /usr/local/lib/python3.6/dist-packages (from allennlp) (0.3.1)\n",
            "Requirement already satisfied: jsonnet>=0.10.0; sys_platform != \"win32\" in /usr/local/lib/python3.6/dist-packages (from allennlp) (0.15.0)\n",
            "Requirement already satisfied: pytest in /usr/local/lib/python3.6/dist-packages (from allennlp) (3.6.4)\n",
            "Requirement already satisfied: flaky in /usr/local/lib/python3.6/dist-packages (from allennlp) (3.6.1)\n",
            "Requirement already satisfied: word2number>=1.1 in /usr/local/lib/python3.6/dist-packages (from allennlp) (1.1)\n",
            "Requirement already satisfied: spacy<2.2,>=2.1.0 in /usr/local/lib/python3.6/dist-packages (from allennlp) (2.1.9)\n",
            "Requirement already satisfied: pytorch-transformers==1.1.0 in /usr/local/lib/python3.6/dist-packages (from allennlp) (1.1.0)\n",
            "Requirement already satisfied: pytorch-pretrained-bert>=0.6.0 in /usr/local/lib/python3.6/dist-packages (from allennlp) (0.6.2)\n",
            "Requirement already satisfied: tensorboardX>=1.2 in /usr/local/lib/python3.6/dist-packages (from allennlp) (2.0)\n",
            "Requirement already satisfied: parsimonious>=0.8.0 in /usr/local/lib/python3.6/dist-packages (from allennlp) (0.8.1)\n",
            "Requirement already satisfied: torch>=1.2.0 in /usr/local/lib/python3.6/dist-packages (from allennlp) (1.5.0+cu101)\n",
            "Requirement already satisfied: boto3 in /usr/local/lib/python3.6/dist-packages (from allennlp) (1.13.1)\n",
            "Requirement already satisfied: nltk in /usr/local/lib/python3.6/dist-packages (from allennlp) (3.4.5)\n",
            "Requirement already satisfied: responses>=0.7 in /usr/local/lib/python3.6/dist-packages (from allennlp) (0.10.14)\n",
            "Requirement already satisfied: overrides in /usr/local/lib/python3.6/dist-packages (from allennlp) (2.7.0)\n",
            "Requirement already satisfied: tqdm>=4.19 in /usr/local/lib/python3.6/dist-packages (from allennlp) (4.41.1)\n",
            "Requirement already satisfied: pytz>=2017.3 in /usr/local/lib/python3.6/dist-packages (from allennlp) (2018.9)\n",
            "Requirement already satisfied: greenlet>=0.4.14; platform_python_implementation == \"CPython\" in /usr/local/lib/python3.6/dist-packages (from gevent>=1.3.6->allennlp) (0.4.15)\n",
            "Requirement already satisfied: Jinja2>=2.3 in /usr/local/lib/python3.6/dist-packages (from numpydoc>=0.8.0->allennlp) (2.11.2)\n",
            "Requirement already satisfied: sphinx>=1.6.5 in /usr/local/lib/python3.6/dist-packages (from numpydoc>=0.8.0->allennlp) (1.8.5)\n",
            "Requirement already satisfied: itsdangerous>=0.24 in /usr/local/lib/python3.6/dist-packages (from flask>=1.0.2->allennlp) (1.1.0)\n",
            "Requirement already satisfied: click>=5.1 in /usr/local/lib/python3.6/dist-packages (from flask>=1.0.2->allennlp) (7.1.2)\n",
            "Requirement already satisfied: Werkzeug>=0.15 in /usr/local/lib/python3.6/dist-packages (from flask>=1.0.2->allennlp) (1.0.1)\n",
            "Requirement already satisfied: Six in /usr/local/lib/python3.6/dist-packages (from flask-cors>=3.0.7->allennlp) (1.12.0)\n",
            "Requirement already satisfied: wcwidth in /usr/local/lib/python3.6/dist-packages (from ftfy->allennlp) (0.1.9)\n",
            "Requirement already satisfied: joblib>=0.11 in /usr/local/lib/python3.6/dist-packages (from scikit-learn->allennlp) (0.14.1)\n",
            "Requirement already satisfied: importlib-metadata in /usr/local/lib/python3.6/dist-packages (from jsonpickle->allennlp) (1.6.0)\n",
            "Requirement already satisfied: chardet<3.1.0,>=3.0.2 in /usr/local/lib/python3.6/dist-packages (from requests>=2.18->allennlp) (3.0.4)\n",
            "Requirement already satisfied: idna<2.9,>=2.5 in /usr/local/lib/python3.6/dist-packages (from requests>=2.18->allennlp) (2.8)\n",
            "Requirement already satisfied: urllib3!=1.25.0,!=1.25.1,<1.26,>=1.21.1 in /usr/local/lib/python3.6/dist-packages (from requests>=2.18->allennlp) (1.24.3)\n",
            "Requirement already satisfied: certifi>=2017.4.17 in /usr/local/lib/python3.6/dist-packages (from requests>=2.18->allennlp) (2020.4.5.1)\n",
            "Requirement already satisfied: kiwisolver>=1.0.1 in /usr/local/lib/python3.6/dist-packages (from matplotlib>=2.2.3->allennlp) (1.2.0)\n",
            "Requirement already satisfied: cycler>=0.10 in /usr/local/lib/python3.6/dist-packages (from matplotlib>=2.2.3->allennlp) (0.10.0)\n",
            "Requirement already satisfied: pyparsing!=2.0.4,!=2.1.2,!=2.1.6,>=2.0.1 in /usr/local/lib/python3.6/dist-packages (from matplotlib>=2.2.3->allennlp) (2.4.7)\n",
            "Requirement already satisfied: python-dateutil>=2.1 in /usr/local/lib/python3.6/dist-packages (from matplotlib>=2.2.3->allennlp) (2.8.1)\n",
            "Requirement already satisfied: atomicwrites>=1.0 in /usr/local/lib/python3.6/dist-packages (from pytest->allennlp) (1.4.0)\n",
            "Requirement already satisfied: more-itertools>=4.0.0 in /usr/local/lib/python3.6/dist-packages (from pytest->allennlp) (8.2.0)\n",
            "Requirement already satisfied: attrs>=17.4.0 in /usr/local/lib/python3.6/dist-packages (from pytest->allennlp) (19.3.0)\n",
            "Requirement already satisfied: pluggy<0.8,>=0.5 in /usr/local/lib/python3.6/dist-packages (from pytest->allennlp) (0.7.1)\n",
            "Requirement already satisfied: setuptools in /usr/local/lib/python3.6/dist-packages (from pytest->allennlp) (46.1.3)\n",
            "Requirement already satisfied: py>=1.5.0 in /usr/local/lib/python3.6/dist-packages (from pytest->allennlp) (1.8.1)\n",
            "Requirement already satisfied: plac<1.0.0,>=0.9.6 in /usr/local/lib/python3.6/dist-packages (from spacy<2.2,>=2.1.0->allennlp) (0.9.6)\n",
            "Requirement already satisfied: murmurhash<1.1.0,>=0.28.0 in /usr/local/lib/python3.6/dist-packages (from spacy<2.2,>=2.1.0->allennlp) (1.0.2)\n",
            "Requirement already satisfied: blis<0.3.0,>=0.2.2 in /usr/local/lib/python3.6/dist-packages (from spacy<2.2,>=2.1.0->allennlp) (0.2.4)\n",
            "Requirement already satisfied: srsly<1.1.0,>=0.0.6 in /usr/local/lib/python3.6/dist-packages (from spacy<2.2,>=2.1.0->allennlp) (1.0.2)\n",
            "Requirement already satisfied: cymem<2.1.0,>=2.0.2 in /usr/local/lib/python3.6/dist-packages (from spacy<2.2,>=2.1.0->allennlp) (2.0.3)\n",
            "Requirement already satisfied: preshed<2.1.0,>=2.0.1 in /usr/local/lib/python3.6/dist-packages (from spacy<2.2,>=2.1.0->allennlp) (2.0.1)\n",
            "Requirement already satisfied: thinc<7.1.0,>=7.0.8 in /usr/local/lib/python3.6/dist-packages (from spacy<2.2,>=2.1.0->allennlp) (7.0.8)\n",
            "Requirement already satisfied: wasabi<1.1.0,>=0.2.0 in /usr/local/lib/python3.6/dist-packages (from spacy<2.2,>=2.1.0->allennlp) (0.6.0)\n",
            "Requirement already satisfied: regex in /usr/local/lib/python3.6/dist-packages (from pytorch-transformers==1.1.0->allennlp) (2019.12.20)\n",
            "Requirement already satisfied: sentencepiece in /usr/local/lib/python3.6/dist-packages (from pytorch-transformers==1.1.0->allennlp) (0.1.86)\n",
            "Requirement already satisfied: protobuf>=3.8.0 in /usr/local/lib/python3.6/dist-packages (from tensorboardX>=1.2->allennlp) (3.10.0)\n",
            "Requirement already satisfied: future in /usr/local/lib/python3.6/dist-packages (from torch>=1.2.0->allennlp) (0.16.0)\n",
            "Requirement already satisfied: botocore<1.17.0,>=1.16.1 in /usr/local/lib/python3.6/dist-packages (from boto3->allennlp) (1.16.1)\n",
            "Requirement already satisfied: jmespath<1.0.0,>=0.7.1 in /usr/local/lib/python3.6/dist-packages (from boto3->allennlp) (0.9.5)\n",
            "Requirement already satisfied: s3transfer<0.4.0,>=0.3.0 in /usr/local/lib/python3.6/dist-packages (from boto3->allennlp) (0.3.3)\n",
            "Requirement already satisfied: MarkupSafe>=0.23 in /usr/local/lib/python3.6/dist-packages (from Jinja2>=2.3->numpydoc>=0.8.0->allennlp) (1.1.1)\n",
            "Requirement already satisfied: babel!=2.0,>=1.3 in /usr/local/lib/python3.6/dist-packages (from sphinx>=1.6.5->numpydoc>=0.8.0->allennlp) (2.8.0)\n",
            "Requirement already satisfied: imagesize in /usr/local/lib/python3.6/dist-packages (from sphinx>=1.6.5->numpydoc>=0.8.0->allennlp) (1.2.0)\n",
            "Requirement already satisfied: alabaster<0.8,>=0.7 in /usr/local/lib/python3.6/dist-packages (from sphinx>=1.6.5->numpydoc>=0.8.0->allennlp) (0.7.12)\n",
            "Requirement already satisfied: snowballstemmer>=1.1 in /usr/local/lib/python3.6/dist-packages (from sphinx>=1.6.5->numpydoc>=0.8.0->allennlp) (2.0.0)\n",
            "Requirement already satisfied: Pygments>=2.0 in /usr/local/lib/python3.6/dist-packages (from sphinx>=1.6.5->numpydoc>=0.8.0->allennlp) (2.1.3)\n",
            "Requirement already satisfied: packaging in /usr/local/lib/python3.6/dist-packages (from sphinx>=1.6.5->numpydoc>=0.8.0->allennlp) (20.3)\n",
            "Requirement already satisfied: docutils>=0.11 in /usr/local/lib/python3.6/dist-packages (from sphinx>=1.6.5->numpydoc>=0.8.0->allennlp) (0.15.2)\n",
            "Requirement already satisfied: sphinxcontrib-websupport in /usr/local/lib/python3.6/dist-packages (from sphinx>=1.6.5->numpydoc>=0.8.0->allennlp) (1.2.2)\n",
            "Requirement already satisfied: zipp>=0.5 in /usr/local/lib/python3.6/dist-packages (from importlib-metadata->jsonpickle->allennlp) (3.1.0)\n"
          ],
          "name": "stdout"
        }
      ]
    },
    {
      "cell_type": "code",
      "metadata": {
        "id": "zzqMppNjFxRe",
        "colab_type": "code",
        "outputId": "0f787388-e9d4-40ab-ad37-2dfc9ae19b5b",
        "colab": {
          "base_uri": "https://localhost:8080/",
          "height": 218
        }
      },
      "source": [
        "!pip install pymystem3==0.1.10"
      ],
      "execution_count": 0,
      "outputs": [
        {
          "output_type": "stream",
          "text": [
            "Collecting pymystem3==0.1.10\n",
            "  Downloading https://files.pythonhosted.org/packages/51/56/57e550b53587719e92330a79c7c0f555402d953b00700efae6d5ca53cdef/pymystem3-0.1.10-py3-none-any.whl\n",
            "Requirement already satisfied: requests in /usr/local/lib/python3.6/dist-packages (from pymystem3==0.1.10) (2.23.0)\n",
            "Requirement already satisfied: urllib3!=1.25.0,!=1.25.1,<1.26,>=1.21.1 in /usr/local/lib/python3.6/dist-packages (from requests->pymystem3==0.1.10) (1.24.3)\n",
            "Requirement already satisfied: idna<3,>=2.5 in /usr/local/lib/python3.6/dist-packages (from requests->pymystem3==0.1.10) (2.9)\n",
            "Requirement already satisfied: certifi>=2017.4.17 in /usr/local/lib/python3.6/dist-packages (from requests->pymystem3==0.1.10) (2020.4.5.1)\n",
            "Requirement already satisfied: chardet<4,>=3.0.2 in /usr/local/lib/python3.6/dist-packages (from requests->pymystem3==0.1.10) (3.0.4)\n",
            "Installing collected packages: pymystem3\n",
            "  Found existing installation: pymystem3 0.2.0\n",
            "    Uninstalling pymystem3-0.2.0:\n",
            "      Successfully uninstalled pymystem3-0.2.0\n",
            "Successfully installed pymystem3-0.1.10\n"
          ],
          "name": "stdout"
        }
      ]
    },
    {
      "cell_type": "code",
      "metadata": {
        "id": "YSiQQOqzKVhe",
        "colab_type": "code",
        "outputId": "3bcaaec1-a332-4313-a483-85981dc3842f",
        "colab": {
          "base_uri": "https://localhost:8080/",
          "height": 201
        }
      },
      "source": [
        "!pip install pymorphy2"
      ],
      "execution_count": 0,
      "outputs": [
        {
          "output_type": "stream",
          "text": [
            "Collecting pymorphy2\n",
            "\u001b[?25l  Downloading https://files.pythonhosted.org/packages/a3/33/fff9675c68b5f6c63ec8c6e6ff57827dda28a1fa5b2c2d727dffff92dd47/pymorphy2-0.8-py2.py3-none-any.whl (46kB)\n",
            "\r\u001b[K     |███████                         | 10kB 18.6MB/s eta 0:00:01\r\u001b[K     |██████████████▏                 | 20kB 1.8MB/s eta 0:00:01\r\u001b[K     |█████████████████████▎          | 30kB 2.3MB/s eta 0:00:01\r\u001b[K     |████████████████████████████▍   | 40kB 2.5MB/s eta 0:00:01\r\u001b[K     |████████████████████████████████| 51kB 1.7MB/s \n",
            "\u001b[?25hRequirement already satisfied: docopt>=0.6 in /usr/local/lib/python3.6/dist-packages (from pymorphy2) (0.6.2)\n",
            "Collecting dawg-python>=0.7\n",
            "  Downloading https://files.pythonhosted.org/packages/6a/84/ff1ce2071d4c650ec85745766c0047ccc3b5036f1d03559fd46bb38b5eeb/DAWG_Python-0.7.2-py2.py3-none-any.whl\n",
            "Collecting pymorphy2-dicts<3.0,>=2.4\n",
            "\u001b[?25l  Downloading https://files.pythonhosted.org/packages/02/51/2465fd4f72328ab50877b54777764d928da8cb15b74e2680fc1bd8cb3173/pymorphy2_dicts-2.4.393442.3710985-py2.py3-none-any.whl (7.1MB)\n",
            "\u001b[K     |████████████████████████████████| 7.1MB 6.7MB/s \n",
            "\u001b[?25hInstalling collected packages: dawg-python, pymorphy2-dicts, pymorphy2\n",
            "Successfully installed dawg-python-0.7.2 pymorphy2-0.8 pymorphy2-dicts-2.4.393442.3710985\n"
          ],
          "name": "stdout"
        }
      ]
    },
    {
      "cell_type": "code",
      "metadata": {
        "id": "4pD93jEuSpgv",
        "colab_type": "code",
        "outputId": "c9010891-14a1-4c33-95d1-455fbb6fdee5",
        "colab": {
          "base_uri": "https://localhost:8080/",
          "height": 1000
        }
      },
      "source": [
        "!pip install deeppavlov"
      ],
      "execution_count": 0,
      "outputs": [
        {
          "output_type": "stream",
          "text": [
            "Collecting deeppavlov\n",
            "\u001b[?25l  Downloading https://files.pythonhosted.org/packages/b7/74/600871c188f82023575c86f6119804c35f0cdbd009bd5b73e4538978ba3d/deeppavlov-0.9.1-py3-none-any.whl (777kB)\n",
            "\u001b[K     |████████████████████████████████| 778kB 2.8MB/s \n",
            "\u001b[?25hCollecting tqdm==4.41.1\n",
            "\u001b[?25l  Downloading https://files.pythonhosted.org/packages/72/c9/7fc20feac72e79032a7c8138fd0d395dc6d8812b5b9edf53c3afd0b31017/tqdm-4.41.1-py2.py3-none-any.whl (56kB)\n",
            "\u001b[K     |████████████████████████████████| 61kB 6.9MB/s \n",
            "\u001b[?25hCollecting fastapi==0.47.1\n",
            "\u001b[?25l  Downloading https://files.pythonhosted.org/packages/a3/a7/4804d7abf8a1544d079d50650af872387154ebdac5bd07d54b2e60e2b334/fastapi-0.47.1-py3-none-any.whl (43kB)\n",
            "\u001b[K     |████████████████████████████████| 51kB 7.3MB/s \n",
            "\u001b[?25hCollecting rusenttokenize==0.0.5\n",
            "  Downloading https://files.pythonhosted.org/packages/25/4c/a2f00be5def774a3df2e5387145f1cb54e324607ec4a7e23f573645946e7/rusenttokenize-0.0.5-py3-none-any.whl\n",
            "Collecting fuzzywuzzy==0.17.0\n",
            "  Downloading https://files.pythonhosted.org/packages/d8/f1/5a267addb30ab7eaa1beab2b9323073815da4551076554ecc890a3595ec9/fuzzywuzzy-0.17.0-py2.py3-none-any.whl\n",
            "Requirement already satisfied: h5py==2.10.0 in /usr/local/lib/python3.6/dist-packages (from deeppavlov) (2.10.0)\n",
            "Collecting pandas==0.25.3\n",
            "\u001b[?25l  Downloading https://files.pythonhosted.org/packages/52/3f/f6a428599e0d4497e1595030965b5ba455fd8ade6e977e3c819973c4b41d/pandas-0.25.3-cp36-cp36m-manylinux1_x86_64.whl (10.4MB)\n",
            "\u001b[K     |████████████████████████████████| 10.4MB 13.6MB/s \n",
            "\u001b[?25hCollecting pyopenssl==19.1.0\n",
            "\u001b[?25l  Downloading https://files.pythonhosted.org/packages/9e/de/f8342b68fa9e981d348039954657bdf681b2ab93de27443be51865ffa310/pyOpenSSL-19.1.0-py2.py3-none-any.whl (53kB)\n",
            "\u001b[K     |████████████████████████████████| 61kB 8.6MB/s \n",
            "\u001b[?25hCollecting pytelegrambotapi==3.6.7\n",
            "\u001b[?25l  Downloading https://files.pythonhosted.org/packages/62/ab/99c606f69fcda57e35788b913dd34c9d9acb48dd26349141b3855dcf6351/pyTelegramBotAPI-3.6.7.tar.gz (65kB)\n",
            "\u001b[K     |████████████████████████████████| 71kB 8.9MB/s \n",
            "\u001b[?25hCollecting nltk==3.4.5\n",
            "\u001b[?25l  Downloading https://files.pythonhosted.org/packages/f6/1d/d925cfb4f324ede997f6d47bea4d9babba51b49e87a767c170b77005889d/nltk-3.4.5.zip (1.5MB)\n",
            "\u001b[K     |████████████████████████████████| 1.5MB 44.6MB/s \n",
            "\u001b[?25hCollecting pydantic==1.3\n",
            "\u001b[?25l  Downloading https://files.pythonhosted.org/packages/99/24/e78cf017628e7eaed20cb040999b1ecc69f872da53dfd0d9aed40c0fa5f1/pydantic-1.3-cp36-cp36m-manylinux2010_x86_64.whl (7.3MB)\n",
            "\u001b[K     |████████████████████████████████| 7.3MB 43.4MB/s \n",
            "\u001b[?25hRequirement already satisfied: pymorphy2==0.8 in /usr/local/lib/python3.6/dist-packages (from deeppavlov) (0.8)\n",
            "Collecting aio-pika==6.4.1\n",
            "\u001b[?25l  Downloading https://files.pythonhosted.org/packages/c8/07/196a4115cbef31fa0c3dabdea146f02dffe5e49998341d20dbe2278953bc/aio_pika-6.4.1-py3-none-any.whl (40kB)\n",
            "\u001b[K     |████████████████████████████████| 51kB 6.4MB/s \n",
            "\u001b[?25hCollecting overrides==2.7.0\n",
            "  Downloading https://files.pythonhosted.org/packages/ac/98/2430afd204c48ac0a529d439d7e22df8fa603c668d03456b5947cb59ec36/overrides-2.7.0.tar.gz\n",
            "Collecting Cython==0.29.14\n",
            "\u001b[?25l  Downloading https://files.pythonhosted.org/packages/df/d1/4d3f8a7a920e805488a966cc6ab55c978a712240f584445d703c08b9f405/Cython-0.29.14-cp36-cp36m-manylinux1_x86_64.whl (2.1MB)\n",
            "\u001b[K     |████████████████████████████████| 2.1MB 43.4MB/s \n",
            "\u001b[?25hCollecting uvicorn==0.11.1\n",
            "\u001b[?25l  Downloading https://files.pythonhosted.org/packages/8e/24/11f4b4bf3963ead6de570feeae49eeced02f6768cf1f68e16f4b16d3b0aa/uvicorn-0.11.1-py3-none-any.whl (42kB)\n",
            "\u001b[K     |████████████████████████████████| 51kB 7.2MB/s \n",
            "\u001b[?25hCollecting pymorphy2-dicts-ru\n",
            "\u001b[?25l  Downloading https://files.pythonhosted.org/packages/7c/9b/358faaff410f65a4ad159275e897b5956dcb20576c5b8e764b971c1634d7/pymorphy2_dicts_ru-2.4.404381.4453942-py2.py3-none-any.whl (8.0MB)\n",
            "\u001b[K     |████████████████████████████████| 8.0MB 45.9MB/s \n",
            "\u001b[?25hCollecting ruamel.yaml==0.15.100\n",
            "\u001b[?25l  Downloading https://files.pythonhosted.org/packages/e7/9f/83bb34eaf84032b0b54fcc4a6aff1858572d279d65a301c7ae875f523df5/ruamel.yaml-0.15.100-cp36-cp36m-manylinux1_x86_64.whl (656kB)\n",
            "\u001b[K     |████████████████████████████████| 665kB 42.2MB/s \n",
            "\u001b[?25hCollecting scikit-learn==0.21.2\n",
            "\u001b[?25l  Downloading https://files.pythonhosted.org/packages/85/04/49633f490f726da6e454fddc8e938bbb5bfed2001681118d3814c219b723/scikit_learn-0.21.2-cp36-cp36m-manylinux1_x86_64.whl (6.7MB)\n",
            "\u001b[K     |████████████████████████████████| 6.7MB 47.0MB/s \n",
            "\u001b[?25hRequirement already satisfied: scipy==1.4.1 in /usr/local/lib/python3.6/dist-packages (from deeppavlov) (1.4.1)\n",
            "Collecting requests==2.22.0\n",
            "\u001b[?25l  Downloading https://files.pythonhosted.org/packages/51/bd/23c926cd341ea6b7dd0b2a00aba99ae0f828be89d72b2190f27c11d4b7fb/requests-2.22.0-py2.py3-none-any.whl (57kB)\n",
            "\u001b[K     |████████████████████████████████| 61kB 8.1MB/s \n",
            "\u001b[?25hCollecting numpy==1.18.0\n",
            "\u001b[?25l  Downloading https://files.pythonhosted.org/packages/92/e6/45f71bd24f4e37629e9db5fb75caab919507deae6a5a257f9e4685a5f931/numpy-1.18.0-cp36-cp36m-manylinux1_x86_64.whl (20.1MB)\n",
            "\u001b[K     |████████████████████████████████| 20.1MB 1.2MB/s \n",
            "\u001b[?25hCollecting starlette<=0.12.9,>=0.12.9\n",
            "\u001b[?25l  Downloading https://files.pythonhosted.org/packages/67/95/2220fe5bf287e693a6430d8ee36c681b0157035b7249ec08f8fb36319d16/starlette-0.12.9.tar.gz (46kB)\n",
            "\u001b[K     |████████████████████████████████| 51kB 7.1MB/s \n",
            "\u001b[?25hRequirement already satisfied: six in /usr/local/lib/python3.6/dist-packages (from h5py==2.10.0->deeppavlov) (1.12.0)\n",
            "Requirement already satisfied: python-dateutil>=2.6.1 in /usr/local/lib/python3.6/dist-packages (from pandas==0.25.3->deeppavlov) (2.8.1)\n",
            "Requirement already satisfied: pytz>=2017.2 in /usr/local/lib/python3.6/dist-packages (from pandas==0.25.3->deeppavlov) (2018.9)\n",
            "Collecting cryptography>=2.8\n",
            "\u001b[?25l  Downloading https://files.pythonhosted.org/packages/3c/04/686efee2dcdd25aecf357992e7d9362f443eb182ecd623f882bc9f7a6bba/cryptography-2.9.2-cp35-abi3-manylinux2010_x86_64.whl (2.7MB)\n",
            "\u001b[K     |████████████████████████████████| 2.7MB 44.9MB/s \n",
            "\u001b[?25hRequirement already satisfied: dataclasses>=0.6; python_version < \"3.7\" in /usr/local/lib/python3.6/dist-packages (from pydantic==1.3->deeppavlov) (0.7)\n",
            "Requirement already satisfied: pymorphy2-dicts<3.0,>=2.4 in /usr/local/lib/python3.6/dist-packages (from pymorphy2==0.8->deeppavlov) (2.4.393442.3710985)\n",
            "Requirement already satisfied: docopt>=0.6 in /usr/local/lib/python3.6/dist-packages (from pymorphy2==0.8->deeppavlov) (0.6.2)\n",
            "Requirement already satisfied: dawg-python>=0.7 in /usr/local/lib/python3.6/dist-packages (from pymorphy2==0.8->deeppavlov) (0.7.2)\n",
            "Collecting aiormq<4,>=3.2.0\n",
            "  Downloading https://files.pythonhosted.org/packages/ed/90/e8089608c2fcf75d6a8ff805611a1e31ed7cc523f5eafe244a2fb3dd75b8/aiormq-3.2.2-py3-none-any.whl\n",
            "Collecting yarl\n",
            "\u001b[?25l  Downloading https://files.pythonhosted.org/packages/95/8f/0209fc5d975f839344c33c822ff2f7ef80f6b1e984673a5a68f960bfa583/yarl-1.4.2-cp36-cp36m-manylinux1_x86_64.whl (252kB)\n",
            "\u001b[K     |████████████████████████████████| 256kB 53.7MB/s \n",
            "\u001b[?25hCollecting websockets==8.*\n",
            "\u001b[?25l  Downloading https://files.pythonhosted.org/packages/bb/d9/856af84843912e2853b1b6e898ac8b802989fcf9ecf8e8445a1da263bf3b/websockets-8.1-cp36-cp36m-manylinux2010_x86_64.whl (78kB)\n",
            "\u001b[K     |████████████████████████████████| 81kB 9.5MB/s \n",
            "\u001b[?25hRequirement already satisfied: click==7.* in /usr/local/lib/python3.6/dist-packages (from uvicorn==0.11.1->deeppavlov) (7.1.2)\n",
            "Collecting httptools==0.0.13; sys_platform != \"win32\" and sys_platform != \"cygwin\" and platform_python_implementation != \"pypy\"\n",
            "\u001b[?25l  Downloading https://files.pythonhosted.org/packages/1b/03/215969db11abe8741e9c266a4cbe803a372bd86dd35fa0084c4df6d4bd00/httptools-0.0.13.tar.gz (104kB)\n",
            "\u001b[K     |████████████████████████████████| 112kB 52.7MB/s \n",
            "\u001b[?25hCollecting h11<0.10,>=0.8\n",
            "\u001b[?25l  Downloading https://files.pythonhosted.org/packages/5a/fd/3dad730b0f95e78aeeb742f96fa7bbecbdd56a58e405d3da440d5bfb90c6/h11-0.9.0-py2.py3-none-any.whl (53kB)\n",
            "\u001b[K     |████████████████████████████████| 61kB 6.9MB/s \n",
            "\u001b[?25hCollecting uvloop>=0.14.0; sys_platform != \"win32\" and sys_platform != \"cygwin\" and platform_python_implementation != \"pypy\"\n",
            "\u001b[?25l  Downloading https://files.pythonhosted.org/packages/41/48/586225bbb02d3bdca475b17e4be5ce5b3f09da2d6979f359916c1592a687/uvloop-0.14.0-cp36-cp36m-manylinux2010_x86_64.whl (3.9MB)\n",
            "\u001b[K     |████████████████████████████████| 3.9MB 43.2MB/s \n",
            "\u001b[?25hRequirement already satisfied: joblib>=0.11 in /usr/local/lib/python3.6/dist-packages (from scikit-learn==0.21.2->deeppavlov) (0.14.1)\n",
            "Requirement already satisfied: urllib3!=1.25.0,!=1.25.1,<1.26,>=1.21.1 in /usr/local/lib/python3.6/dist-packages (from requests==2.22.0->deeppavlov) (1.24.3)\n",
            "Collecting idna<2.9,>=2.5\n",
            "\u001b[?25l  Downloading https://files.pythonhosted.org/packages/14/2c/cd551d81dbe15200be1cf41cd03869a46fe7226e7450af7a6545bfc474c9/idna-2.8-py2.py3-none-any.whl (58kB)\n",
            "\u001b[K     |████████████████████████████████| 61kB 8.3MB/s \n",
            "\u001b[?25hRequirement already satisfied: certifi>=2017.4.17 in /usr/local/lib/python3.6/dist-packages (from requests==2.22.0->deeppavlov) (2020.4.5.1)\n",
            "Requirement already satisfied: chardet<3.1.0,>=3.0.2 in /usr/local/lib/python3.6/dist-packages (from requests==2.22.0->deeppavlov) (3.0.4)\n",
            "Requirement already satisfied: cffi!=1.11.3,>=1.8 in /usr/local/lib/python3.6/dist-packages (from cryptography>=2.8->pyopenssl==19.1.0->deeppavlov) (1.14.0)\n",
            "Collecting pamqp==2.3.0\n",
            "  Downloading https://files.pythonhosted.org/packages/eb/56/afa06143361e640c9159d828dadc95fc9195c52c95b4a97d136617b0166d/pamqp-2.3.0-py2.py3-none-any.whl\n",
            "Collecting multidict>=4.0\n",
            "\u001b[?25l  Downloading https://files.pythonhosted.org/packages/30/2e/3ab2f1fb72571f75013db323a3799d505d99f3bc203513604f1ffb9b7858/multidict-4.7.5-cp36-cp36m-manylinux1_x86_64.whl (148kB)\n",
            "\u001b[K     |████████████████████████████████| 153kB 54.4MB/s \n",
            "\u001b[?25hRequirement already satisfied: pycparser in /usr/local/lib/python3.6/dist-packages (from cffi!=1.11.3,>=1.8->cryptography>=2.8->pyopenssl==19.1.0->deeppavlov) (2.20)\n",
            "Building wheels for collected packages: pytelegrambotapi, nltk, overrides, starlette, httptools\n",
            "  Building wheel for pytelegrambotapi (setup.py) ... \u001b[?25l\u001b[?25hdone\n",
            "  Created wheel for pytelegrambotapi: filename=pyTelegramBotAPI-3.6.7-cp36-none-any.whl size=47178 sha256=5c0714dfe05f1944f177980830f836409b7127d885d8186dd40ea2cef3aa4ca8\n",
            "  Stored in directory: /root/.cache/pip/wheels/23/40/18/8a34153f95ef0dc19e3954898e5a5079244b76a8afdd7d0ec5\n",
            "  Building wheel for nltk (setup.py) ... \u001b[?25l\u001b[?25hdone\n",
            "  Created wheel for nltk: filename=nltk-3.4.5-cp36-none-any.whl size=1449904 sha256=c26ed5212a15692d191ccfbd8e57135592ed42ed46ca874494b6cfbe419de687\n",
            "  Stored in directory: /root/.cache/pip/wheels/96/86/f6/68ab24c23f207c0077381a5e3904b2815136b879538a24b483\n",
            "  Building wheel for overrides (setup.py) ... \u001b[?25l\u001b[?25hdone\n",
            "  Created wheel for overrides: filename=overrides-2.7.0-cp36-none-any.whl size=5600 sha256=6048c044f5dd326cc8c392e64554fcefa8d5524e1325946371f0c5e28dbe70d2\n",
            "  Stored in directory: /root/.cache/pip/wheels/8c/7c/ef/80508418b67d87371c5b3de49e03eb22ee7c1d19affb5099f8\n",
            "  Building wheel for starlette (setup.py) ... \u001b[?25l\u001b[?25hdone\n",
            "  Created wheel for starlette: filename=starlette-0.12.9-cp36-none-any.whl size=57245 sha256=1d80d49d3244e7892b8d29e4328ea6fc373d404c8dde46cc71749d75cb45f87c\n",
            "  Stored in directory: /root/.cache/pip/wheels/1c/51/5b/3828d52e185cafad941c4291b6f70894d0794be28c70addae5\n",
            "  Building wheel for httptools (setup.py) ... \u001b[?25l\u001b[?25hdone\n",
            "  Created wheel for httptools: filename=httptools-0.0.13-cp36-cp36m-linux_x86_64.whl size=212537 sha256=e77985e6bfb389044edf2b3419ace16d6bc5b7a95ac84c63fd076205ddf04cf5\n",
            "  Stored in directory: /root/.cache/pip/wheels/e8/3e/2e/013f99b42efc25cf3589730cf380738e46b1e5edaf2f78d525\n",
            "Successfully built pytelegrambotapi nltk overrides starlette httptools\n",
            "\u001b[31mERROR: google-colab 1.0.0 has requirement pandas~=1.0.0; python_version >= \"3.0\", but you'll have pandas 0.25.3 which is incompatible.\u001b[0m\n",
            "\u001b[31mERROR: google-colab 1.0.0 has requirement requests~=2.23.0, but you'll have requests 2.22.0 which is incompatible.\u001b[0m\n",
            "\u001b[31mERROR: en-core-web-sm 2.2.5 has requirement spacy>=2.2.2, but you'll have spacy 2.1.9 which is incompatible.\u001b[0m\n",
            "\u001b[31mERROR: datascience 0.10.6 has requirement folium==0.2.1, but you'll have folium 0.8.3 which is incompatible.\u001b[0m\n",
            "\u001b[31mERROR: albumentations 0.1.12 has requirement imgaug<0.2.7,>=0.2.5, but you'll have imgaug 0.2.9 which is incompatible.\u001b[0m\n",
            "Installing collected packages: tqdm, pydantic, starlette, fastapi, rusenttokenize, fuzzywuzzy, numpy, pandas, cryptography, pyopenssl, idna, requests, pytelegrambotapi, nltk, pamqp, multidict, yarl, aiormq, aio-pika, overrides, Cython, websockets, httptools, h11, uvloop, uvicorn, pymorphy2-dicts-ru, ruamel.yaml, scikit-learn, deeppavlov\n",
            "  Found existing installation: tqdm 4.38.0\n",
            "    Uninstalling tqdm-4.38.0:\n",
            "      Successfully uninstalled tqdm-4.38.0\n",
            "  Found existing installation: numpy 1.18.3\n",
            "    Uninstalling numpy-1.18.3:\n",
            "      Successfully uninstalled numpy-1.18.3\n",
            "  Found existing installation: pandas 1.0.3\n",
            "    Uninstalling pandas-1.0.3:\n",
            "      Successfully uninstalled pandas-1.0.3\n",
            "  Found existing installation: idna 2.9\n",
            "    Uninstalling idna-2.9:\n",
            "      Successfully uninstalled idna-2.9\n",
            "  Found existing installation: requests 2.23.0\n",
            "    Uninstalling requests-2.23.0:\n",
            "      Successfully uninstalled requests-2.23.0\n",
            "  Found existing installation: nltk 3.2.5\n",
            "    Uninstalling nltk-3.2.5:\n",
            "      Successfully uninstalled nltk-3.2.5\n",
            "  Found existing installation: overrides 2.8.0\n",
            "    Uninstalling overrides-2.8.0:\n",
            "      Successfully uninstalled overrides-2.8.0\n",
            "  Found existing installation: Cython 0.29.17\n",
            "    Uninstalling Cython-0.29.17:\n",
            "      Successfully uninstalled Cython-0.29.17\n",
            "  Found existing installation: scikit-learn 0.22.2.post1\n",
            "    Uninstalling scikit-learn-0.22.2.post1:\n",
            "      Successfully uninstalled scikit-learn-0.22.2.post1\n",
            "Successfully installed Cython-0.29.14 aio-pika-6.4.1 aiormq-3.2.2 cryptography-2.9.2 deeppavlov-0.9.1 fastapi-0.47.1 fuzzywuzzy-0.17.0 h11-0.9.0 httptools-0.0.13 idna-2.8 multidict-4.7.5 nltk-3.4.5 numpy-1.18.0 overrides-2.7.0 pamqp-2.3.0 pandas-0.25.3 pydantic-1.3 pymorphy2-dicts-ru-2.4.404381.4453942 pyopenssl-19.1.0 pytelegrambotapi-3.6.7 requests-2.22.0 ruamel.yaml-0.15.100 rusenttokenize-0.0.5 scikit-learn-0.21.2 starlette-0.12.9 tqdm-4.41.1 uvicorn-0.11.1 uvloop-0.14.0 websockets-8.1 yarl-1.4.2\n"
          ],
          "name": "stdout"
        },
        {
          "output_type": "display_data",
          "data": {
            "application/vnd.colab-display-data+json": {
              "pip_warning": {
                "packages": [
                  "idna",
                  "numpy",
                  "pandas",
                  "requests",
                  "tqdm"
                ]
              }
            }
          },
          "metadata": {
            "tags": []
          }
        }
      ]
    },
    {
      "cell_type": "code",
      "metadata": {
        "id": "3-Jxq8Swqnwk",
        "colab_type": "code",
        "outputId": "09613a8e-c428-4a14-ab4c-b126bc2e4a86",
        "colab": {
          "base_uri": "https://localhost:8080/",
          "height": 621
        }
      },
      "source": [
        "!pip install transformers"
      ],
      "execution_count": 0,
      "outputs": [
        {
          "output_type": "stream",
          "text": [
            "Collecting transformers\n",
            "\u001b[?25l  Downloading https://files.pythonhosted.org/packages/a3/78/92cedda05552398352ed9784908b834ee32a0bd071a9b32de287327370b7/transformers-2.8.0-py3-none-any.whl (563kB)\n",
            "\u001b[K     |████████████████████████████████| 573kB 2.6MB/s \n",
            "\u001b[?25hRequirement already satisfied: regex!=2019.12.17 in /usr/local/lib/python3.6/dist-packages (from transformers) (2019.12.20)\n",
            "Collecting sacremoses\n",
            "\u001b[?25l  Downloading https://files.pythonhosted.org/packages/7d/34/09d19aff26edcc8eb2a01bed8e98f13a1537005d31e95233fd48216eed10/sacremoses-0.0.43.tar.gz (883kB)\n",
            "\u001b[K     |████████████████████████████████| 890kB 8.1MB/s \n",
            "\u001b[?25hCollecting tokenizers==0.5.2\n",
            "\u001b[?25l  Downloading https://files.pythonhosted.org/packages/d1/3f/73c881ea4723e43c1e9acf317cf407fab3a278daab3a69c98dcac511c04f/tokenizers-0.5.2-cp36-cp36m-manylinux1_x86_64.whl (3.7MB)\n",
            "\u001b[K     |████████████████████████████████| 3.7MB 15.4MB/s \n",
            "\u001b[?25hRequirement already satisfied: tqdm>=4.27 in /usr/local/lib/python3.6/dist-packages (from transformers) (4.41.1)\n",
            "Requirement already satisfied: sentencepiece in /usr/local/lib/python3.6/dist-packages (from transformers) (0.1.86)\n",
            "Requirement already satisfied: filelock in /usr/local/lib/python3.6/dist-packages (from transformers) (3.0.12)\n",
            "Requirement already satisfied: numpy in /usr/local/lib/python3.6/dist-packages (from transformers) (1.18.0)\n",
            "Requirement already satisfied: dataclasses; python_version < \"3.7\" in /usr/local/lib/python3.6/dist-packages (from transformers) (0.7)\n",
            "Requirement already satisfied: requests in /usr/local/lib/python3.6/dist-packages (from transformers) (2.22.0)\n",
            "Requirement already satisfied: boto3 in /usr/local/lib/python3.6/dist-packages (from transformers) (1.13.1)\n",
            "Requirement already satisfied: six in /usr/local/lib/python3.6/dist-packages (from sacremoses->transformers) (1.12.0)\n",
            "Requirement already satisfied: click in /usr/local/lib/python3.6/dist-packages (from sacremoses->transformers) (7.1.2)\n",
            "Requirement already satisfied: joblib in /usr/local/lib/python3.6/dist-packages (from sacremoses->transformers) (0.14.1)\n",
            "Requirement already satisfied: idna<2.9,>=2.5 in /usr/local/lib/python3.6/dist-packages (from requests->transformers) (2.8)\n",
            "Requirement already satisfied: chardet<3.1.0,>=3.0.2 in /usr/local/lib/python3.6/dist-packages (from requests->transformers) (3.0.4)\n",
            "Requirement already satisfied: certifi>=2017.4.17 in /usr/local/lib/python3.6/dist-packages (from requests->transformers) (2020.4.5.1)\n",
            "Requirement already satisfied: urllib3!=1.25.0,!=1.25.1,<1.26,>=1.21.1 in /usr/local/lib/python3.6/dist-packages (from requests->transformers) (1.24.3)\n",
            "Requirement already satisfied: botocore<1.17.0,>=1.16.1 in /usr/local/lib/python3.6/dist-packages (from boto3->transformers) (1.16.1)\n",
            "Requirement already satisfied: jmespath<1.0.0,>=0.7.1 in /usr/local/lib/python3.6/dist-packages (from boto3->transformers) (0.9.5)\n",
            "Requirement already satisfied: s3transfer<0.4.0,>=0.3.0 in /usr/local/lib/python3.6/dist-packages (from boto3->transformers) (0.3.3)\n",
            "Requirement already satisfied: docutils<0.16,>=0.10 in /usr/local/lib/python3.6/dist-packages (from botocore<1.17.0,>=1.16.1->boto3->transformers) (0.15.2)\n",
            "Requirement already satisfied: python-dateutil<3.0.0,>=2.1 in /usr/local/lib/python3.6/dist-packages (from botocore<1.17.0,>=1.16.1->boto3->transformers) (2.8.1)\n",
            "Building wheels for collected packages: sacremoses\n",
            "  Building wheel for sacremoses (setup.py) ... \u001b[?25l\u001b[?25hdone\n",
            "  Created wheel for sacremoses: filename=sacremoses-0.0.43-cp36-none-any.whl size=893260 sha256=d445cf807a2177872f5bc542b7bdcfde6b1a6e7a9ca49c41fac5d9979841fe2c\n",
            "  Stored in directory: /root/.cache/pip/wheels/29/3c/fd/7ce5c3f0666dab31a50123635e6fb5e19ceb42ce38d4e58f45\n",
            "Successfully built sacremoses\n",
            "Installing collected packages: sacremoses, tokenizers, transformers\n",
            "Successfully installed sacremoses-0.0.43 tokenizers-0.5.2 transformers-2.8.0\n"
          ],
          "name": "stdout"
        }
      ]
    },
    {
      "cell_type": "markdown",
      "metadata": {
        "id": "K_B4hNIcJqD5",
        "colab_type": "text"
      },
      "source": [
        "### Imports and initializations"
      ]
    },
    {
      "cell_type": "code",
      "metadata": {
        "id": "8saZDaVN_cxX",
        "colab_type": "code",
        "colab": {}
      },
      "source": [
        "import numpy as np\n",
        "import os\n",
        "import pandas as pd\n",
        "import pymorphy2\n",
        "import pickle\n",
        "import re\n",
        "\n",
        "from allennlp.commands.elmo import ElmoEmbedder\n",
        "from deeppavlov.core.common.file import read_json\n",
        "from deeppavlov import build_model, configs\n",
        "from gensim.models import KeyedVectors\n",
        "from collections import Counter\n",
        "from pymystem3 import Mystem\n",
        "from sklearn.decomposition import TruncatedSVD\n",
        "from tqdm.notebook import tqdm"
      ],
      "execution_count": 0,
      "outputs": []
    },
    {
      "cell_type": "code",
      "metadata": {
        "id": "GErs4hnVI-Td",
        "colab_type": "code",
        "colab": {}
      },
      "source": [
        "mystem_analyzer = Mystem()\n",
        "morph=pymorphy2.MorphAnalyzer()\n",
        "tqdm.pandas()"
      ],
      "execution_count": 0,
      "outputs": []
    },
    {
      "cell_type": "code",
      "metadata": {
        "id": "G5sQEYpNasBL",
        "colab_type": "code",
        "colab": {}
      },
      "source": [
        "flatten = lambda l: [item for sublist in l for item in sublist]"
      ],
      "execution_count": 0,
      "outputs": []
    },
    {
      "cell_type": "markdown",
      "metadata": {
        "id": "7e3pxlY8QcNO",
        "colab_type": "text"
      },
      "source": [
        "### Preprocessing"
      ]
    },
    {
      "cell_type": "code",
      "metadata": {
        "id": "FnhA2c5bHfQZ",
        "colab_type": "code",
        "colab": {}
      },
      "source": [
        "def tokenize(text): \n",
        "  \"\"\"\n",
        "  cleans a text of punctuation and case\n",
        "  \n",
        "  :param text: str to be cleaned\n",
        "  :return: list of str (words) in lowercase and stripped of punctuation\n",
        "  \"\"\"\n",
        "  low = text.lower()\n",
        "  stripped = re.sub('«|»|„|“|!|\\.|,|#|$|%|\\\\|\\'|\\(|\\)|\\+|\\*|/|\\:|;|<|>|=|\\?|\\[|\\]|@|^|_|`|{|}|~', '', low)\n",
        "  words = stripped.split()\n",
        "  return words\n",
        "\n",
        "def lemmatize(words, method='mystem'):\n",
        "  \"\"\"\n",
        "  lemmatizes string using MyStem or PyMorphy\n",
        "  \n",
        "  :param words: list of str, words to be lemmatized\n",
        "  :param method: str, 'mystem' or 'pymorphy', method to be used, optional, default='mystem'\n",
        "  :return: list of str, lemmatized words (strings)\n",
        "  \"\"\"\n",
        "  if method == 'mystem':\n",
        "    return [mystem_analyzer.lemmatize(word)[0] for word in words]\n",
        "  else:\n",
        "    return [morph.parse(word)[0].normal_form for word in words]"
      ],
      "execution_count": 0,
      "outputs": []
    },
    {
      "cell_type": "code",
      "metadata": {
        "id": "WS7V_P-tJ61-",
        "colab_type": "code",
        "outputId": "16eba712-86bf-4ef1-ae78-e67c9ac6d5a0",
        "colab": {
          "base_uri": "https://localhost:8080/",
          "height": 50
        }
      },
      "source": [
        "ex_text = 'Я не думаю, что это заработает...'\n",
        "print(lemmatize(tokenize(ex_text)))\n",
        "print(lemmatize(tokenize(ex_text), method='pymorphy'))"
      ],
      "execution_count": 0,
      "outputs": [
        {
          "output_type": "stream",
          "text": [
            "['я', 'не', 'думать', 'что', 'это', 'зарабатывать']\n",
            "['я', 'не', 'думать', 'что', 'это', 'заработать']\n"
          ],
          "name": "stdout"
        }
      ]
    },
    {
      "cell_type": "markdown",
      "metadata": {
        "id": "jG0GWRwUUDXl",
        "colab_type": "text"
      },
      "source": [
        "# Load & preprocess dataset"
      ]
    },
    {
      "cell_type": "code",
      "metadata": {
        "id": "A1-aDIuoOKVG",
        "colab_type": "code",
        "outputId": "6dde7691-006e-4acf-a668-2584e6b8a32b",
        "colab": {
          "base_uri": "https://localhost:8080/",
          "height": 133
        }
      },
      "source": [
        "data = pd.read_csv('/content/drive/My Drive/studies/HSE/science/Schizophrenia_private/Schizo_НЦПЗ/Транскрипты/stories.csv', index_col=0)\n",
        "data.tail(2)"
      ],
      "execution_count": 0,
      "outputs": [
        {
          "output_type": "execute_result",
          "data": {
            "text/html": [
              "<div>\n",
              "<style scoped>\n",
              "    .dataframe tbody tr th:only-of-type {\n",
              "        vertical-align: middle;\n",
              "    }\n",
              "\n",
              "    .dataframe tbody tr th {\n",
              "        vertical-align: top;\n",
              "    }\n",
              "\n",
              "    .dataframe thead th {\n",
              "        text-align: right;\n",
              "    }\n",
              "</style>\n",
              "<table border=\"1\" class=\"dataframe\">\n",
              "  <thead>\n",
              "    <tr style=\"text-align: right;\">\n",
              "      <th></th>\n",
              "      <th>child</th>\n",
              "      <th>gift</th>\n",
              "      <th>suit</th>\n",
              "      <th>chair</th>\n",
              "    </tr>\n",
              "    <tr>\n",
              "      <th>ID</th>\n",
              "      <th></th>\n",
              "      <th></th>\n",
              "      <th></th>\n",
              "      <th></th>\n",
              "    </tr>\n",
              "  </thead>\n",
              "  <tbody>\n",
              "    <tr>\n",
              "      <th>S20</th>\n",
              "      <td>//на этой на коляс=   ·  о(0.3)  ·  //на этой ...</td>\n",
              "      <td>//вот ну мне моя девушка испекла торт  ·  (0.8...</td>\n",
              "      <td>//ну значит был человек  ·  /который очень сте...</td>\n",
              "      <td>//вот ну в начале делаются ну по бокам ножки  ...</td>\n",
              "    </tr>\n",
              "    <tr>\n",
              "      <th>S21</th>\n",
              "      <td>//ну началось с того  ·  /что малыш с мамой с ...</td>\n",
              "      <td>NaN</td>\n",
              "      <td>//ну здесь встретились два мужчины  ·  //один ...</td>\n",
              "      <td>NaN</td>\n",
              "    </tr>\n",
              "  </tbody>\n",
              "</table>\n",
              "</div>"
            ],
            "text/plain": [
              "                                                 child  ...                                              chair\n",
              "ID                                                      ...                                                   \n",
              "S20  //на этой на коляс=   ·  о(0.3)  ·  //на этой ...  ...  //вот ну в начале делаются ну по бокам ножки  ...\n",
              "S21  //ну началось с того  ·  /что малыш с мамой с ...  ...                                                NaN\n",
              "\n",
              "[2 rows x 4 columns]"
            ]
          },
          "metadata": {
            "tags": []
          },
          "execution_count": 86
        }
      ]
    },
    {
      "cell_type": "code",
      "metadata": {
        "id": "lOmF_cCg1CDE",
        "colab_type": "code",
        "colab": {}
      },
      "source": [
        "def preprocess_raw_elan(text):\n",
        "  if pd.isnull(text):\n",
        "    return pd.Series((np.nan, np.nan, np.nan))\n",
        "  if not text.startswith('//'):\n",
        "    text = '//' + text.split('//', 1)[1]\n",
        "  utt_num = len(text.split('//'))\n",
        "  text = text.replace('//', '/')\n",
        "  text = text.replace('ё', 'е')\n",
        "  text = text.replace('  ·  ', ' ')\n",
        "  text = re.sub('[а-я]*\\([0-9]+(.[0-9])?\\)', '', text)\n",
        "  text = re.sub('[а-я]+=|\\*[а-я]+', '',  text)\n",
        "  text = re.sub('\\(exp:.+?\\)', ' ', text)\n",
        "  text = re.sub('\\s+', ' ', text)\n",
        "  edus = text.split('/')\n",
        "  edu_num = len(edus)\n",
        "  return pd.Series(([edu.split() for edu in edus if edu], utt_num, edu_num))"
      ],
      "execution_count": 0,
      "outputs": []
    },
    {
      "cell_type": "code",
      "metadata": {
        "id": "rnF8yXYSUeWt",
        "colab_type": "code",
        "outputId": "1ae03d0c-8220-4b3d-ad34-92b955b5729e",
        "colab": {
          "base_uri": "https://localhost:8080/",
          "height": 212,
          "referenced_widgets": [
            "7763894f3321475c8afabead5614a5c8",
            "25a2dd994bc342d290912d73921d3fbc",
            "97fb37a7df9042518aed6281890d4da7",
            "629e905884884b4ca0bc3a434c46f272",
            "387bbf495a44420b86a76b9f05323e16",
            "d574752021784bd793616548af097301",
            "14382a99823d4af999c0eab394a5e9d0",
            "6bc1067c57134e88862e237713833f0c",
            "340400805f1f43059126d97d056bb6db",
            "5ae661108df4449080e03738ce109ab9",
            "02300a3f72304b43b39d0cceed9a3dc8",
            "206e4c65ccaf460ea3de2a33059a6e20",
            "71407d36e3ac4d97a220c7e807bc7249",
            "5eefbfebd1ab429aab186217e801fee0",
            "318081c86ec6498592b9a881e7b57ae1",
            "53d148d9bec1464eb9438f9f4765a1f7",
            "976562d8cfd34ce5b1153181e0aeb2fb",
            "ce0838c120c24e10a80e7abf7467b0c0",
            "eaf945053d2540b9b9c8476f1e931af8",
            "ffac209e9ccb46fe914724247b81f359",
            "ec81ec36ef80447eae9779a8707e5c43",
            "86264b1751a04fdf88412c80b524c99b",
            "fb1f61e60e5440958606eb3420945ea8",
            "72f0ce3a6e284ea39d937c133b49de07",
            "af464df2238a4ca2845eef8c20826e3c",
            "0abb226e09334660b2b8a78acccf720f",
            "f3dbb046fd1a4e3e9bebb5909dfce871",
            "471af56eab1d4a51a39c91ad9fee30fb",
            "57b8def35dea420aa0ba3455ec2926f4",
            "f660a6a7b7f34eb98d5d66b3d5cb9ce6",
            "10fa1c76fff14f1e8861e5a9c4dcfa6d",
            "9708213a4ed3496395e5c43f83bdbf2f"
          ]
        }
      },
      "source": [
        "tests = ['child', 'chair', 'gift', 'suit']\n",
        "for col in tests:\n",
        "  to_add = data[col].progress_apply(preprocess_raw_elan)\n",
        "  to_add.columns = [f'{col}_edus', f'{col}_utt_num', f'{col}_edu_num']\n",
        "  data = pd.concat([data, to_add], axis=1)"
      ],
      "execution_count": 0,
      "outputs": [
        {
          "output_type": "display_data",
          "data": {
            "application/vnd.jupyter.widget-view+json": {
              "model_id": "7763894f3321475c8afabead5614a5c8",
              "version_minor": 0,
              "version_major": 2
            },
            "text/plain": [
              "HBox(children=(FloatProgress(value=0.0, max=41.0), HTML(value='')))"
            ]
          },
          "metadata": {
            "tags": []
          }
        },
        {
          "output_type": "stream",
          "text": [
            "\n"
          ],
          "name": "stdout"
        },
        {
          "output_type": "display_data",
          "data": {
            "application/vnd.jupyter.widget-view+json": {
              "model_id": "340400805f1f43059126d97d056bb6db",
              "version_minor": 0,
              "version_major": 2
            },
            "text/plain": [
              "HBox(children=(FloatProgress(value=0.0, max=41.0), HTML(value='')))"
            ]
          },
          "metadata": {
            "tags": []
          }
        },
        {
          "output_type": "stream",
          "text": [
            "\n"
          ],
          "name": "stdout"
        },
        {
          "output_type": "display_data",
          "data": {
            "application/vnd.jupyter.widget-view+json": {
              "model_id": "976562d8cfd34ce5b1153181e0aeb2fb",
              "version_minor": 0,
              "version_major": 2
            },
            "text/plain": [
              "HBox(children=(FloatProgress(value=0.0, max=41.0), HTML(value='')))"
            ]
          },
          "metadata": {
            "tags": []
          }
        },
        {
          "output_type": "stream",
          "text": [
            "\n"
          ],
          "name": "stdout"
        },
        {
          "output_type": "display_data",
          "data": {
            "application/vnd.jupyter.widget-view+json": {
              "model_id": "af464df2238a4ca2845eef8c20826e3c",
              "version_minor": 0,
              "version_major": 2
            },
            "text/plain": [
              "HBox(children=(FloatProgress(value=0.0, max=41.0), HTML(value='')))"
            ]
          },
          "metadata": {
            "tags": []
          }
        },
        {
          "output_type": "stream",
          "text": [
            "\n"
          ],
          "name": "stdout"
        }
      ]
    },
    {
      "cell_type": "code",
      "metadata": {
        "id": "VSCRKGAvEjI3",
        "colab_type": "code",
        "outputId": "74ba5f85-ff44-4234-b012-e9e87c988233",
        "colab": {
          "base_uri": "https://localhost:8080/",
          "height": 572
        }
      },
      "source": [
        "data.tail()"
      ],
      "execution_count": 0,
      "outputs": [
        {
          "output_type": "execute_result",
          "data": {
            "text/html": [
              "<div>\n",
              "<style scoped>\n",
              "    .dataframe tbody tr th:only-of-type {\n",
              "        vertical-align: middle;\n",
              "    }\n",
              "\n",
              "    .dataframe tbody tr th {\n",
              "        vertical-align: top;\n",
              "    }\n",
              "\n",
              "    .dataframe thead th {\n",
              "        text-align: right;\n",
              "    }\n",
              "</style>\n",
              "<table border=\"1\" class=\"dataframe\">\n",
              "  <thead>\n",
              "    <tr style=\"text-align: right;\">\n",
              "      <th></th>\n",
              "      <th>child</th>\n",
              "      <th>gift</th>\n",
              "      <th>suit</th>\n",
              "      <th>chair</th>\n",
              "      <th>child_edus</th>\n",
              "      <th>child_utt_num</th>\n",
              "      <th>child_edu_num</th>\n",
              "      <th>chair_edus</th>\n",
              "      <th>chair_utt_num</th>\n",
              "      <th>chair_edu_num</th>\n",
              "      <th>gift_edus</th>\n",
              "      <th>gift_utt_num</th>\n",
              "      <th>gift_edu_num</th>\n",
              "      <th>suit_edus</th>\n",
              "      <th>suit_utt_num</th>\n",
              "      <th>suit_edu_num</th>\n",
              "    </tr>\n",
              "    <tr>\n",
              "      <th>ID</th>\n",
              "      <th></th>\n",
              "      <th></th>\n",
              "      <th></th>\n",
              "      <th></th>\n",
              "      <th></th>\n",
              "      <th></th>\n",
              "      <th></th>\n",
              "      <th></th>\n",
              "      <th></th>\n",
              "      <th></th>\n",
              "      <th></th>\n",
              "      <th></th>\n",
              "      <th></th>\n",
              "      <th></th>\n",
              "      <th></th>\n",
              "      <th></th>\n",
              "    </tr>\n",
              "  </thead>\n",
              "  <tbody>\n",
              "    <tr>\n",
              "      <th>S17</th>\n",
              "      <td>//ну на первой  ·  (0.4)  ·  э(0.3)  ·  строчк...</td>\n",
              "      <td>//ну  ·  (10.9)  ·  ну наверное это серьги  · ...</td>\n",
              "      <td>//а здесь вот  ·  (0.7)  ·  один грозный мужчи...</td>\n",
              "      <td>э(0.6)  ·  (3.2)  ·  //нужно взять стул  ·  (0...</td>\n",
              "      <td>[[ну, на, первой, строчке, происходит, то], [ч...</td>\n",
              "      <td>12</td>\n",
              "      <td>18</td>\n",
              "      <td>[[нужно, взять, стул, его, часть, и, табуретку...</td>\n",
              "      <td>12.0</td>\n",
              "      <td>14.0</td>\n",
              "      <td>[[ну, ну, наверное, это, серьги], [которые, по...</td>\n",
              "      <td>4.0</td>\n",
              "      <td>6.0</td>\n",
              "      <td>[[а, здесь, вот, один, грозный, мужчина, и, др...</td>\n",
              "      <td>11.0</td>\n",
              "      <td>13.0</td>\n",
              "    </tr>\n",
              "    <tr>\n",
              "      <th>S18</th>\n",
              "      <td>э(0.5)  ·  //на этой картинке  ·  (0.7)  ·  э(...</td>\n",
              "      <td>//ну  ·  (0.6)  ·  я могу рассказать о подарке...</td>\n",
              "      <td>//мужчина видит прохожего мужчину  ·  (2.8)  ·...</td>\n",
              "      <td>//так на первой картинке изображено  ·  /как с...</td>\n",
              "      <td>[[на, этой, картинке, бабушка, или, мама, гово...</td>\n",
              "      <td>17</td>\n",
              "      <td>20</td>\n",
              "      <td>[[так, на, первой, картинке, изображено], [как...</td>\n",
              "      <td>18.0</td>\n",
              "      <td>30.0</td>\n",
              "      <td>[[ну, я, могу, рассказать, о, подарке, в, каче...</td>\n",
              "      <td>66.0</td>\n",
              "      <td>87.0</td>\n",
              "      <td>[[мужчина, видит, прохожего, мужчину], [мужчин...</td>\n",
              "      <td>17.0</td>\n",
              "      <td>17.0</td>\n",
              "    </tr>\n",
              "    <tr>\n",
              "      <th>S19</th>\n",
              "      <td>эх(0.5)  ·  //сейчас посмотрим  ·  (2.0)  ·  м...</td>\n",
              "      <td>//привет меня зовут  ·  //меня звух так барвсе...</td>\n",
              "      <td>//идет  ·  э(0.2)  ·  здоровый мужик  ·  э=  ·...</td>\n",
              "      <td>//сначала *сначала что там идёт не понятно воо...</td>\n",
              "      <td>[[сейчас, посмотрим], [в, общем, папа, пошел, ...</td>\n",
              "      <td>19</td>\n",
              "      <td>20</td>\n",
              "      <td>[[сначала, что, там, идет, не, понятно, вообще...</td>\n",
              "      <td>24.0</td>\n",
              "      <td>33.0</td>\n",
              "      <td>[[привет, меня, зовут], [меня, звух, так, барв...</td>\n",
              "      <td>12.0</td>\n",
              "      <td>13.0</td>\n",
              "      <td>[[идет, здоровый, мужик, качок], [хочет, заста...</td>\n",
              "      <td>19.0</td>\n",
              "      <td>19.0</td>\n",
              "    </tr>\n",
              "    <tr>\n",
              "      <th>S20</th>\n",
              "      <td>//на этой на коляс=   ·  о(0.3)  ·  //на этой ...</td>\n",
              "      <td>//вот ну мне моя девушка испекла торт  ·  (0.8...</td>\n",
              "      <td>//ну значит был человек  ·  /который очень сте...</td>\n",
              "      <td>//вот ну в начале делаются ну по бокам ножки  ...</td>\n",
              "      <td>[[на, этой, на], [на, этой, странице, видно], ...</td>\n",
              "      <td>14</td>\n",
              "      <td>19</td>\n",
              "      <td>[[вот, ну, в, начале, делаются, ну, по, бокам,...</td>\n",
              "      <td>11.0</td>\n",
              "      <td>13.0</td>\n",
              "      <td>[[вот, ну, мне, моя, девушка, испекла, торт, о...</td>\n",
              "      <td>4.0</td>\n",
              "      <td>4.0</td>\n",
              "      <td>[[ну, значит, был, человек], [который, очень, ...</td>\n",
              "      <td>8.0</td>\n",
              "      <td>14.0</td>\n",
              "    </tr>\n",
              "    <tr>\n",
              "      <th>S21</th>\n",
              "      <td>//ну началось с того  ·  /что малыш с мамой с ...</td>\n",
              "      <td>NaN</td>\n",
              "      <td>//ну здесь встретились два мужчины  ·  //один ...</td>\n",
              "      <td>NaN</td>\n",
              "      <td>[[ну, началось, с, того], [что, малыш, с, мамо...</td>\n",
              "      <td>31</td>\n",
              "      <td>41</td>\n",
              "      <td>NaN</td>\n",
              "      <td>NaN</td>\n",
              "      <td>NaN</td>\n",
              "      <td>NaN</td>\n",
              "      <td>NaN</td>\n",
              "      <td>NaN</td>\n",
              "      <td>[[ну, здесь, встретились, два, мужчины], [один...</td>\n",
              "      <td>16.0</td>\n",
              "      <td>20.0</td>\n",
              "    </tr>\n",
              "  </tbody>\n",
              "</table>\n",
              "</div>"
            ],
            "text/plain": [
              "                                                 child  ... suit_edu_num\n",
              "ID                                                      ...             \n",
              "S17  //ну на первой  ·  (0.4)  ·  э(0.3)  ·  строчк...  ...         13.0\n",
              "S18  э(0.5)  ·  //на этой картинке  ·  (0.7)  ·  э(...  ...         17.0\n",
              "S19  эх(0.5)  ·  //сейчас посмотрим  ·  (2.0)  ·  м...  ...         19.0\n",
              "S20  //на этой на коляс=   ·  о(0.3)  ·  //на этой ...  ...         14.0\n",
              "S21  //ну началось с того  ·  /что малыш с мамой с ...  ...         20.0\n",
              "\n",
              "[5 rows x 16 columns]"
            ]
          },
          "metadata": {
            "tags": []
          },
          "execution_count": 89
        }
      ]
    },
    {
      "cell_type": "code",
      "metadata": {
        "id": "wL4Z2bZLEnlH",
        "colab_type": "code",
        "outputId": "514a6dec-6f61-4941-9efb-f83cecc69ced",
        "colab": {
          "base_uri": "https://localhost:8080/",
          "height": 212,
          "referenced_widgets": [
            "422ccc3997e847529e9ad011bc468256",
            "6493c6d8c796453c9b4fe286f1627a78",
            "25300899730d40418fd85c58d1b1615d",
            "72687c23154a4e3fa952fd85d33cecaf",
            "3b7bf746137642baa46b28cc40b4e3c8",
            "bef20fcfea1c436ab6df869411ff90a7",
            "cd78720c98d640659e5eeb39ac711450",
            "d1434fdf21d8485d90a0679d41642eff",
            "7cba0b8f1ac744c69217191f941d7e10",
            "89c68c7bfd78467499d44bb474f65575",
            "f222a9ee5f4b4105801c5fdbcc066f3c",
            "b623001b89524d6380892ce1528a8bf7",
            "98f8af1be4b84427b6d1553d875921e1",
            "56189a0f119d41b6a089f878b4280237",
            "79e42b76db424dd3a49148897c42e7c5",
            "669c30ed5e9547c192cf8a664b576332",
            "9c85ddbbf6a54de0b79c048d1728c0d6",
            "8dc1b85484014e5f8e6cf45b070ceb75",
            "ed7db763f64b4388b5e73bebda68fef4",
            "936ec489002046e2bea21e10d69b0efc",
            "674eb85b3d34488dacffb761c656b8ca",
            "9d21add1a93a4596a4b41b296c2436ea",
            "cd0d5f666a3346d5a72e3b8e45443ea6",
            "043700b74cb5481f825bcf9e5ad7a8ad",
            "396e3d96c80d4346904a4f3ff4955c9b",
            "f7eea5da1c89440589266ea27c715087",
            "a249392245c34e8dbd9ed784c2684af2",
            "c08e29ecf64842629c848402b37ff440",
            "c5e9279ec8e44eb9b5087e453e638828",
            "29ef590e0ab8414ba7246a8178578f97",
            "45ed1b76d36c47418bdf7d13711497ee",
            "0ec770aa5e99404384e8d0aeb62b1651"
          ]
        }
      },
      "source": [
        "for col in tests:\n",
        "  data[f'{col}_lemmas'] = data[f'{col}_edus'][~pd.isnull(data[f'{col}_edus'])].progress_apply(lambda edus: [lemmatize(edu, method='pymorphy') for edu in edus])"
      ],
      "execution_count": 0,
      "outputs": [
        {
          "output_type": "display_data",
          "data": {
            "application/vnd.jupyter.widget-view+json": {
              "model_id": "422ccc3997e847529e9ad011bc468256",
              "version_minor": 0,
              "version_major": 2
            },
            "text/plain": [
              "HBox(children=(FloatProgress(value=0.0, max=41.0), HTML(value='')))"
            ]
          },
          "metadata": {
            "tags": []
          }
        },
        {
          "output_type": "stream",
          "text": [
            "\n"
          ],
          "name": "stdout"
        },
        {
          "output_type": "display_data",
          "data": {
            "application/vnd.jupyter.widget-view+json": {
              "model_id": "7cba0b8f1ac744c69217191f941d7e10",
              "version_minor": 0,
              "version_major": 2
            },
            "text/plain": [
              "HBox(children=(FloatProgress(value=0.0, max=35.0), HTML(value='')))"
            ]
          },
          "metadata": {
            "tags": []
          }
        },
        {
          "output_type": "stream",
          "text": [
            "\n"
          ],
          "name": "stdout"
        },
        {
          "output_type": "display_data",
          "data": {
            "application/vnd.jupyter.widget-view+json": {
              "model_id": "9c85ddbbf6a54de0b79c048d1728c0d6",
              "version_minor": 0,
              "version_major": 2
            },
            "text/plain": [
              "HBox(children=(FloatProgress(value=0.0, max=35.0), HTML(value='')))"
            ]
          },
          "metadata": {
            "tags": []
          }
        },
        {
          "output_type": "stream",
          "text": [
            "\n"
          ],
          "name": "stdout"
        },
        {
          "output_type": "display_data",
          "data": {
            "application/vnd.jupyter.widget-view+json": {
              "model_id": "396e3d96c80d4346904a4f3ff4955c9b",
              "version_minor": 0,
              "version_major": 2
            },
            "text/plain": [
              "HBox(children=(FloatProgress(value=0.0, max=38.0), HTML(value='')))"
            ]
          },
          "metadata": {
            "tags": []
          }
        },
        {
          "output_type": "stream",
          "text": [
            "\n"
          ],
          "name": "stdout"
        }
      ]
    },
    {
      "cell_type": "code",
      "metadata": {
        "id": "Y2Tp7nOTE3n_",
        "colab_type": "code",
        "colab": {}
      },
      "source": [
        "data[['child_utt_num', 'child_edu_num', 'chair_utt_num', 'chair_edu_num', 'gift_utt_num', 'gift_edu_num', 'suit_utt_num', 'suit_edu_num']].to_csv('/content/drive/My Drive/studies/HSE/science/Schizophrenia_private/Schizo_НЦПЗ/Транскрипты/EDU_NUM.csv')"
      ],
      "execution_count": 0,
      "outputs": []
    },
    {
      "cell_type": "code",
      "metadata": {
        "id": "PuNTbF1xJ-ae",
        "colab_type": "code",
        "colab": {}
      },
      "source": [
        "for col in tests:\n",
        "  data[f'{col}_mean_edu_len'] = data[f'{col}_edus'][~pd.isnull(data[f'{col}_edus'])].apply(lambda edus: np.mean([len(edu) for edu in edus]))\n",
        "  data[f'{col}_min_edu_len'] = data[f'{col}_edus'][~pd.isnull(data[f'{col}_edus'])].apply(lambda edus: min([len(edu) for edu in edus]))\n",
        "  data[f'{col}_max_edu_len'] = data[f'{col}_edus'][~pd.isnull(data[f'{col}_edus'])].apply(lambda edus: max([len(edu) for edu in edus]))\n",
        "  data[f'{col}_word_count'] = data[f'{col}_edus'][~pd.isnull(data[f'{col}_edus'])].apply(lambda edus: np.sum([len(edu) for edu in edus]))"
      ],
      "execution_count": 0,
      "outputs": []
    },
    {
      "cell_type": "code",
      "metadata": {
        "id": "63b3MsWhMVS1",
        "colab_type": "code",
        "colab": {}
      },
      "source": [
        "names = 'child_mean_edu_len\tchild_min_edu_len\tchild_max_edu_len\tchild_word_count\tchair_mean_edu_len\tchair_min_edu_len\tchair_max_edu_len\tchair_word_count\tgift_mean_edu_len\tgift_min_edu_len\tgift_max_edu_len\tgift_word_count\tsuit_mean_edu_len\tsuit_min_edu_len\tsuit_max_edu_len\tsuit_word_count'.split()\n",
        "data[names].to_csv('/content/drive/My Drive/studies/HSE/science/Schizophrenia_private/Schizo_НЦПЗ/Транскрипты/NUM.csv')"
      ],
      "execution_count": 0,
      "outputs": []
    },
    {
      "cell_type": "markdown",
      "metadata": {
        "id": "iq0ZiM4FQlzO",
        "colab_type": "text"
      },
      "source": [
        "# Sentence embeddings from vector embeddings\n",
        "[A SIMPLE BUT TOUGH-TO-BEAT BASELINE FOR SENTENCE EMBEDDINGS](https://openreview.net/pdf?id=SyK00v5xx)\n",
        "\n",
        "[their repo](https://github.com/PrincetonML/SIF/blob/master/src/SIF_embedding.py)\n",
        "\n",
        "![image.png](data:image/png;base64,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)"
      ]
    },
    {
      "cell_type": "markdown",
      "metadata": {
        "id": "pEft8qWfVIYM",
        "colab_type": "text"
      },
      "source": [
        "a = $10^{-3}$ or $10^{-4}$\n",
        "\n",
        "p(w) - raw count in a large corpus"
      ]
    },
    {
      "cell_type": "markdown",
      "metadata": {
        "id": "z2vgv8uYsXtF",
        "colab_type": "text"
      },
      "source": [
        "### Frequencies"
      ]
    },
    {
      "cell_type": "code",
      "metadata": {
        "id": "pSCRmhzfsaLF",
        "colab_type": "code",
        "colab": {}
      },
      "source": [
        "with open('word_freq.pickle', 'rb') as f:\n",
        "  word_freq = pickle.load(f)"
      ],
      "execution_count": 0,
      "outputs": []
    },
    {
      "cell_type": "code",
      "metadata": {
        "id": "aJjhB2fktbJH",
        "colab_type": "code",
        "outputId": "69875cf2-ce33-4093-cf80-7254f71d32eb",
        "colab": {
          "base_uri": "https://localhost:8080/",
          "height": 33
        }
      },
      "source": [
        "word_freq['я']"
      ],
      "execution_count": 0,
      "outputs": [
        {
          "output_type": "execute_result",
          "data": {
            "text/plain": [
              "13405856"
            ]
          },
          "metadata": {
            "tags": []
          },
          "execution_count": 96
        }
      ]
    },
    {
      "cell_type": "code",
      "metadata": {
        "id": "HsH4ypKOt3wA",
        "colab_type": "code",
        "outputId": "a2e98eb6-1aac-43e0-bc70-7dc78b356d5d",
        "colab": {
          "base_uri": "https://localhost:8080/",
          "height": 33
        }
      },
      "source": [
        "corpus_size = sum(word_freq.values()) \n",
        "corpus_size"
      ],
      "execution_count": 0,
      "outputs": [
        {
          "output_type": "execute_result",
          "data": {
            "text/plain": [
              "1296570215"
            ]
          },
          "metadata": {
            "tags": []
          },
          "execution_count": 97
        }
      ]
    },
    {
      "cell_type": "code",
      "metadata": {
        "id": "2dmZ9E3_uv_v",
        "colab_type": "code",
        "colab": {}
      },
      "source": [
        "def ipm(counter, word, corpus_size):\n",
        "  return counter[word]/ (corpus_size/1000000)"
      ],
      "execution_count": 0,
      "outputs": []
    },
    {
      "cell_type": "code",
      "metadata": {
        "id": "uBkxeAY3t7nO",
        "colab_type": "code",
        "outputId": "4199cc19-659c-48a1-9da0-82812e937ee5",
        "colab": {
          "base_uri": "https://localhost:8080/",
          "height": 33
        }
      },
      "source": [
        "ipm(word_freq, 'я', corpus_size)"
      ],
      "execution_count": 0,
      "outputs": [
        {
          "output_type": "execute_result",
          "data": {
            "text/plain": [
              "10339.47552157829"
            ]
          },
          "metadata": {
            "tags": []
          },
          "execution_count": 99
        }
      ]
    },
    {
      "cell_type": "code",
      "metadata": {
        "id": "Ia9m6BZ8UwrK",
        "colab_type": "code",
        "colab": {}
      },
      "source": [
        "freqs = {word:ipm(word_freq, word, corpus_size) for word in word_freq}"
      ],
      "execution_count": 0,
      "outputs": []
    },
    {
      "cell_type": "code",
      "metadata": {
        "id": "tg18Y2Tqc0BL",
        "colab_type": "code",
        "outputId": "e2afae70-deba-4ccf-e447-a28921040985",
        "colab": {
          "base_uri": "https://localhost:8080/",
          "height": 33
        }
      },
      "source": [
        "freqs['я']"
      ],
      "execution_count": 0,
      "outputs": [
        {
          "output_type": "execute_result",
          "data": {
            "text/plain": [
              "10339.47552157829"
            ]
          },
          "metadata": {
            "tags": []
          },
          "execution_count": 102
        }
      ]
    },
    {
      "cell_type": "code",
      "metadata": {
        "id": "jQJBNiHpdFCG",
        "colab_type": "code",
        "colab": {}
      },
      "source": [
        "freqs = Counter(freqs)"
      ],
      "execution_count": 0,
      "outputs": []
    },
    {
      "cell_type": "code",
      "metadata": {
        "id": "Anle1CqRVLpQ",
        "colab_type": "code",
        "colab": {}
      },
      "source": [
        "def smooth(freq, factor=10e-3):\n",
        "  return factor / (factor + freq)"
      ],
      "execution_count": 0,
      "outputs": []
    },
    {
      "cell_type": "code",
      "metadata": {
        "id": "mgupf_PHVt3h",
        "colab_type": "code",
        "outputId": "47fa6bfa-9649-4535-ed6d-0aa40ad5c765",
        "colab": {
          "base_uri": "https://localhost:8080/",
          "height": 33
        }
      },
      "source": [
        "smooth(freqs['я'])"
      ],
      "execution_count": 0,
      "outputs": [
        {
          "output_type": "execute_result",
          "data": {
            "text/plain": [
              "9.671661108408353e-07"
            ]
          },
          "metadata": {
            "tags": []
          },
          "execution_count": 105
        }
      ]
    },
    {
      "cell_type": "code",
      "metadata": {
        "id": "020-cX_9dQmi",
        "colab_type": "code",
        "outputId": "cb5294f2-678b-4be5-bd43-90719d8efcf5",
        "colab": {
          "base_uri": "https://localhost:8080/",
          "height": 33
        }
      },
      "source": [
        "smooth(word_freq['я'])"
      ],
      "execution_count": 0,
      "outputs": [
        {
          "output_type": "execute_result",
          "data": {
            "text/plain": [
              "7.459426680803205e-10"
            ]
          },
          "metadata": {
            "tags": []
          },
          "execution_count": 199
        }
      ]
    },
    {
      "cell_type": "markdown",
      "metadata": {
        "id": "Rhxd4dxyRLmZ",
        "colab_type": "text"
      },
      "source": [
        "## get w2v embeddings"
      ]
    },
    {
      "cell_type": "code",
      "metadata": {
        "id": "ILOo3DErzt4n",
        "colab_type": "code",
        "outputId": "3c687577-7858-447b-bc17-92d900a55f0b",
        "colab": {
          "base_uri": "https://localhost:8080/",
          "height": 201
        }
      },
      "source": [
        "!wget http://vectors.nlpl.eu/repository/20/187.zip"
      ],
      "execution_count": 0,
      "outputs": [
        {
          "output_type": "stream",
          "text": [
            "--2020-05-06 16:44:22--  http://vectors.nlpl.eu/repository/20/187.zip\n",
            "Resolving vectors.nlpl.eu (vectors.nlpl.eu)... 129.240.189.225\n",
            "Connecting to vectors.nlpl.eu (vectors.nlpl.eu)|129.240.189.225|:80... connected.\n",
            "HTTP request sent, awaiting response... 200 OK\n",
            "Length: 2692389554 (2.5G) [application/zip]\n",
            "Saving to: ‘187.zip’\n",
            "\n",
            "187.zip             100%[===================>]   2.51G  9.65MB/s    in 4m 42s  \n",
            "\n",
            "2020-05-06 16:49:06 (9.10 MB/s) - ‘187.zip’ saved [2692389554/2692389554]\n",
            "\n"
          ],
          "name": "stdout"
        }
      ]
    },
    {
      "cell_type": "code",
      "metadata": {
        "id": "WNcXHtJQkso3",
        "colab_type": "code",
        "outputId": "c48420c0-b571-4844-f0f7-1ba3c29f99e7",
        "colab": {
          "base_uri": "https://localhost:8080/",
          "height": 134
        }
      },
      "source": [
        "!unzip 187.zip -d /187"
      ],
      "execution_count": 0,
      "outputs": [
        {
          "output_type": "stream",
          "text": [
            "Archive:  187.zip\n",
            "  inflating: /187/meta.json          \n",
            "  inflating: /187/model.model        \n",
            "  inflating: /187/model.model.vectors_ngrams.npy  \n",
            "  inflating: /187/model.model.vectors.npy  \n",
            "  inflating: /187/model.model.vectors_vocab.npy  \n",
            "  inflating: /187/README             \n"
          ],
          "name": "stdout"
        }
      ]
    },
    {
      "cell_type": "code",
      "metadata": {
        "id": "dOoHSwBIk0_T",
        "colab_type": "code",
        "outputId": "9f4cabaf-2958-42b0-a073-d537c833593f",
        "colab": {
          "base_uri": "https://localhost:8080/",
          "height": 70
        }
      },
      "source": [
        "wv = KeyedVectors.load('/187/model.model')"
      ],
      "execution_count": 0,
      "outputs": [
        {
          "output_type": "stream",
          "text": [
            "/usr/local/lib/python3.6/dist-packages/smart_open/smart_open_lib.py:253: UserWarning: This function is deprecated, use smart_open.open instead. See the migration notes for details: https://github.com/RaRe-Technologies/smart_open/blob/master/README.rst#migrating-to-the-new-open-function\n",
            "  'See the migration notes for details: %s' % _MIGRATION_NOTES_URL\n"
          ],
          "name": "stderr"
        }
      ]
    },
    {
      "cell_type": "code",
      "metadata": {
        "id": "KT2Vk24-lT2J",
        "colab_type": "code",
        "outputId": "8ec28fa6-ea7e-481a-b500-d57f4587976c",
        "colab": {
          "base_uri": "https://localhost:8080/",
          "height": 67
        }
      },
      "source": [
        "wv['вошь'][-10:]"
      ],
      "execution_count": 0,
      "outputs": [
        {
          "output_type": "execute_result",
          "data": {
            "text/plain": [
              "array([-0.78309405,  4.2954803 ,  1.9717869 ,  6.6264105 , -3.0730708 ,\n",
              "        0.61173576,  2.7075362 ,  3.0496023 , -0.03352385,  3.0363846 ],\n",
              "      dtype=float32)"
            ]
          },
          "metadata": {
            "tags": []
          },
          "execution_count": 112
        }
      ]
    },
    {
      "cell_type": "code",
      "metadata": {
        "id": "D9rJwJFRlUTX",
        "colab_type": "code",
        "colab": {}
      },
      "source": [
        "oov_list = []\n",
        "oov_bad = []\n",
        "total = 0\n",
        "def get_edus_vectors(edus, model, idfs, oov_list, oov_bad):\n",
        "    if type(edus) != list:\n",
        "      return np.nan\n",
        "    edus_vectors = []\n",
        "    for edu in edus:\n",
        "        edu_vect_array = []\n",
        "        edu_idf_array = []\n",
        "        for word in edu:\n",
        "            global total\n",
        "            total += 1\n",
        "            try:\n",
        "                vect = model[word]\n",
        "                idf = smooth(idfs[word])\n",
        "            except KeyError:\n",
        "                oov_list.append(word)\n",
        "                continue\n",
        "            except AttributeError as e:\n",
        "              oov_bad.append(word)\n",
        "              continue\n",
        "            if idf:\n",
        "                edu_vect_array.append(vect)\n",
        "                edu_idf_array.append(idf)\n",
        "            else:\n",
        "                continue\n",
        "        if edu_idf_array:\n",
        "            edu_vector = np.average(edu_vect_array, weights=edu_idf_array, axis=0)\n",
        "            edus_vectors.append(edu_vector)\n",
        "        else:\n",
        "            continue\n",
        "    return edus_vectors"
      ],
      "execution_count": 0,
      "outputs": []
    },
    {
      "cell_type": "code",
      "metadata": {
        "id": "TwbJoe0xcX7D",
        "colab_type": "code",
        "outputId": "951cb128-0db5-4852-e366-077ea384b822",
        "colab": {
          "base_uri": "https://localhost:8080/",
          "height": 33
        }
      },
      "source": [
        "len(get_edus_vectors(data['chair_lemmas']['S01'], wv, freqs, oov_list, oov_bad))"
      ],
      "execution_count": 0,
      "outputs": [
        {
          "output_type": "execute_result",
          "data": {
            "text/plain": [
              "24"
            ]
          },
          "metadata": {
            "tags": []
          },
          "execution_count": 114
        }
      ]
    },
    {
      "cell_type": "code",
      "metadata": {
        "id": "RJCjLfYCexFJ",
        "colab_type": "code",
        "outputId": "39af0fda-5a85-4a35-e6ee-042fbf60d662",
        "colab": {
          "base_uri": "https://localhost:8080/",
          "height": 33
        }
      },
      "source": [
        "set(oov_bad)"
      ],
      "execution_count": 0,
      "outputs": [
        {
          "output_type": "execute_result",
          "data": {
            "text/plain": [
              "{'дваск', 'и', 'к', 'кажется', 'я'}"
            ]
          },
          "metadata": {
            "tags": []
          },
          "execution_count": 115
        }
      ]
    },
    {
      "cell_type": "code",
      "metadata": {
        "id": "bnggcBC-poQn",
        "colab_type": "code",
        "colab": {}
      },
      "source": [
        "def vectorize_column(df, lemmas_col_name, wv, oov_list, oov_bad, idfs=None):\n",
        "  \"\"\"\n",
        "  vectorizes a pd.DataFrame column with lemmas\n",
        "\n",
        "  :param df: pd.Dataframe\n",
        "  :param lemmas_col_name: str, column name in df with lists of str (lemmas)\n",
        "  :param wv: gensim w2v model\n",
        "  :param idfs: collections.Counter for weighting\n",
        "  :param oov_list: list to add oov to\n",
        "  :param oov_bad: list to add attribute oov to\n",
        "  :return: np.ndarray of shape (len(df), wv.vector_size)\n",
        "  \"\"\"\n",
        "  vecs = df[lemmas_col_name].progress_apply(lambda text: get_edus_vectors(text, model=wv, idfs=idfs, oov_list=oov_list, oov_bad=oov_bad))\n",
        "  return vecs"
      ],
      "execution_count": 0,
      "outputs": []
    },
    {
      "cell_type": "code",
      "metadata": {
        "id": "30J1sEy5gyyH",
        "colab_type": "code",
        "outputId": "a39dc2ec-b02a-41da-cbce-71a11c003eec",
        "colab": {
          "base_uri": "https://localhost:8080/",
          "height": 788,
          "referenced_widgets": [
            "8e27868169d34506a58c0d61112d2748",
            "5b54b26b1f3248108cc99482303dd151",
            "f975b938f0cf492fa0969d054fa1d8eb",
            "1063f95f5e714f0492eabd3cc37863b3",
            "bd458c3cd7244ea8b9d332e33647d9de",
            "078f330a1520462d874021b4183e4fb7",
            "ec22c5f9b74849cba5968ce27bfdaf1a",
            "f113836dab9449699070d71d9fe84ace"
          ]
        }
      },
      "source": [
        "vectorize_column(data, 'chair_lemmas', wv, oov_list, oov_bad, freqs)"
      ],
      "execution_count": 0,
      "outputs": [
        {
          "output_type": "display_data",
          "data": {
            "application/vnd.jupyter.widget-view+json": {
              "model_id": "8e27868169d34506a58c0d61112d2748",
              "version_minor": 0,
              "version_major": 2
            },
            "text/plain": [
              "HBox(children=(FloatProgress(value=0.0, max=41.0), HTML(value='')))"
            ]
          },
          "metadata": {
            "tags": []
          }
        },
        {
          "output_type": "stream",
          "text": [
            "\n"
          ],
          "name": "stdout"
        },
        {
          "output_type": "execute_result",
          "data": {
            "text/plain": [
              "ID\n",
              "H01    [[0.692720495589204, 1.014837800579202, 0.2793...\n",
              "H02    [[-1.0763762144460236, 0.6025274997343076, 0.3...\n",
              "H03    [[-1.391371010139199, -0.316403146478882, 0.64...\n",
              "H04    [[-1.4332971572875977, -1.0885951519012451, 1....\n",
              "H05    [[-0.047409266466349825, 0.060287894648481256,...\n",
              "H06    [[-0.6306749550681139, 0.2126163464383049, 1.0...\n",
              "H07    [[-1.1267205449268307, 0.6173590823542889, 0.3...\n",
              "H08    [[-1.1264517975335153, 0.9987385780944938, 0.6...\n",
              "H09    [[-1.3740126905058532, 0.43091119703181757, 0....\n",
              "H10    [[-4.432866339247423, 1.0317723312504297, -3.2...\n",
              "H11    [[-1.1205984019897104, 0.5930615661233984, 0.3...\n",
              "H12    [[0.9147059693261343, -0.6132536425925496, 1.6...\n",
              "H13    [[2.412039966235427, -1.8823893398809999, -1.1...\n",
              "H14    [[-0.9064420394432036, 0.02139205814295135, 0....\n",
              "H15    [[1.571717037395782, 0.40909856963595204, 0.55...\n",
              "H16    [[-0.19055534920428746, 0.37428427361109806, 0...\n",
              "H17    [[-1.457224387871151, 0.1360404340548442, 0.53...\n",
              "H18    [[-1.3815539986596364, -0.09444847359809037, -...\n",
              "H19    [[-1.1249646776044597, 0.6168747369152052, 0.3...\n",
              "H20    [[-0.5007878817435819, -0.32695040740926, 1.27...\n",
              "H21    [[-1.0744940485229215, 0.8314361797672538, 0.7...\n",
              "S01    [[-1.3473511817582797, 2.0826400542150902, 0.8...\n",
              "S02    [[-3.878209645419102, 1.6123669722804395, 0.02...\n",
              "S03                                                  NaN\n",
              "S05                                                  NaN\n",
              "S06    [[-1.472115693234684, 2.463501746038281, 0.169...\n",
              "S07    [[-1.259248034107079, -0.2583246216978349, 0.2...\n",
              "S08                                                  NaN\n",
              "S09                                                  NaN\n",
              "S10    [[-1.5483746121011925, 0.740251825248748, 1.28...\n",
              "S11    [[-0.9038512154039441, 1.135104908337262, -0.9...\n",
              "S12    [[-1.1638788912796707, 0.21266765844473393, 0....\n",
              "S13    [[0.21944549679756165, 0.34323763847351074, 0....\n",
              "S14                                                  NaN\n",
              "S15    [[2.3943691331559265, -1.8635446103112667, -1....\n",
              "S16    [[-1.71191447705094, 0.9511961878821462, 0.043...\n",
              "S17    [[-0.9759224041313547, 0.9855477844903459, 0.8...\n",
              "S18    [[-1.765739314768702, 1.8391881927076656, -1.3...\n",
              "S19    [[0.692720495589204, 1.014837800579202, 0.2793...\n",
              "S20    [[-0.6020894420902853, 0.02540478748258282, 0....\n",
              "S21                                                  NaN\n",
              "Name: chair_lemmas, dtype: object"
            ]
          },
          "metadata": {
            "tags": []
          },
          "execution_count": 117
        }
      ]
    },
    {
      "cell_type": "code",
      "metadata": {
        "colab_type": "code",
        "id": "Vcpk04kXsaig",
        "outputId": "fc6a7e17-1a10-4381-81da-1a3ae01c49c7",
        "colab": {
          "base_uri": "https://localhost:8080/",
          "height": 212,
          "referenced_widgets": [
            "782b227741884fac839e6c2cb0f57297",
            "90f840cf30c2456baf5f8563ce0a10ac",
            "dca290d8a4d14889a71a02eed60ce570",
            "4024a8d04747435aba8f609dc096d9bf",
            "8604756ef12d431699dc7e9ca0a9e9a0",
            "88afab1b89bd43d58bd840333b0e8c47",
            "655ba455a8474338bb5ca846b7c17824",
            "e192657bf2dc46e08cf66cab64d382aa",
            "1f89c0b5335c4456b588ea2b3283d19f",
            "85af4d03a73540088b6eb4cef77d6985",
            "a039cee8430d4394a5e37bd915183472",
            "08bd98574bee4743af64658e42f29b54",
            "d6b11a46f6c546fd9c36a7a1c54078c9",
            "53e4cb4cbc404b829b6f1d95d5d34081",
            "a8ab0791446341b4a8479c3fcc9e47c8",
            "6ece75c00fdd49cf89995f475d384ae6",
            "68cfbfa70869452c8d7faa6f42c176e9",
            "a47360f02f2847c5ae0e63f8b47e658e",
            "7ba1d22aee364987b4d3b9f8c355f2a8",
            "8f783d07effc4e44a7f5432f6346ac5f",
            "4d48bba4e03642639876b7529b843840",
            "0dc1071068ac4992840a4e1ee97ca411",
            "250fbb2225674df8a82952ccc52f039c",
            "14e3ad0cb1d54fd28e9e7797343cc667",
            "b76f376e57fc4d18845fd46d807c438c",
            "f5057ab4c0314f5aac19ddfafb7bef5d",
            "3aa45d4e5c5845728fc6f2dbd973a5c7",
            "944136b4d1b44c92a01d1561c5961102",
            "63d2503ba0d04e1ba2ab00f83c4f13e2",
            "abfc14fa933d4c42bba15634083a6498",
            "6248635af772473f832c6bef9bd13966",
            "161bd4c36183467cb1642c66bc43e12f"
          ]
        }
      },
      "source": [
        "for col in ['child_lemmas', 'chair_lemmas', 'gift_lemmas', 'suit_lemmas']:\n",
        "  data[f'{col}_w2v'] = vectorize_column(data, col, wv, oov_list, oov_bad, freqs)"
      ],
      "execution_count": 0,
      "outputs": [
        {
          "output_type": "display_data",
          "data": {
            "application/vnd.jupyter.widget-view+json": {
              "model_id": "782b227741884fac839e6c2cb0f57297",
              "version_minor": 0,
              "version_major": 2
            },
            "text/plain": [
              "HBox(children=(FloatProgress(value=0.0, max=41.0), HTML(value='')))"
            ]
          },
          "metadata": {
            "tags": []
          }
        },
        {
          "output_type": "stream",
          "text": [
            "\n"
          ],
          "name": "stdout"
        },
        {
          "output_type": "display_data",
          "data": {
            "application/vnd.jupyter.widget-view+json": {
              "model_id": "1f89c0b5335c4456b588ea2b3283d19f",
              "version_minor": 0,
              "version_major": 2
            },
            "text/plain": [
              "HBox(children=(FloatProgress(value=0.0, max=41.0), HTML(value='')))"
            ]
          },
          "metadata": {
            "tags": []
          }
        },
        {
          "output_type": "stream",
          "text": [
            "\n"
          ],
          "name": "stdout"
        },
        {
          "output_type": "display_data",
          "data": {
            "application/vnd.jupyter.widget-view+json": {
              "model_id": "68cfbfa70869452c8d7faa6f42c176e9",
              "version_minor": 0,
              "version_major": 2
            },
            "text/plain": [
              "HBox(children=(FloatProgress(value=0.0, max=41.0), HTML(value='')))"
            ]
          },
          "metadata": {
            "tags": []
          }
        },
        {
          "output_type": "stream",
          "text": [
            "\n"
          ],
          "name": "stdout"
        },
        {
          "output_type": "display_data",
          "data": {
            "application/vnd.jupyter.widget-view+json": {
              "model_id": "b76f376e57fc4d18845fd46d807c438c",
              "version_minor": 0,
              "version_major": 2
            },
            "text/plain": [
              "HBox(children=(FloatProgress(value=0.0, max=41.0), HTML(value='')))"
            ]
          },
          "metadata": {
            "tags": []
          }
        },
        {
          "output_type": "stream",
          "text": [
            "\n"
          ],
          "name": "stdout"
        }
      ]
    },
    {
      "cell_type": "code",
      "metadata": {
        "id": "zrIpk7yVlSGz",
        "colab_type": "code",
        "outputId": "87c770e0-d2a0-445c-ad49-e52f206b1a06",
        "colab": {
          "base_uri": "https://localhost:8080/",
          "height": 33
        }
      },
      "source": [
        "len(oov_bad)/total"
      ],
      "execution_count": 0,
      "outputs": [
        {
          "output_type": "execute_result",
          "data": {
            "text/plain": [
              "0.13727707064444364"
            ]
          },
          "metadata": {
            "tags": []
          },
          "execution_count": 119
        }
      ]
    },
    {
      "cell_type": "markdown",
      "metadata": {
        "id": "MlxSlMPXQgE-",
        "colab_type": "text"
      },
      "source": [
        "## PCA for sentence embeddings\n"
      ]
    },
    {
      "cell_type": "code",
      "metadata": {
        "id": "yRDRPP4pOH9F",
        "colab_type": "code",
        "colab": {}
      },
      "source": [
        "def compute_pc(X, npc=1):\n",
        "    \"\"\"\n",
        "    Computes the principal components. DOES NOT MAKE THE DATA ZERO MEAN!\n",
        "\n",
        "    :param X: np.ndarray of shape (sent_len, emb_dim), X[i,:] is a data point\n",
        "    :param npc: int > 0, number of principal components to compute, optional, default 1\n",
        "    :return: np.ndarray of shape (npc, emb_dim), component_[i,:] is the i-th pc\n",
        "    \"\"\"\n",
        "    svd = TruncatedSVD(n_components=npc, n_iter=7, random_state=0)\n",
        "    svd.fit(X)\n",
        "    return svd.components_\n",
        "\n",
        "def remove_pc(X, npc=1, pc=None):\n",
        "    \"\"\"\n",
        "    Removes the projection on the principal components\n",
        "\n",
        "    :param X: np.ndarray of shape (sent_len, emb_dim), X[i,:] is a data point\n",
        "    :param npc: int > 0, number of principal components to remove, optional, default 1\n",
        "    :param pc: np.ndarray of shape (1, emb_dim), optional, default None\n",
        "    :return: np.ndarray of shape (sent_len, emb_dim), X[i,:], XX[i, :] is the data point after removing its projection\n",
        "    \"\"\"\n",
        "    if pc is None:\n",
        "      pc = compute_pc(X, npc)\n",
        "    if npc==1:\n",
        "        XX = X - X.dot(pc.transpose()) * pc\n",
        "    else:\n",
        "        XX = X - X.dot(pc.transpose()).dot(pc)\n",
        "    return XX"
      ],
      "execution_count": 0,
      "outputs": []
    },
    {
      "cell_type": "code",
      "metadata": {
        "colab_type": "code",
        "outputId": "a12932b8-50fd-4417-fc47-afdb42ff06a2",
        "id": "o21606FDD0E-",
        "colab": {
          "base_uri": "https://localhost:8080/",
          "height": 134
        }
      },
      "source": [
        "x = np.random.rand(10,20)\n",
        "print(f'shape of compute_pc:\\nx: {x.shape}\\ncompute_pc(x, 2): {compute_pc(x, 2).shape}')\n",
        "print()\n",
        "print(f'shape does not chage after removal:\\nbefore: {x.shape}\\nafter: {remove_pc(x, 2).shape}')"
      ],
      "execution_count": 0,
      "outputs": [
        {
          "output_type": "stream",
          "text": [
            "shape of compute_pc:\n",
            "x: (10, 20)\n",
            "compute_pc(x, 2): (2, 20)\n",
            "\n",
            "shape does not chage after removal:\n",
            "before: (10, 20)\n",
            "after: (10, 20)\n"
          ],
          "name": "stdout"
        }
      ]
    },
    {
      "cell_type": "code",
      "metadata": {
        "id": "3mJ6tM84jsDZ",
        "colab_type": "code",
        "colab": {}
      },
      "source": [
        "all_sent_emb = []\n",
        "for w2v_col in [f'{col}_lemmas_w2v' for col in tests]:\n",
        "  all_sent_emb  += flatten(data[w2v_col].dropna().values)"
      ],
      "execution_count": 0,
      "outputs": []
    },
    {
      "cell_type": "code",
      "metadata": {
        "id": "mgTroyTxkkQy",
        "colab_type": "code",
        "colab": {}
      },
      "source": [
        "pc_to_remove = compute_pc(np.array(all_sent_emb))"
      ],
      "execution_count": 0,
      "outputs": []
    },
    {
      "cell_type": "code",
      "metadata": {
        "id": "Bm6_R-J2mLr6",
        "colab_type": "code",
        "outputId": "f8d83562-8a44-4ff5-886a-1a995dd334e5",
        "colab": {
          "base_uri": "https://localhost:8080/",
          "height": 33
        }
      },
      "source": [
        "remove_pc(data['child_lemmas_w2v']['H01'][0], pc=pc_to_remove).shape"
      ],
      "execution_count": 0,
      "outputs": [
        {
          "output_type": "execute_result",
          "data": {
            "text/plain": [
              "(1, 300)"
            ]
          },
          "metadata": {
            "tags": []
          },
          "execution_count": 125
        }
      ]
    },
    {
      "cell_type": "code",
      "metadata": {
        "id": "p4W8KcOMmj5f",
        "colab_type": "code",
        "colab": {}
      },
      "source": [
        "def apply_remove_pc(edu_w2v_list, pc_to_remove):\n",
        "  \"\"\"\n",
        "  applies principal component removal to a list of w2v vectors\n",
        "\n",
        "  :param edu_w2v_list: list of np.array of the same shape (1, emb_dim)\n",
        "  :param pc_to_remove: np.array of shape (1, emb_dim), pc to remove\n",
        "  :return: list of np.array of the same shape (1, emb_dim)\n",
        "  \"\"\"\n",
        "  sif_vecs = []\n",
        "  for edu_vec in edu_w2v_list:\n",
        "    sif_vecs.append(remove_pc(edu_vec, pc=pc_to_remove))\n",
        "  return sif_vecs"
      ],
      "execution_count": 0,
      "outputs": []
    },
    {
      "cell_type": "code",
      "metadata": {
        "id": "4Df9UJZ1m-ck",
        "colab_type": "code",
        "outputId": "b750db8d-40cd-4da9-bf9d-f12eaadba67a",
        "colab": {
          "base_uri": "https://localhost:8080/",
          "height": 50
        }
      },
      "source": [
        "print(len(data['child_lemmas_w2v']['H01']))\n",
        "len(apply_remove_pc(data['child_lemmas_w2v']['H01'], pc_to_remove=pc_to_remove))"
      ],
      "execution_count": 0,
      "outputs": [
        {
          "output_type": "stream",
          "text": [
            "33\n"
          ],
          "name": "stdout"
        },
        {
          "output_type": "execute_result",
          "data": {
            "text/plain": [
              "33"
            ]
          },
          "metadata": {
            "tags": []
          },
          "execution_count": 127
        }
      ]
    },
    {
      "cell_type": "code",
      "metadata": {
        "id": "F9Ap8JB-lq8_",
        "colab_type": "code",
        "outputId": "e012194c-f5e5-420c-c517-2b91132d9ff7",
        "colab": {
          "base_uri": "https://localhost:8080/",
          "height": 213,
          "referenced_widgets": [
            "650a9f1d68604614a20d7c5342bc77bb",
            "662a3a49d0bd417685067b54b08d7352",
            "c9de593ee21148bfb51b984d7ec306b8",
            "edb06f7b93dd4187b4c3800c8ac5d8c3",
            "628bf9384c10499db3521aee9ec146af",
            "66c29b0fa0a940c59e351732679cc38d",
            "99754b8603ff4d639765177f73ac7bf1",
            "5101712ffb6d4c81a176d5e1ded77dd4",
            "df5cb7bbc1bf484d8070b17c3b4d7831",
            "7515d85837a84c7bbe09b2fdd46006d7",
            "1725e33f300340778265457421ff2bf7",
            "add414ad8df5467c816bba1942421395",
            "a8ebf8af6368408e8f5f137e249bad68",
            "b40aa782d5c6450f930286d95738c118",
            "5531f2a031b0439290a14c44adce1500",
            "30a82e081a3b40e982404c79d8e652a1",
            "d651b527bc294f0a888a0db9aa94a1dc",
            "8a479256f9f04458aebf28d8a02cd541",
            "6fb4883b85d140088ed0bb8db558bdfd",
            "0ac953c6c2144b5f99f0898a2528975b",
            "76d7420f5f534437b9cf25cea3e22275",
            "b542a8a3204b412ea7e585d1b5bf592e",
            "8ca42c1aab91489eb09c747273802af8",
            "ea7d69d6cc6143c1ac7cd6493f474e4c",
            "95f920f0ba8142b7a2d233b21eceb9ce",
            "7ee14afbc22d48dfa951fbe688a826dc",
            "4a2114989f7e4371bfb75b3bd539347d",
            "7f1424f6c55a48d08b62226ae8035c95",
            "4ca94ddb96a44fe3a0b62318c429c376",
            "88455460c9fd4b1c90dcdd75a0147a05",
            "12e900ef6a914d428014f8bae3a03160",
            "c5902e54e2024b55bea237c6b2ab73fe"
          ]
        }
      },
      "source": [
        "for col in tests:\n",
        "  data[f'{col}_sif'] = data[f'{col}_lemmas_w2v'][~pd.isnull(data[f'{col}_lemmas_w2v'])].progress_apply(lambda wec_list: apply_remove_pc(wec_list, pc_to_remove))"
      ],
      "execution_count": 176,
      "outputs": [
        {
          "output_type": "display_data",
          "data": {
            "application/vnd.jupyter.widget-view+json": {
              "model_id": "650a9f1d68604614a20d7c5342bc77bb",
              "version_minor": 0,
              "version_major": 2
            },
            "text/plain": [
              "HBox(children=(FloatProgress(value=0.0, max=41.0), HTML(value='')))"
            ]
          },
          "metadata": {
            "tags": []
          }
        },
        {
          "output_type": "stream",
          "text": [
            "\n"
          ],
          "name": "stdout"
        },
        {
          "output_type": "display_data",
          "data": {
            "application/vnd.jupyter.widget-view+json": {
              "model_id": "df5cb7bbc1bf484d8070b17c3b4d7831",
              "version_minor": 0,
              "version_major": 2
            },
            "text/plain": [
              "HBox(children=(FloatProgress(value=0.0, max=35.0), HTML(value='')))"
            ]
          },
          "metadata": {
            "tags": []
          }
        },
        {
          "output_type": "stream",
          "text": [
            "\n"
          ],
          "name": "stdout"
        },
        {
          "output_type": "display_data",
          "data": {
            "application/vnd.jupyter.widget-view+json": {
              "model_id": "d651b527bc294f0a888a0db9aa94a1dc",
              "version_minor": 0,
              "version_major": 2
            },
            "text/plain": [
              "HBox(children=(FloatProgress(value=0.0, max=35.0), HTML(value='')))"
            ]
          },
          "metadata": {
            "tags": []
          }
        },
        {
          "output_type": "stream",
          "text": [
            "\n"
          ],
          "name": "stdout"
        },
        {
          "output_type": "display_data",
          "data": {
            "application/vnd.jupyter.widget-view+json": {
              "model_id": "95f920f0ba8142b7a2d233b21eceb9ce",
              "version_minor": 0,
              "version_major": 2
            },
            "text/plain": [
              "HBox(children=(FloatProgress(value=0.0, max=38.0), HTML(value='')))"
            ]
          },
          "metadata": {
            "tags": []
          }
        },
        {
          "output_type": "stream",
          "text": [
            "\n"
          ],
          "name": "stdout"
        }
      ]
    },
    {
      "cell_type": "code",
      "metadata": {
        "id": "znrw4_LleXsF",
        "colab_type": "code",
        "colab": {
          "base_uri": "https://localhost:8080/",
          "height": 213,
          "referenced_widgets": [
            "f0791c95562d4b2196f34e1f3666fe9c",
            "f692eff055ff4fa490404c7c62826a4e",
            "3bf0b6d015894fa2a3fa5891e5634d58",
            "fa96e92e6c6d4a0f9f7cb816f327e9e5",
            "5af0310cc4b2427aad1b93fffe0f8466",
            "4f79ce58795542909b026473becc8b99",
            "f4d9847a7d464bf98278d808797ff54b",
            "38b5cf598fcd44638cbbf9fcb76b9067",
            "695d6906cd8548afb39d67ad32cd93fe",
            "079248a444a24ad7bd1c17fce7934cbc",
            "2e543e0445b84006a885d4e070c5e9ae",
            "e274091a66b045d4acd5875605f7903c",
            "d2af614d839e4725b49070b032cef146",
            "2055a612005e4b49bea5424ce948320e",
            "46fd1f763b6846bc92a6b47768e6f677",
            "545b13f8972645a9b375cdb3c9533cff",
            "c12537374d454ca2b06c60bb470d38f2",
            "d00f577000864bdeaaba86d3b09971b0",
            "1bf27fd2b77446d3aa4fdb6a7f8ef1ec",
            "bd70a45da59e4e96a48890b44931cc9d",
            "9c6e6c8db47b4f61abf45045ea2b2009",
            "a22b8420fcc2422297b615d212d98676",
            "1440a26982d04efb916d71d0709ec881",
            "b0ba62fca6644e50ae9d3c5f4df5a499",
            "5af6ea8c84fa495191a9251edd2faf09",
            "ddc7322a66f64486be7038196feee22f",
            "d8601d5bcc8140ce8afd15de64b2fcd4",
            "6583d67a423b4e57a9137a0af96668db",
            "2e3fbebc54e64c8ebb6bcdeb6f897502",
            "74b0ab6babdc463ab0f8c1a716358ab6",
            "c989f672fa2f466686cc2e0d9633c9b5",
            "dc10f4b123094a75880a09276e08d49a"
          ]
        },
        "outputId": "8621b886-3c47-4f1b-9a85-1c192584ddee"
      },
      "source": [
        "for col in tests:\n",
        "  data[f'{col}_sif'] = data[f'{col}_sif'] [~pd.isnull(data[f'{col}_sif'] )].progress_apply(lambda ls: [lls[0] for lls in ls])"
      ],
      "execution_count": 177,
      "outputs": [
        {
          "output_type": "display_data",
          "data": {
            "application/vnd.jupyter.widget-view+json": {
              "model_id": "f0791c95562d4b2196f34e1f3666fe9c",
              "version_minor": 0,
              "version_major": 2
            },
            "text/plain": [
              "HBox(children=(FloatProgress(value=0.0, max=41.0), HTML(value='')))"
            ]
          },
          "metadata": {
            "tags": []
          }
        },
        {
          "output_type": "stream",
          "text": [
            "\n"
          ],
          "name": "stdout"
        },
        {
          "output_type": "display_data",
          "data": {
            "application/vnd.jupyter.widget-view+json": {
              "model_id": "695d6906cd8548afb39d67ad32cd93fe",
              "version_minor": 0,
              "version_major": 2
            },
            "text/plain": [
              "HBox(children=(FloatProgress(value=0.0, max=35.0), HTML(value='')))"
            ]
          },
          "metadata": {
            "tags": []
          }
        },
        {
          "output_type": "stream",
          "text": [
            "\n"
          ],
          "name": "stdout"
        },
        {
          "output_type": "display_data",
          "data": {
            "application/vnd.jupyter.widget-view+json": {
              "model_id": "c12537374d454ca2b06c60bb470d38f2",
              "version_minor": 0,
              "version_major": 2
            },
            "text/plain": [
              "HBox(children=(FloatProgress(value=0.0, max=35.0), HTML(value='')))"
            ]
          },
          "metadata": {
            "tags": []
          }
        },
        {
          "output_type": "stream",
          "text": [
            "\n"
          ],
          "name": "stdout"
        },
        {
          "output_type": "display_data",
          "data": {
            "application/vnd.jupyter.widget-view+json": {
              "model_id": "5af6ea8c84fa495191a9251edd2faf09",
              "version_minor": 0,
              "version_major": 2
            },
            "text/plain": [
              "HBox(children=(FloatProgress(value=0.0, max=38.0), HTML(value='')))"
            ]
          },
          "metadata": {
            "tags": []
          }
        },
        {
          "output_type": "stream",
          "text": [
            "\n"
          ],
          "name": "stdout"
        }
      ]
    },
    {
      "cell_type": "code",
      "metadata": {
        "id": "5ZPLpDQN50IS",
        "colab_type": "code",
        "colab": {}
      },
      "source": [
        "with open('/content/drive/My Drive/studies/HSE/science/Schizophrenia_private/Schizo_НЦПЗ/Транскрипты/applied.pickle', 'wb') as f:\n",
        "  pickle.dump(data, f)"
      ],
      "execution_count": 0,
      "outputs": []
    },
    {
      "cell_type": "markdown",
      "metadata": {
        "id": "matj3_VNIgd3",
        "colab_type": "text"
      },
      "source": [
        "# Apply ELMO\n"
      ]
    },
    {
      "cell_type": "code",
      "metadata": {
        "id": "oScOp4DQCtp6",
        "colab_type": "code",
        "outputId": "435e3c41-e032-4a5a-e031-b8af50bc9449",
        "colab": {
          "base_uri": "https://localhost:8080/",
          "height": 204
        }
      },
      "source": [
        "!wget http://vectors.nlpl.eu/repository/20/196.zip"
      ],
      "execution_count": 150,
      "outputs": [
        {
          "output_type": "stream",
          "text": [
            "--2020-05-06 19:16:27--  http://vectors.nlpl.eu/repository/20/196.zip\n",
            "Resolving vectors.nlpl.eu (vectors.nlpl.eu)... 129.240.189.225\n",
            "Connecting to vectors.nlpl.eu (vectors.nlpl.eu)|129.240.189.225|:80... connected.\n",
            "HTTP request sent, awaiting response... 200 OK\n",
            "Length: 206986351 (197M) [application/zip]\n",
            "Saving to: ‘196.zip.2’\n",
            "\n",
            "196.zip.2           100%[===================>] 197.40M  9.61MB/s    in 32s     \n",
            "\n",
            "2020-05-06 19:17:01 (6.17 MB/s) - ‘196.zip.2’ saved [206986351/206986351]\n",
            "\n"
          ],
          "name": "stdout"
        }
      ]
    },
    {
      "cell_type": "code",
      "metadata": {
        "id": "y3J95RYoC1FM",
        "colab_type": "code",
        "outputId": "6c12a897-8d9c-41d3-a4c2-09b512fa4a15",
        "colab": {
          "base_uri": "https://localhost:8080/",
          "height": 119
        }
      },
      "source": [
        "!unzip 196.zip"
      ],
      "execution_count": 151,
      "outputs": [
        {
          "output_type": "stream",
          "text": [
            "Archive:  196.zip\n",
            "replace meta.json? [y]es, [n]o, [A]ll, [N]one, [r]ename: n\n",
            "replace model.hdf5? [y]es, [n]o, [A]ll, [N]one, [r]ename: n\n",
            "replace options.json? [y]es, [n]o, [A]ll, [N]one, [r]ename: n\n",
            "replace README? [y]es, [n]o, [A]ll, [N]one, [r]ename: n\n",
            "replace vocab.txt? [y]es, [n]o, [A]ll, [N]one, [r]ename: n\n"
          ],
          "name": "stdout"
        }
      ]
    },
    {
      "cell_type": "code",
      "metadata": {
        "id": "GeZcbciQDf0E",
        "colab_type": "code",
        "colab": {}
      },
      "source": [
        "Elmo = ElmoEmbedder(options_file=\"options.json\", weight_file=\"model.hdf5\")"
      ],
      "execution_count": 0,
      "outputs": []
    },
    {
      "cell_type": "code",
      "metadata": {
        "id": "sPVSvZvNgWlM",
        "colab_type": "code",
        "colab": {}
      },
      "source": [
        "ex_tokens = [\"я\", \"сомневаться\", \"что\", \"это\", \"правда\", \"работать\"]"
      ],
      "execution_count": 0,
      "outputs": []
    },
    {
      "cell_type": "code",
      "metadata": {
        "id": "_095uowwEK8Q",
        "colab_type": "code",
        "outputId": "5a0e51bc-ae33-443c-f44a-ec884ef4426e",
        "colab": {
          "base_uri": "https://localhost:8080/",
          "height": 34
        }
      },
      "source": [
        "Elmo.embed_sentence(ex_tokens).shape"
      ],
      "execution_count": 154,
      "outputs": [
        {
          "output_type": "execute_result",
          "data": {
            "text/plain": [
              "(3, 6, 1024)"
            ]
          },
          "metadata": {
            "tags": []
          },
          "execution_count": 154
        }
      ]
    },
    {
      "cell_type": "code",
      "metadata": {
        "id": "cC3NI-pcdurx",
        "colab_type": "code",
        "colab": {}
      },
      "source": [
        "def get_elmo_vector(elmo, tokens, method='sum'):\n",
        "  \"\"\"\n",
        "  embedds a list of tokens with elmo model using some combination of 3 layers\n",
        "\n",
        "  :param elmo: trained allennlp.ElmoEmbedder model\n",
        "  :param tokens: list of str, tokens to embed\n",
        "  :param method: {0, 1, 2,'sum', 'mean'}, layer to use or a method of combining layers\n",
        "  :return: np.ndarray of shape (len(tokens), embedding_dim) \n",
        "  \"\"\"\n",
        "  vectors = elmo.embed_sentence(tokens)\n",
        "  if type(method) == int and method < 3:\n",
        "    X = []\n",
        "    for vector in vectors[method]:\n",
        "      X.append(vector)\n",
        "    return np.array(X)\n",
        "  # combine 3 layers of representation\n",
        "  if method == 'mean':\n",
        "    return np.mean(vectors, axis=0)  \n",
        "  if method == 'sum':\n",
        "    return np.sum(vectors, axis=0)  "
      ],
      "execution_count": 0,
      "outputs": []
    },
    {
      "cell_type": "code",
      "metadata": {
        "id": "ev2j_ygEgSbj",
        "colab_type": "code",
        "outputId": "62e31c98-b3af-46c0-ec28-945fc84af830",
        "colab": {
          "base_uri": "https://localhost:8080/",
          "height": 34
        }
      },
      "source": [
        "np.mean(get_elmo_vector(Elmo, ex_tokens), axis=0).shape"
      ],
      "execution_count": 158,
      "outputs": [
        {
          "output_type": "execute_result",
          "data": {
            "text/plain": [
              "(1024,)"
            ]
          },
          "metadata": {
            "tags": []
          },
          "execution_count": 158
        }
      ]
    },
    {
      "cell_type": "code",
      "metadata": {
        "id": "E9AugqJMIfwK",
        "colab_type": "code",
        "outputId": "966fa7a7-ed12-41b8-ea41-865c28b89ab6",
        "colab": {
          "base_uri": "https://localhost:8080/",
          "height": 213,
          "referenced_widgets": [
            "27ecb639d4a945e4902443a81901dfc0",
            "89a972fa3e1f4bb89e02f5eac6600ec8",
            "cc5623b99434421eb18e5376e5cf8db4",
            "1de5b16637f143b7bfa1b95ffad5060b",
            "2775a36c6c8d4eb5b0bdb53cb9360468",
            "20f7f751ed9f42f4b3af4e7a1a1a97fc",
            "25d382c210e740dda3e38247c57ba35c",
            "06022247dae9411cb682447d61495c62",
            "7828fbbae7a94eef94bc4c34a3c939d9",
            "e7e5c0b646d6437f873838cf8bdf382b",
            "d67952811f054ced85deb21cd91029f1",
            "5900f31347684912ac66eda3551f3c35",
            "6619465266c24140b372eb23f4c2a428",
            "dda5247b9a45492dacf10eb2db2ebb32",
            "6bfe9a6d0f344987a5e38e9ebdba4bf0",
            "fea2c750a14543b4abb39c1dbae04a63",
            "9f12092c8f6248aaa8e7f483b6b9401d",
            "a32a07a74af349949e089986188e884b",
            "609a7a0f34b943a3b777d631ef206be1",
            "7bde4792d0c347d8876017d92af6ae8b",
            "08f6b7c2418d486780bc530838bf2c08",
            "ea1a97b28c1e436a9fc4ed5b733fa14e",
            "ee3e2d739d2f4ceebdf71ef839b27ca1",
            "175f875f2baf449497387950efec2701",
            "6ac51d7d69424d29a6c6090a63421bd8",
            "2c092ed1126940cf8e91e3ef532ee303",
            "51a532626bb84d639fdbbc610443a300",
            "1471ae6ab139416ab1e775af63ac1a18",
            "d72f71aae4664a898c4f0877d9328a3e",
            "9fbb0614cb8b4c4b93f9ccb61346e584",
            "ab452eb270184c688d620057ff657bb4",
            "a1db3ae4c75648a0a91e0e8b2cc2a101"
          ]
        }
      },
      "source": [
        "for col in tests:\n",
        "  data[f'{col}_elmo'] = data[f'{col}_lemmas'][~pd.isnull(data[f'{col}_lemmas'])].progress_apply(lambda edus: [np.mean(get_elmo_vector(Elmo, edu, method='sum'), axis=0) for edu in edus])"
      ],
      "execution_count": 159,
      "outputs": [
        {
          "output_type": "display_data",
          "data": {
            "application/vnd.jupyter.widget-view+json": {
              "model_id": "27ecb639d4a945e4902443a81901dfc0",
              "version_minor": 0,
              "version_major": 2
            },
            "text/plain": [
              "HBox(children=(FloatProgress(value=0.0, max=41.0), HTML(value='')))"
            ]
          },
          "metadata": {
            "tags": []
          }
        },
        {
          "output_type": "stream",
          "text": [
            "\n"
          ],
          "name": "stdout"
        },
        {
          "output_type": "display_data",
          "data": {
            "application/vnd.jupyter.widget-view+json": {
              "model_id": "7828fbbae7a94eef94bc4c34a3c939d9",
              "version_minor": 0,
              "version_major": 2
            },
            "text/plain": [
              "HBox(children=(FloatProgress(value=0.0, max=35.0), HTML(value='')))"
            ]
          },
          "metadata": {
            "tags": []
          }
        },
        {
          "output_type": "stream",
          "text": [
            "\n"
          ],
          "name": "stdout"
        },
        {
          "output_type": "display_data",
          "data": {
            "application/vnd.jupyter.widget-view+json": {
              "model_id": "9f12092c8f6248aaa8e7f483b6b9401d",
              "version_minor": 0,
              "version_major": 2
            },
            "text/plain": [
              "HBox(children=(FloatProgress(value=0.0, max=35.0), HTML(value='')))"
            ]
          },
          "metadata": {
            "tags": []
          }
        },
        {
          "output_type": "stream",
          "text": [
            "\n"
          ],
          "name": "stdout"
        },
        {
          "output_type": "display_data",
          "data": {
            "application/vnd.jupyter.widget-view+json": {
              "model_id": "6ac51d7d69424d29a6c6090a63421bd8",
              "version_minor": 0,
              "version_major": 2
            },
            "text/plain": [
              "HBox(children=(FloatProgress(value=0.0, max=38.0), HTML(value='')))"
            ]
          },
          "metadata": {
            "tags": []
          }
        },
        {
          "output_type": "stream",
          "text": [
            "\n"
          ],
          "name": "stdout"
        }
      ]
    },
    {
      "cell_type": "code",
      "metadata": {
        "id": "IQkUQpqIqTvl",
        "colab_type": "code",
        "colab": {}
      },
      "source": [
        "with open('/content/drive/My Drive/studies/HSE/science/Schizophrenia_private/Schizo_НЦПЗ/Транскрипты/applied.pickle', 'wb') as f:\n",
        "  pickle.dump(data, f)"
      ],
      "execution_count": 0,
      "outputs": []
    },
    {
      "cell_type": "markdown",
      "metadata": {
        "id": "a57YTmpF938B",
        "colab_type": "text"
      },
      "source": [
        "# BERT"
      ]
    },
    {
      "cell_type": "code",
      "metadata": {
        "id": "-ZiZHAeY7f_B",
        "colab_type": "code",
        "outputId": "55bc924a-4262-4c98-be0a-f7a30f2d0f51",
        "colab": {
          "base_uri": "https://localhost:8080/",
          "height": 201
        }
      },
      "source": [
        "!wget http://files.deeppavlov.ai/deeppavlov_data/bert/rubert_cased_L-12_H-768_A-12_pt.tar.gz"
      ],
      "execution_count": 0,
      "outputs": [
        {
          "output_type": "stream",
          "text": [
            "--2020-05-06 15:51:04--  http://files.deeppavlov.ai/deeppavlov_data/bert/rubert_cased_L-12_H-768_A-12_pt.tar.gz\n",
            "Resolving files.deeppavlov.ai (files.deeppavlov.ai)... 93.175.29.74\n",
            "Connecting to files.deeppavlov.ai (files.deeppavlov.ai)|93.175.29.74|:80... connected.\n",
            "HTTP request sent, awaiting response... 200 OK\n",
            "Length: 662024852 (631M) [application/octet-stream]\n",
            "Saving to: ‘rubert_cased_L-12_H-768_A-12_pt.tar.gz’\n",
            "\n",
            "rubert_cased_L-12_H 100%[===================>] 631.36M  1.88MB/s    in 8m 47s  \n",
            "\n",
            "2020-05-06 15:59:52 (1.20 MB/s) - ‘rubert_cased_L-12_H-768_A-12_pt.tar.gz’ saved [662024852/662024852]\n",
            "\n"
          ],
          "name": "stdout"
        }
      ]
    },
    {
      "cell_type": "code",
      "metadata": {
        "id": "RKzfMQe27hmP",
        "colab_type": "code",
        "outputId": "10027bcf-c58c-4dbc-b05f-8147de5c69ac",
        "colab": {
          "base_uri": "https://localhost:8080/",
          "height": 84
        }
      },
      "source": [
        "!tar -zxvf rubert_cased_L-12_H-768_A-12_pt.tar.gz"
      ],
      "execution_count": 0,
      "outputs": [
        {
          "output_type": "stream",
          "text": [
            "rubert_cased_L-12_H-768_A-12_pt/\n",
            "rubert_cased_L-12_H-768_A-12_pt/bert_config.json\n",
            "rubert_cased_L-12_H-768_A-12_pt/vocab.txt\n",
            "rubert_cased_L-12_H-768_A-12_pt/pytorch_model.bin\n"
          ],
          "name": "stdout"
        }
      ]
    },
    {
      "cell_type": "code",
      "metadata": {
        "id": "NnZZkvIl2cQ5",
        "colab_type": "code",
        "outputId": "0dbf392a-0c63-4ed0-e1f5-1d28dc8e1efd",
        "colab": {
          "base_uri": "https://localhost:8080/",
          "height": 168
        }
      },
      "source": [
        "bert_config = read_json(configs.embedder.bert_embedder)\n",
        "bert_config['metadata']['variables']['BERT_PATH'] = '/content/rubert_cased_L-12_H-768_A-12_pt'\n",
        "\n",
        "m = build_model(bert_config)\n",
        "\n",
        "texts = ['Привет, я хочу взять свои слова назад.', 'Я тоже. Прости меня!']\n",
        "tokens, token_embs, subtokens, subtoken_embs, sent_max_embs, sent_mean_embs, bert_pooler_outputs = m(texts)"
      ],
      "execution_count": 0,
      "outputs": [
        {
          "output_type": "stream",
          "text": [
            "[nltk_data] Downloading package punkt to /root/nltk_data...\n",
            "[nltk_data]   Unzipping tokenizers/punkt.zip.\n",
            "[nltk_data] Downloading package stopwords to /root/nltk_data...\n",
            "[nltk_data]   Unzipping corpora/stopwords.zip.\n",
            "[nltk_data] Downloading package perluniprops to /root/nltk_data...\n",
            "[nltk_data]   Unzipping misc/perluniprops.zip.\n",
            "[nltk_data] Downloading package nonbreaking_prefixes to\n",
            "[nltk_data]     /root/nltk_data...\n",
            "[nltk_data]   Unzipping corpora/nonbreaking_prefixes.zip.\n"
          ],
          "name": "stderr"
        }
      ]
    },
    {
      "cell_type": "code",
      "metadata": {
        "id": "yORpMogc8urE",
        "colab_type": "code",
        "outputId": "2b3dc887-df1f-4c15-df8e-eee857dd47aa",
        "colab": {
          "base_uri": "https://localhost:8080/",
          "height": 50
        }
      },
      "source": [
        "tokens"
      ],
      "execution_count": 0,
      "outputs": [
        {
          "output_type": "execute_result",
          "data": {
            "text/plain": [
              "[['Привет', ',', 'я', 'хочу', 'взять', 'свои', 'слова', 'назад', '.'],\n",
              " ['Я', 'тоже', '.', 'Прости', 'меня', '!']]"
            ]
          },
          "metadata": {
            "tags": []
          },
          "execution_count": 11
        }
      ]
    },
    {
      "cell_type": "code",
      "metadata": {
        "id": "3CKcB-cy87-2",
        "colab_type": "code",
        "outputId": "ee0a6404-fd99-40a1-87df-7b3c056e2f46",
        "colab": {
          "base_uri": "https://localhost:8080/",
          "height": 33
        }
      },
      "source": [
        "token_embs[0].shape"
      ],
      "execution_count": 0,
      "outputs": [
        {
          "output_type": "execute_result",
          "data": {
            "text/plain": [
              "(9, 768)"
            ]
          },
          "metadata": {
            "tags": []
          },
          "execution_count": 12
        }
      ]
    },
    {
      "cell_type": "code",
      "metadata": {
        "id": "b7VhVoYP9Md4",
        "colab_type": "code",
        "outputId": "0eea2a3d-db0e-4e81-e61b-b01f17e62ce1",
        "colab": {
          "base_uri": "https://localhost:8080/",
          "height": 33
        }
      },
      "source": [
        "token_embs[1].shape"
      ],
      "execution_count": 0,
      "outputs": [
        {
          "output_type": "execute_result",
          "data": {
            "text/plain": [
              "(6, 768)"
            ]
          },
          "metadata": {
            "tags": []
          },
          "execution_count": 13
        }
      ]
    },
    {
      "cell_type": "code",
      "metadata": {
        "id": "f0ul4arWsFz7",
        "colab_type": "code",
        "colab": {}
      },
      "source": [
        "tests = ['child', 'chair', 'gift', 'suit']"
      ],
      "execution_count": 0,
      "outputs": []
    },
    {
      "cell_type": "code",
      "metadata": {
        "id": "gEuaT5ynqZZl",
        "colab_type": "code",
        "colab": {}
      },
      "source": [
        "with open('/content/drive/My Drive/studies/HSE/science/Schizophrenia_private/Schizo_НЦПЗ/Транскрипты/applied.pickle', 'rb') as f:\n",
        "  data = pickle.load(f)"
      ],
      "execution_count": 0,
      "outputs": []
    },
    {
      "cell_type": "code",
      "metadata": {
        "id": "lsT4fbdOvcAr",
        "colab_type": "code",
        "colab": {}
      },
      "source": [
        "def vectorize_BERT_col(model, sents, method='max'):\n",
        "  \"\"\"\n",
        "  vectorises a list of sentences (single strings) using BERT\n",
        "\n",
        "  :param model: deeppavlov.core.common.chainer.Chainer, trained BERT\n",
        "  :param sents: list of str, sentences\n",
        "  :param method: str, {'max', 'mean', 'pooler'}, representation layer to return,\n",
        "                 optional, defailt 'max'\n",
        "\n",
        "  :return: np.array of shape (len(sents), emb_size)\n",
        "  \"\"\"\n",
        "  tokens, token_embs, subtokens, subtoken_embs, sent_max_embs, sent_mean_embs, bert_pooler_outputs = m(sents)\n",
        "  if method == 'max':\n",
        "    return sent_max_embs\n",
        "  elif method == 'mean':\n",
        "    return sent_mean_embs\n",
        "  elif method == 'pooler':\n",
        "    return bert_pooler_outputs\n",
        "  else:\n",
        "    raise KeyError(f\"expected method in \\{'max', 'mean', 'pooler'} but got '{method}'\")"
      ],
      "execution_count": 0,
      "outputs": []
    },
    {
      "cell_type": "code",
      "metadata": {
        "id": "EnzFmkUDyFvA",
        "colab_type": "code",
        "colab": {}
      },
      "source": [
        "try_bert = pd.DataFrame(index=data.index)"
      ],
      "execution_count": 0,
      "outputs": []
    },
    {
      "cell_type": "code",
      "metadata": {
        "id": "_XACaEIKo54P",
        "colab_type": "code",
        "outputId": "17a9da6f-11f1-4e0e-9ac6-85222a90f433",
        "colab": {
          "base_uri": "https://localhost:8080/",
          "height": 212,
          "referenced_widgets": [
            "57adcbbed851428fa4cc84053684ddbb",
            "afcb911c8e444aceb66119123dda39c5",
            "52c193326ce64bbfae37321546ab5673",
            "a9ac21c2650e4110af18565e671faa96",
            "5b76937afd744aba8c9ab12cfcdb813f",
            "ede3d4c3d7fa41f9a5b329a66e4ec979",
            "3b405398dfed44d695c8b36b7a29707d",
            "d93c0904e9cb4d248ddf3a00da89d253",
            "936ae7dbdaa448fc98d4f7ad01653eae",
            "1acb497d1ccc4e568705d069ee163642",
            "c4aee491121149ed8820882f70d28d65",
            "5740fc6903194d84a07e95f3ea1f01b2",
            "b028eac2bd3d4bd0a450b61cf952f8e5",
            "13093314759f460dbefbd0f9f1ee10be",
            "9138e006024046c58aeac80a752d7a74",
            "229ce953a8f449dd9599b6377c20ab90",
            "f1b99572cf394c7db069c0c3367b2dce",
            "358b3d4a78d94f89a1f98a5904ed34be",
            "2970a464e1194aa78bed53f983c78542",
            "4c64a3d767334720a4e1607eab8baf74",
            "5e437fe6a8254d8098f359043b38bbb0",
            "ceed2c30a7824d3891a71d4a2e308098",
            "a0149bb273cd463c99196dfd11a27e26",
            "2c59021c0d5d439eb61d331f9240160a",
            "4465e3f592b543d6bb59a857815ea05b",
            "f278797e492346269f41e024c351c5f7",
            "a248e2e919aa4ef291b3296200a48417",
            "d2b26d7726ea4aea8d9269aaa92bf7c8",
            "9df3bae61d1b47a8a19c7e5f63badeb8",
            "24f84df941a842f2a9a01d6f67f99185",
            "9674efa30e254735808340f16747af07",
            "77e13ac4bbe943bba0c03525a6aebc60"
          ]
        }
      },
      "source": [
        "for col in tests:\n",
        "  joined = data[f'{col}_lemmas'].apply(lambda ls: [' '.join(s) for s in ls] if type(ls) == list else ls)\n",
        "  try_bert[f'{col}_bert'] = joined[~pd.isnull(joined)].progress_apply(lambda sents: vectorize_BERT_col(m, sents))"
      ],
      "execution_count": 0,
      "outputs": [
        {
          "output_type": "display_data",
          "data": {
            "application/vnd.jupyter.widget-view+json": {
              "model_id": "57adcbbed851428fa4cc84053684ddbb",
              "version_minor": 0,
              "version_major": 2
            },
            "text/plain": [
              "HBox(children=(FloatProgress(value=0.0, max=41.0), HTML(value='')))"
            ]
          },
          "metadata": {
            "tags": []
          }
        },
        {
          "output_type": "stream",
          "text": [
            "\n"
          ],
          "name": "stdout"
        },
        {
          "output_type": "display_data",
          "data": {
            "application/vnd.jupyter.widget-view+json": {
              "model_id": "936ae7dbdaa448fc98d4f7ad01653eae",
              "version_minor": 0,
              "version_major": 2
            },
            "text/plain": [
              "HBox(children=(FloatProgress(value=0.0, max=35.0), HTML(value='')))"
            ]
          },
          "metadata": {
            "tags": []
          }
        },
        {
          "output_type": "stream",
          "text": [
            "\n"
          ],
          "name": "stdout"
        },
        {
          "output_type": "display_data",
          "data": {
            "application/vnd.jupyter.widget-view+json": {
              "model_id": "f1b99572cf394c7db069c0c3367b2dce",
              "version_minor": 0,
              "version_major": 2
            },
            "text/plain": [
              "HBox(children=(FloatProgress(value=0.0, max=35.0), HTML(value='')))"
            ]
          },
          "metadata": {
            "tags": []
          }
        },
        {
          "output_type": "stream",
          "text": [
            "\n"
          ],
          "name": "stdout"
        },
        {
          "output_type": "display_data",
          "data": {
            "application/vnd.jupyter.widget-view+json": {
              "model_id": "4465e3f592b543d6bb59a857815ea05b",
              "version_minor": 0,
              "version_major": 2
            },
            "text/plain": [
              "HBox(children=(FloatProgress(value=0.0, max=38.0), HTML(value='')))"
            ]
          },
          "metadata": {
            "tags": []
          }
        },
        {
          "output_type": "stream",
          "text": [
            "\n"
          ],
          "name": "stdout"
        }
      ]
    },
    {
      "cell_type": "code",
      "metadata": {
        "id": "1_VQJ0y6zcLh",
        "colab_type": "code",
        "colab": {}
      },
      "source": [
        "data = pd.concat([data, try_bert], axis=1)"
      ],
      "execution_count": 0,
      "outputs": []
    },
    {
      "cell_type": "code",
      "metadata": {
        "id": "XtouboP34uov",
        "colab_type": "code",
        "colab": {}
      },
      "source": [
        "with open('/content/drive/My Drive/studies/HSE/science/Schizophrenia_private/Schizo_НЦПЗ/Транскрипты/applied.pickle', 'wb') as f:\n",
        "  pickle.dump(data, f)"
      ],
      "execution_count": 0,
      "outputs": []
    },
    {
      "cell_type": "markdown",
      "metadata": {
        "id": "k41nNb1p1Ved",
        "colab_type": "text"
      },
      "source": [
        "# WRAP IT UP"
      ]
    },
    {
      "cell_type": "code",
      "metadata": {
        "id": "RmxQWk0wguk1",
        "colab_type": "code",
        "colab": {}
      },
      "source": [
        "class Embedder:\n",
        "  \"\"\"\n",
        "  embedds sentences in a text column in a df with elmo_transform method\n",
        "  \"\"\"\n",
        "\n",
        "  def __init__(self, df, text_column='text', sent_sep='\\n', do_tokenize=True, do_lemmatize=True, lemmatizer='mystem'):\n",
        "    \"\"\"\n",
        "    preprocesses each text in a text column of pandas DataFrame with set parametrs into a list of sentences - lists of preprocessed words\n",
        "\n",
        "    :param df: pd.DataFrame, contatining a column with texts\n",
        "    :param text_column: str, name of the text column in df, optional, default 'text'\n",
        "    :param sent_sep: str, symbol separating sentences in the texts, optional, default '/n'\n",
        "    :param do_tokenize: bool, whether to tokenize words in the text column, optional, default True,\n",
        "                        if set to False, text_column must be tokens (list of lists of str)\n",
        "    :param do_lemmatize: bool, whether to lemmatize words in the text column, optional, default True\n",
        "    :param lemmatizer: str, 'mystem' or 'pymorphy', method to be used, optional, default='mystem'\n",
        "    \"\"\"\n",
        "    self.tokenized = do_tokenize\n",
        "    self.lemmatized = do_lemmatize\n",
        "    self.df = df\n",
        "    if self.tokenized:\n",
        "      self.df['sentence_tokens'] = self.df[text_column].apply(lambda s: [self.tokenize(sent) for sent in s.split(sent_sep)])\n",
        "    else:\n",
        "      self.df['sentence_tokens'] = self.df[text_column]\n",
        "    if self.lemmatized:\n",
        "      self.df['sentence_lemmas'] = self.df['sentence_tokens'].apply(lambda sentence_list: [self.lemmatize(sent, method=lemmatizer) for sent in sentence_list])\n",
        "  \n",
        "\n",
        "  @staticmethod\n",
        "  def tokenize(text): \n",
        "    \"\"\"\n",
        "    cleans a text of punctuation and case\n",
        "    \n",
        "    :param text: str to be cleaned\n",
        "    :return: list of str (words) in lowercase and stripped of punctuation\n",
        "    \"\"\"\n",
        "    low = text.lower()\n",
        "    stripped = re.sub('«|»|„|“|!|\\.|,|#|$|%|\\\\|\\'|\\(|\\)|\\+|\\*|/|\\:|;|<|>|=|\\?|\\[|\\]|@|^|_|`|{|}|~', '', low)\n",
        "    words = stripped.split()\n",
        "    return words\n",
        "  \n",
        "\n",
        "  @staticmethod\n",
        "  def lemmatize(words, method='mystem'):\n",
        "    \"\"\"\n",
        "    lemmatizes string using MyStem or PyMorphy\n",
        "    \n",
        "    :param words: list of str, words to be lemmatized\n",
        "    :param method: str, 'mystem' or 'pymorphy', method to be used, optional, default='mystem'\n",
        "    :return: list of str, lemmatized words (strings)\n",
        "    \"\"\"\n",
        "    if method == 'mystem':\n",
        "      return [mystem_analyzer.lemmatize(word)[0] for word in words]\n",
        "    else:\n",
        "      return [morph.parse(word)[0].normal_form for word in words]\n",
        "\n",
        "\n",
        "  @staticmethod\n",
        "  def get_elmo_vector(elmo, tokens, method='sum'):\n",
        "    \"\"\"\n",
        "    embedds a list of tokens with elmo model using some combination of 3 layers\n",
        "\n",
        "    :param elmo: trained allennlp.ElmoEmbedder model\n",
        "    :param tokens: list of str, tokens to embed\n",
        "    :param method: {0, 1, 2,'sum', 'mean'}, layer to use or a method of combining layers\n",
        "    :return: np.ndarray of shape (len(tokens), embedding_dim) \n",
        "    \"\"\"\n",
        "    vectors = elmo.embed_sentence(tokens)\n",
        "    if type(method) == int and method < 3:\n",
        "      X = []\n",
        "      for vector in vectors[method]:\n",
        "        X.append(vector)\n",
        "      return np.array(X)\n",
        "    # combine 3 layers of representation\n",
        "    if method == 'mean':\n",
        "      return np.mean(vectors, axis=0)  \n",
        "    if method == 'sum':\n",
        "      return np.sum(vectors, axis=0)\n",
        "  \n",
        "\n",
        "  def embed_sentences_elmo(self, elmo, sent_list, method='sum'):\n",
        "    \"\"\"\n",
        "    embedds several sentences with elmo\n",
        "\n",
        "    :param elmo: trained allennlp.ElmoEmbedder model\n",
        "    :param sent_list: list of list of str, list of sentences\n",
        "    :param method: {0, 1, 2,'sum', 'mean'}, layer to use or a method of combining layers\n",
        "    :return: list of np.ndarrays, sentence embeddings list\n",
        "    \"\"\"\n",
        "    return [self.get_elmo_vector(elmo, sent, method=method) for sent in sent_list]\n",
        "  \n",
        "\n",
        "  def elmo_transform(self, elmo, method='sum'):\n",
        "    if self.lemmatized:\n",
        "      self.df['elmo'] = self.df['sentence_lemmas'].apply(lambda sent_list: self.embed_sentences_elmo(elmo, sent_list, method=method))\n",
        "    else:\n",
        "      self.df['elmo'] = self.df['sentence_tokens'].apply(lambda sent_list: self.embed_sentences_elmo(elmo, sent_list, method=method))\n",
        "    return self.df"
      ],
      "execution_count": 0,
      "outputs": []
    },
    {
      "cell_type": "code",
      "metadata": {
        "id": "DE9KpKQMyTni",
        "colab_type": "code",
        "outputId": "cfdd4049-38bd-482f-963d-a6390b4a29e2",
        "colab": {
          "base_uri": "https://localhost:8080/",
          "height": 194
        }
      },
      "source": [
        "ex_df = sample.drop(['sentence_tokens'], axis=1)\n",
        "ex_emb = Embedder(ex_df, text_column='raw_text', do_lemmatize=False)\n",
        "ex_df = ex_emb.elmo_transform(Elmo, method=1)\n",
        "display(ex_df.head())"
      ],
      "execution_count": 0,
      "outputs": [
        {
          "output_type": "display_data",
          "data": {
            "text/html": [
              "<div>\n",
              "<style scoped>\n",
              "    .dataframe tbody tr th:only-of-type {\n",
              "        vertical-align: middle;\n",
              "    }\n",
              "\n",
              "    .dataframe tbody tr th {\n",
              "        vertical-align: top;\n",
              "    }\n",
              "\n",
              "    .dataframe thead th {\n",
              "        text-align: right;\n",
              "    }\n",
              "</style>\n",
              "<table border=\"1\" class=\"dataframe\">\n",
              "  <thead>\n",
              "    <tr style=\"text-align: right;\">\n",
              "      <th></th>\n",
              "      <th>ID</th>\n",
              "      <th>raw_text</th>\n",
              "      <th>group</th>\n",
              "      <th>sentence_tokens</th>\n",
              "      <th>elmo</th>\n",
              "    </tr>\n",
              "  </thead>\n",
              "  <tbody>\n",
              "    <tr>\n",
              "      <th>0</th>\n",
              "      <td>SP-01</td>\n",
              "      <td>сюжет фильм заключаться в то что наступить пор...</td>\n",
              "      <td>SP</td>\n",
              "      <td>[[сюжет, фильм, заключаться, в, то, что, насту...</td>\n",
              "      <td>[[[0.035693854, -0.7122531, -0.87258226, -0.39...</td>\n",
              "    </tr>\n",
              "    <tr>\n",
              "      <th>1</th>\n",
              "      <td>HP-05</td>\n",
              "      <td>показывать сельский местность\\nмужчина собират...</td>\n",
              "      <td>HP</td>\n",
              "      <td>[[показывать, сельский, местность], [мужчина, ...</td>\n",
              "      <td>[[[-0.25193098, 0.4202735, 1.0073695, -0.01883...</td>\n",
              "    </tr>\n",
              "    <tr>\n",
              "      <th>2</th>\n",
              "      <td>HP-22</td>\n",
              "      <td>ну да ну в общее вот фильм такой вот\\nну либо ...</td>\n",
              "      <td>HP</td>\n",
              "      <td>[[ну, да, ну, в, общее, вот, фильм, такой, вот...</td>\n",
              "      <td>[[[-0.28518915, 0.0056384057, 0.16315809, 0.44...</td>\n",
              "    </tr>\n",
              "    <tr>\n",
              "      <th>3</th>\n",
              "      <td>SP-06</td>\n",
              "      <td>утро\\nв деревня петь петух\\nсадовник залезть н...</td>\n",
              "      <td>SP</td>\n",
              "      <td>[[утро], [в, деревня, петь, петух], [садовник,...</td>\n",
              "      <td>[[[-0.10642812, 0.66782767, 0.4750589, 0.12549...</td>\n",
              "    </tr>\n",
              "    <tr>\n",
              "      <th>4</th>\n",
              "      <td>HP-25</td>\n",
              "      <td>действие происходить на юг\\nмужчина с ус собир...</td>\n",
              "      <td>HP</td>\n",
              "      <td>[[действие, происходить, на, юг], [мужчина, с,...</td>\n",
              "      <td>[[[-0.37100142, -0.42364067, -0.27036995, -0.2...</td>\n",
              "    </tr>\n",
              "  </tbody>\n",
              "</table>\n",
              "</div>"
            ],
            "text/plain": [
              "      ID  ...                                               elmo\n",
              "0  SP-01  ...  [[[0.035693854, -0.7122531, -0.87258226, -0.39...\n",
              "1  HP-05  ...  [[[-0.25193098, 0.4202735, 1.0073695, -0.01883...\n",
              "2  HP-22  ...  [[[-0.28518915, 0.0056384057, 0.16315809, 0.44...\n",
              "3  SP-06  ...  [[[-0.10642812, 0.66782767, 0.4750589, 0.12549...\n",
              "4  HP-25  ...  [[[-0.37100142, -0.42364067, -0.27036995, -0.2...\n",
              "\n",
              "[5 rows x 5 columns]"
            ]
          },
          "metadata": {
            "tags": []
          }
        }
      ]
    },
    {
      "cell_type": "markdown",
      "metadata": {
        "id": "DoAmAQZ32oF4",
        "colab_type": "text"
      },
      "source": [
        "## **TODO:**\n",
        "- **add word2sent level based on the article**\n",
        "- **add w2v & OOV handler**\n",
        "- **add fasttext**"
      ]
    }
  ]
}